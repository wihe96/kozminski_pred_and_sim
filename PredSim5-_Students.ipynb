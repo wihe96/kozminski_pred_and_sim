{
 "cells": [
  {
   "cell_type": "code",
   "execution_count": 1,
   "metadata": {},
   "outputs": [],
   "source": [
    "import pandas as pd\n",
    "import numpy as np\n",
    "import statsmodels.formula.api as sm\n",
    "import seaborn as sns "
   ]
  },
  {
   "cell_type": "code",
   "execution_count": 2,
   "metadata": {},
   "outputs": [],
   "source": [
    "df = pd.read_csv(\"AirPassengers.csv\")"
   ]
  },
  {
   "cell_type": "code",
   "execution_count": 3,
   "metadata": {},
   "outputs": [],
   "source": [
    "df['Month'] = pd.to_datetime(df['Month'], format='%Y-%m')\n",
    "df.index = df['Month']\n",
    "del df['Month']\n",
    "df.rename(columns={\"#Passengers\": \"Passengers\"}, inplace=True)"
   ]
  },
  {
   "cell_type": "code",
   "execution_count": 4,
   "metadata": {},
   "outputs": [],
   "source": [
    "df['Trend'] = range(1,len(df)+1)\n",
    "df['MonthNum'] = df.index.month\n",
    "df['LogPassengers'] = np.log(df.Passengers)"
   ]
  },
  {
   "cell_type": "markdown",
   "metadata": {},
   "source": [
    "Getting out-of sample predictions from the Statsmodels formula API"
   ]
  },
  {
   "cell_type": "code",
   "execution_count": 5,
   "metadata": {},
   "outputs": [],
   "source": [
    "df_ft = df[0:-12]"
   ]
  },
  {
   "cell_type": "code",
   "execution_count": 6,
   "metadata": {},
   "outputs": [
    {
     "data": {
      "text/html": [
       "<table class=\"simpletable\">\n",
       "<caption>OLS Regression Results</caption>\n",
       "<tr>\n",
       "  <th>Dep. Variable:</th>      <td>LogPassengers</td>  <th>  R-squared:         </th> <td>   0.983</td>\n",
       "</tr>\n",
       "<tr>\n",
       "  <th>Model:</th>                   <td>OLS</td>       <th>  Adj. R-squared:    </th> <td>   0.981</td>\n",
       "</tr>\n",
       "<tr>\n",
       "  <th>Method:</th>             <td>Least Squares</td>  <th>  F-statistic:       </th> <td>   564.3</td>\n",
       "</tr>\n",
       "<tr>\n",
       "  <th>Date:</th>             <td>Tue, 31 May 2022</td> <th>  Prob (F-statistic):</th> <td>9.62e-99</td>\n",
       "</tr>\n",
       "<tr>\n",
       "  <th>Time:</th>                 <td>14:09:26</td>     <th>  Log-Likelihood:    </th> <td>  196.78</td>\n",
       "</tr>\n",
       "<tr>\n",
       "  <th>No. Observations:</th>      <td>   132</td>      <th>  AIC:               </th> <td>  -367.6</td>\n",
       "</tr>\n",
       "<tr>\n",
       "  <th>Df Residuals:</th>          <td>   119</td>      <th>  BIC:               </th> <td>  -330.1</td>\n",
       "</tr>\n",
       "<tr>\n",
       "  <th>Df Model:</th>              <td>    12</td>      <th>                     </th>     <td> </td>   \n",
       "</tr>\n",
       "<tr>\n",
       "  <th>Covariance Type:</th>      <td>nonrobust</td>    <th>                     </th>     <td> </td>   \n",
       "</tr>\n",
       "</table>\n",
       "<table class=\"simpletable\">\n",
       "<tr>\n",
       "          <td></td>             <th>coef</th>     <th>std err</th>      <th>t</th>      <th>P>|t|</th>  <th>[0.025</th>    <th>0.975]</th>  \n",
       "</tr>\n",
       "<tr>\n",
       "  <th>Intercept</th>         <td>    4.7152</td> <td>    0.019</td> <td>  247.172</td> <td> 0.000</td> <td>    4.677</td> <td>    4.753</td>\n",
       "</tr>\n",
       "<tr>\n",
       "  <th>C(MonthNum)[T.2]</th>  <td>   -0.0175</td> <td>    0.024</td> <td>   -0.716</td> <td> 0.475</td> <td>   -0.066</td> <td>    0.031</td>\n",
       "</tr>\n",
       "<tr>\n",
       "  <th>C(MonthNum)[T.3]</th>  <td>    0.1189</td> <td>    0.024</td> <td>    4.859</td> <td> 0.000</td> <td>    0.070</td> <td>    0.167</td>\n",
       "</tr>\n",
       "<tr>\n",
       "  <th>C(MonthNum)[T.4]</th>  <td>    0.0768</td> <td>    0.024</td> <td>    3.138</td> <td> 0.002</td> <td>    0.028</td> <td>    0.125</td>\n",
       "</tr>\n",
       "<tr>\n",
       "  <th>C(MonthNum)[T.5]</th>  <td>    0.0728</td> <td>    0.024</td> <td>    2.972</td> <td> 0.004</td> <td>    0.024</td> <td>    0.121</td>\n",
       "</tr>\n",
       "<tr>\n",
       "  <th>C(MonthNum)[T.6]</th>  <td>    0.1953</td> <td>    0.024</td> <td>    7.977</td> <td> 0.000</td> <td>    0.147</td> <td>    0.244</td>\n",
       "</tr>\n",
       "<tr>\n",
       "  <th>C(MonthNum)[T.7]</th>  <td>    0.2957</td> <td>    0.024</td> <td>   12.075</td> <td> 0.000</td> <td>    0.247</td> <td>    0.344</td>\n",
       "</tr>\n",
       "<tr>\n",
       "  <th>C(MonthNum)[T.8]</th>  <td>    0.2886</td> <td>    0.024</td> <td>   11.783</td> <td> 0.000</td> <td>    0.240</td> <td>    0.337</td>\n",
       "</tr>\n",
       "<tr>\n",
       "  <th>C(MonthNum)[T.9]</th>  <td>    0.1475</td> <td>    0.024</td> <td>    6.021</td> <td> 0.000</td> <td>    0.099</td> <td>    0.196</td>\n",
       "</tr>\n",
       "<tr>\n",
       "  <th>C(MonthNum)[T.10]</th> <td>    0.0063</td> <td>    0.025</td> <td>    0.256</td> <td> 0.798</td> <td>   -0.042</td> <td>    0.055</td>\n",
       "</tr>\n",
       "<tr>\n",
       "  <th>C(MonthNum)[T.11]</th> <td>   -0.1346</td> <td>    0.025</td> <td>   -5.493</td> <td> 0.000</td> <td>   -0.183</td> <td>   -0.086</td>\n",
       "</tr>\n",
       "<tr>\n",
       "  <th>C(MonthNum)[T.12]</th> <td>   -0.0190</td> <td>    0.025</td> <td>   -0.776</td> <td> 0.439</td> <td>   -0.068</td> <td>    0.030</td>\n",
       "</tr>\n",
       "<tr>\n",
       "  <th>Trend</th>             <td>    0.0103</td> <td>    0.000</td> <td>   78.302</td> <td> 0.000</td> <td>    0.010</td> <td>    0.011</td>\n",
       "</tr>\n",
       "</table>\n",
       "<table class=\"simpletable\">\n",
       "<tr>\n",
       "  <th>Omnibus:</th>       <td> 3.685</td> <th>  Durbin-Watson:     </th> <td>   0.421</td>\n",
       "</tr>\n",
       "<tr>\n",
       "  <th>Prob(Omnibus):</th> <td> 0.158</td> <th>  Jarque-Bera (JB):  </th> <td>   2.891</td>\n",
       "</tr>\n",
       "<tr>\n",
       "  <th>Skew:</th>          <td>-0.236</td> <th>  Prob(JB):          </th> <td>   0.236</td>\n",
       "</tr>\n",
       "<tr>\n",
       "  <th>Kurtosis:</th>      <td> 2.450</td> <th>  Cond. No.          </th> <td>    955.</td>\n",
       "</tr>\n",
       "</table><br/><br/>Notes:<br/>[1] Standard Errors assume that the covariance matrix of the errors is correctly specified."
      ],
      "text/plain": [
       "<class 'statsmodels.iolib.summary.Summary'>\n",
       "\"\"\"\n",
       "                            OLS Regression Results                            \n",
       "==============================================================================\n",
       "Dep. Variable:          LogPassengers   R-squared:                       0.983\n",
       "Model:                            OLS   Adj. R-squared:                  0.981\n",
       "Method:                 Least Squares   F-statistic:                     564.3\n",
       "Date:                Tue, 31 May 2022   Prob (F-statistic):           9.62e-99\n",
       "Time:                        14:09:26   Log-Likelihood:                 196.78\n",
       "No. Observations:                 132   AIC:                            -367.6\n",
       "Df Residuals:                     119   BIC:                            -330.1\n",
       "Df Model:                          12                                         \n",
       "Covariance Type:            nonrobust                                         \n",
       "=====================================================================================\n",
       "                        coef    std err          t      P>|t|      [0.025      0.975]\n",
       "-------------------------------------------------------------------------------------\n",
       "Intercept             4.7152      0.019    247.172      0.000       4.677       4.753\n",
       "C(MonthNum)[T.2]     -0.0175      0.024     -0.716      0.475      -0.066       0.031\n",
       "C(MonthNum)[T.3]      0.1189      0.024      4.859      0.000       0.070       0.167\n",
       "C(MonthNum)[T.4]      0.0768      0.024      3.138      0.002       0.028       0.125\n",
       "C(MonthNum)[T.5]      0.0728      0.024      2.972      0.004       0.024       0.121\n",
       "C(MonthNum)[T.6]      0.1953      0.024      7.977      0.000       0.147       0.244\n",
       "C(MonthNum)[T.7]      0.2957      0.024     12.075      0.000       0.247       0.344\n",
       "C(MonthNum)[T.8]      0.2886      0.024     11.783      0.000       0.240       0.337\n",
       "C(MonthNum)[T.9]      0.1475      0.024      6.021      0.000       0.099       0.196\n",
       "C(MonthNum)[T.10]     0.0063      0.025      0.256      0.798      -0.042       0.055\n",
       "C(MonthNum)[T.11]    -0.1346      0.025     -5.493      0.000      -0.183      -0.086\n",
       "C(MonthNum)[T.12]    -0.0190      0.025     -0.776      0.439      -0.068       0.030\n",
       "Trend                 0.0103      0.000     78.302      0.000       0.010       0.011\n",
       "==============================================================================\n",
       "Omnibus:                        3.685   Durbin-Watson:                   0.421\n",
       "Prob(Omnibus):                  0.158   Jarque-Bera (JB):                2.891\n",
       "Skew:                          -0.236   Prob(JB):                        0.236\n",
       "Kurtosis:                       2.450   Cond. No.                         955.\n",
       "==============================================================================\n",
       "\n",
       "Notes:\n",
       "[1] Standard Errors assume that the covariance matrix of the errors is correctly specified.\n",
       "\"\"\""
      ]
     },
     "execution_count": 6,
     "metadata": {},
     "output_type": "execute_result"
    }
   ],
   "source": [
    "model = sm.ols(formula=\"LogPassengers ~ Trend + C(MonthNum)\", data=df_ft)\n",
    "results = model.fit()\n",
    "results.summary()"
   ]
  },
  {
   "cell_type": "code",
   "execution_count": 7,
   "metadata": {},
   "outputs": [
    {
     "data": {
      "text/plain": [
       "Month\n",
       "1949-01-01    4.725516\n",
       "1949-02-01    4.718293\n",
       "1949-03-01    4.865056\n",
       "1949-04-01    4.833244\n",
       "1949-05-01    4.839496\n",
       "                ...   \n",
       "1960-08-01    6.446816\n",
       "1960-09-01    6.316053\n",
       "1960-10-01    6.185145\n",
       "1960-11-01    6.054551\n",
       "1960-12-01    6.180453\n",
       "Length: 144, dtype: float64"
      ]
     },
     "execution_count": 7,
     "metadata": {},
     "output_type": "execute_result"
    }
   ],
   "source": [
    "results.predict(df)"
   ]
  },
  {
   "cell_type": "code",
   "execution_count": 8,
   "metadata": {},
   "outputs": [],
   "source": [
    "df['Psg_OOS'] = np.exp(results.predict(df))"
   ]
  },
  {
   "cell_type": "code",
   "execution_count": 9,
   "metadata": {},
   "outputs": [
    {
     "data": {
      "text/plain": [
       "<AxesSubplot:xlabel='Month'>"
      ]
     },
     "execution_count": 9,
     "metadata": {},
     "output_type": "execute_result"
    },
    {
     "data": {
      "image/png": "[encoded data removed]",
      "text/plain": [
       "<Figure size 432x288 with 1 Axes>"
      ]
     },
     "metadata": {
      "needs_background": "light"
     },
     "output_type": "display_data"
    }
   ],
   "source": [
    "dfplot = df.filter(['Passengers', 'Psg_OOS'])\n",
    "sns.lineplot(data=dfplot)"
   ]
  },
  {
   "cell_type": "markdown",
   "metadata": {},
   "source": [
    "Calculate the errors for the in-sample part and the out-of-sample part separately."
   ]
  },
  {
   "cell_type": "code",
   "execution_count": 10,
   "metadata": {},
   "outputs": [],
   "source": [
    "from scipy.stats import spearmanr"
   ]
  },
  {
   "cell_type": "code",
   "execution_count": 11,
   "metadata": {},
   "outputs": [],
   "source": [
    "# dividing the data into the in-sample and out-of-sample periods\n",
    "y_in = df.Passengers[0:-12]\n",
    "y_out = df.Passengers.tail(12)\n",
    "pred_in = df.Psg_OOS[0:-12]\n",
    "pred_out = df.Psg_OOS.tail(12)"
   ]
  },
  {
   "cell_type": "code",
   "execution_count": 12,
   "metadata": {},
   "outputs": [],
   "source": [
    "# putting the objects into lists\n",
    "ys = [y_in, y_out]\n",
    "preds = [pred_in, pred_out]\n",
    "descr = ['IN', 'OUT']"
   ]
  },
  {
   "cell_type": "code",
   "execution_count": 13,
   "metadata": {},
   "outputs": [
    {
     "name": "stdout",
     "output_type": "stream",
     "text": [
      "IN error is: 0.06018080309817418\n",
      "OUT error is: -35.04822354009142\n"
     ]
    }
   ],
   "source": [
    "# Mean Error\n",
    "for y, p, d in zip(ys, preds, descr):\n",
    "    err = np.mean(y-p)\n",
    "    print(f\"{d} error is: {err}\")"
   ]
  },
  {
   "cell_type": "code",
   "execution_count": 14,
   "metadata": {},
   "outputs": [
    {
     "name": "stdout",
     "output_type": "stream",
     "text": [
      "IN error is: 11.848410698267685\n",
      "OUT error is: 35.04822354009142\n"
     ]
    }
   ],
   "source": [
    "# Mean Absolute Error\n",
    "for y, p, d in zip(ys, preds, descr):\n",
    "    err = np.mean(np.abs(y-p))\n",
    "    print(f\"{d} error is: {err}\")"
   ]
  },
  {
   "cell_type": "code",
   "execution_count": 15,
   "metadata": {},
   "outputs": [
    {
     "name": "stdout",
     "output_type": "stream",
     "text": [
      "IN error is: 239.84593819965494\n",
      "OUT error is: 1612.0334589044094\n"
     ]
    }
   ],
   "source": [
    "# Mean Squared Error\n",
    "for y, p, d in zip(ys, preds, descr):\n",
    "    err = np.mean((y-p)**2)\n",
    "    print(f\"{d} error is: {err}\")"
   ]
  },
  {
   "cell_type": "code",
   "execution_count": 16,
   "metadata": {},
   "outputs": [
    {
     "name": "stdout",
     "output_type": "stream",
     "text": [
      "IN error is: 15.486960263384644\n",
      "OUT error is: 40.1501364742937\n"
     ]
    }
   ],
   "source": [
    "# Root Mean Squared Error\n",
    "for y, p, d in zip(ys, preds, descr):\n",
    "    err = np.sqrt(np.mean((y-p)**2))\n",
    "    print(f\"{d} error is: {err}\")"
   ]
  },
  {
   "cell_type": "code",
   "execution_count": 17,
   "metadata": {},
   "outputs": [
    {
     "name": "stdout",
     "output_type": "stream",
     "text": [
      "IN error is: 0.1479236234345939\n",
      "OUT error is: -7.084615364140211\n"
     ]
    }
   ],
   "source": [
    "# Mean Percentage Error\n",
    "for y, p, d in zip(ys, preds, descr):\n",
    "    err = np.mean((y-p)/p)*100\n",
    "    print(f\"{d} error is: {err}\")"
   ]
  },
  {
   "cell_type": "code",
   "execution_count": 18,
   "metadata": {},
   "outputs": [
    {
     "name": "stdout",
     "output_type": "stream",
     "text": [
      "IN error is: 4.473354932000654\n",
      "OUT error is: 7.084615364140211\n"
     ]
    }
   ],
   "source": [
    "# Mean Absolute Percentage Error\n",
    "for y, p, d in zip(ys, preds, descr):\n",
    "    err = np.mean(np.abs((y-p)/p))*100\n",
    "    print(f\"{d} error is: {err}\")"
   ]
  },
  {
   "cell_type": "code",
   "execution_count": 19,
   "metadata": {},
   "outputs": [
    {
     "name": "stdout",
     "output_type": "stream",
     "text": [
      "IN Rank correlation is: SpearmanrResult(correlation=0.9902685418682643, pvalue=3.229528210128145e-113)\n",
      "OUT Rank correlation is: SpearmanrResult(correlation=0.9211923058649254, pvalue=2.0949776212051888e-05)\n"
     ]
    }
   ],
   "source": [
    "# Rank correlation - not going to do this manually, that is too cruel, sorry\n",
    "for y, p, d in zip(ys, preds, descr):\n",
    "    err = spearmanr(y, p)\n",
    "    print(f\"{d} Rank correlation is: {err}\")\n",
    "\n",
    "# By the way - doing that on nominal values is controversial, at least for time series: you need to understand well what it does."
   ]
  },
  {
   "cell_type": "code",
   "execution_count": 20,
   "metadata": {},
   "outputs": [
    {
     "name": "stdout",
     "output_type": "stream",
     "text": [
      "IN Rank correlation is: SpearmanrResult(correlation=0.9561147095443893, pvalue=1.228825955409713e-70)\n",
      "OUT Rank correlation is: SpearmanrResult(correlation=0.8200476856407692, pvalue=0.0019943604695931527)\n"
     ]
    }
   ],
   "source": [
    "# Rank correlation on nominal changes\n",
    "for y, p, d in zip(ys, preds, descr):\n",
    "    err = spearmanr(y.diff(periods=1), p.diff(periods = 1), nan_policy = 'omit')\n",
    "    print(f\"{d} Rank correlation is: {err}\")\n",
    "\n",
    "# We need to omit the NAs, lest we get nan as a result.\n",
    "# You could do it on percentage changes, too."
   ]
  },
  {
   "cell_type": "code",
   "execution_count": 21,
   "metadata": {},
   "outputs": [
    {
     "name": "stdout",
     "output_type": "stream",
     "text": [
      "IN Mean directional accuracy is 0.8712121212121212\n",
      "OUT Mean directional accuracy is 0.75\n"
     ]
    }
   ],
   "source": [
    "# Mean directional accuracy\n",
    "for y, p, d in zip(ys, preds, descr):\n",
    "    err = np.mean(np.sign(y.diff(periods=1)) == np.sign(p.diff(periods = 1)))\n",
    "    print(f\"{d} Mean directional accuracy is {err}\")"
   ]
  },
  {
   "cell_type": "code",
   "execution_count": 22,
   "metadata": {},
   "outputs": [
    {
     "name": "stdout",
     "output_type": "stream",
     "text": [
      "IN Error is: 0.49571797533164336\n",
      "OUT Error is: 0.7920502494935914\n"
     ]
    }
   ],
   "source": [
    "# Mean absolute scaled error\n",
    "for y, p, d in zip(ys, preds, descr):\n",
    "    scl = np.abs(y.diff(periods=1)).sum()\n",
    "    err = np.sum(np.abs(y-p)/scl)\n",
    "    print(f\"{d} Error is: {err}\")"
   ]
  }
 ],
 "metadata": {
  "interpreter": {
   "hash": "19c37f886767756f67415f9e442ffaf80c10b08435ba70e61422da55727855af"
  },
  "kernelspec": {
   "display_name": "Python 3.9.13 64-bit",
   "language": "python",
   "name": "python3"
  },
  "language_info": {
   "codemirror_mode": {
    "name": "ipython",
    "version": 3
   },
   "file_extension": ".py",
   "mimetype": "text/x-python",
   "name": "python",
   "nbconvert_exporter": "python",
   "pygments_lexer": "ipython3",
   "version": "3.9.13"
  },
  "orig_nbformat": 4
 },
 "nbformat": 4,
 "nbformat_minor": 2
}
