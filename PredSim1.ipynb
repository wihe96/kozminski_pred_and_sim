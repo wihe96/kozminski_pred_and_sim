{
 "cells": [
  {
   "cell_type": "code",
   "execution_count": 2,
   "metadata": {},
   "outputs": [
    {
     "name": "stdout",
     "output_type": "stream",
     "text": [
      "Requirement already satisfied: pmdarima in c:\\users\\wh\\anaconda3_python\\lib\\site-packages (1.8.5)\n",
      "Requirement already satisfied: joblib>=0.11 in c:\\users\\wh\\anaconda3_python\\lib\\site-packages (from pmdarima) (1.1.0)\n",
      "Requirement already satisfied: pandas>=0.19 in c:\\users\\wh\\anaconda3_python\\lib\\site-packages (from pmdarima) (1.3.4)\n",
      "Requirement already satisfied: Cython!=0.29.18,>=0.29 in c:\\users\\wh\\anaconda3_python\\lib\\site-packages (from pmdarima) (0.29.24)\n",
      "Requirement already satisfied: urllib3 in c:\\users\\wh\\anaconda3_python\\lib\\site-packages (from pmdarima) (1.26.7)\n",
      "Requirement already satisfied: numpy>=1.19.3 in c:\\users\\wh\\anaconda3_python\\lib\\site-packages (from pmdarima) (1.20.3)\n",
      "Requirement already satisfied: scikit-learn>=0.22 in c:\\users\\wh\\anaconda3_python\\lib\\site-packages (from pmdarima) (0.24.2)\n",
      "Requirement already satisfied: setuptools!=50.0.0,>=38.6.0 in c:\\users\\wh\\anaconda3_python\\lib\\site-packages (from pmdarima) (58.0.4)\n",
      "Requirement already satisfied: statsmodels!=0.12.0,>=0.11 in c:\\users\\wh\\anaconda3_python\\lib\\site-packages (from pmdarima) (0.12.2)\n",
      "Requirement already satisfied: scipy>=1.3.2 in c:\\users\\wh\\anaconda3_python\\lib\\site-packages (from pmdarima) (1.7.1)\n",
      "Requirement already satisfied: python-dateutil>=2.7.3 in c:\\users\\wh\\anaconda3_python\\lib\\site-packages (from pandas>=0.19->pmdarima) (2.8.2)\n",
      "Requirement already satisfied: pytz>=2017.3 in c:\\users\\wh\\anaconda3_python\\lib\\site-packages (from pandas>=0.19->pmdarima) (2021.3)\n",
      "Requirement already satisfied: six>=1.5 in c:\\users\\wh\\anaconda3_python\\lib\\site-packages (from python-dateutil>=2.7.3->pandas>=0.19->pmdarima) (1.16.0)\n",
      "Requirement already satisfied: threadpoolctl>=2.0.0 in c:\\users\\wh\\anaconda3_python\\lib\\site-packages (from scikit-learn>=0.22->pmdarima) (2.2.0)\n",
      "Requirement already satisfied: patsy>=0.5 in c:\\users\\wh\\anaconda3_python\\lib\\site-packages (from statsmodels!=0.12.0,>=0.11->pmdarima) (0.5.2)\n",
      "Note: you may need to restart the kernel to use updated packages.\n"
     ]
    }
   ],
   "source": [
    "pip install pmdarima\n"
   ]
  },
  {
   "cell_type": "code",
   "execution_count": 3,
   "metadata": {},
   "outputs": [],
   "source": [
    "import numpy as np\n",
    "import pandas as pd\n",
    "import matplotlib.pyplot as plt\n",
    "import seaborn as sns\n",
    "import statsmodels as sm\n",
    "import pmdarima as pm\n"
   ]
  },
  {
   "cell_type": "code",
   "execution_count": 4,
   "metadata": {},
   "outputs": [],
   "source": [
    "df = pd.read_csv (\"AirPassengers.csv\")"
   ]
  },
  {
   "cell_type": "code",
   "execution_count": 5,
   "metadata": {},
   "outputs": [
    {
     "data": {
      "text/plain": [
       "<bound method NDFrame.head of        Month  #Passengers\n",
       "0    1949-01          112\n",
       "1    1949-02          118\n",
       "2    1949-03          132\n",
       "3    1949-04          129\n",
       "4    1949-05          121\n",
       "..       ...          ...\n",
       "139  1960-08          606\n",
       "140  1960-09          508\n",
       "141  1960-10          461\n",
       "142  1960-11          390\n",
       "143  1960-12          432\n",
       "\n",
       "[144 rows x 2 columns]>"
      ]
     },
     "execution_count": 5,
     "metadata": {},
     "output_type": "execute_result"
    }
   ],
   "source": [
    "df.head"
   ]
  },
  {
   "cell_type": "code",
   "execution_count": 6,
   "metadata": {},
   "outputs": [
    {
     "data": {
      "text/html": [
       "<div>\n",
       "<style scoped>\n",
       "    .dataframe tbody tr th:only-of-type {\n",
       "        vertical-align: middle;\n",
       "    }\n",
       "\n",
       "    .dataframe tbody tr th {\n",
       "        vertical-align: top;\n",
       "    }\n",
       "\n",
       "    .dataframe thead th {\n",
       "        text-align: right;\n",
       "    }\n",
       "</style>\n",
       "<table border=\"1\" class=\"dataframe\">\n",
       "  <thead>\n",
       "    <tr style=\"text-align: right;\">\n",
       "      <th></th>\n",
       "      <th>Month</th>\n",
       "      <th>#Passengers</th>\n",
       "    </tr>\n",
       "  </thead>\n",
       "  <tbody>\n",
       "    <tr>\n",
       "      <th>0</th>\n",
       "      <td>1949-01</td>\n",
       "      <td>112</td>\n",
       "    </tr>\n",
       "    <tr>\n",
       "      <th>1</th>\n",
       "      <td>1949-02</td>\n",
       "      <td>118</td>\n",
       "    </tr>\n",
       "  </tbody>\n",
       "</table>\n",
       "</div>"
      ],
      "text/plain": [
       "     Month  #Passengers\n",
       "0  1949-01          112\n",
       "1  1949-02          118"
      ]
     },
     "execution_count": 6,
     "metadata": {},
     "output_type": "execute_result"
    }
   ],
   "source": [
    "df[0:2]"
   ]
  },
  {
   "cell_type": "code",
   "execution_count": 7,
   "metadata": {},
   "outputs": [
    {
     "data": {
      "text/plain": [
       "<BarContainer object of 144 artists>"
      ]
     },
     "execution_count": 7,
     "metadata": {},
     "output_type": "execute_result"
    },
    {
     "data": {
      "image/png": "[encoded data removed]",
      "text/plain": [
       "<Figure size 432x288 with 1 Axes>"
      ]
     },
     "metadata": {
      "needs_background": "light"
     },
     "output_type": "display_data"
    }
   ],
   "source": [
    "month = df['Month']\n",
    "passengers = df['#Passengers']\n",
    "plt.bar(month, passengers)"
   ]
  },
  {
   "cell_type": "code",
   "execution_count": 8,
   "metadata": {},
   "outputs": [
    {
     "data": {
      "text/plain": [
       "<AxesSubplot:xlabel='Month', ylabel='#Passengers'>"
      ]
     },
     "execution_count": 8,
     "metadata": {},
     "output_type": "execute_result"
    },
    {
     "data": {
      "image/png": "[encoded data removed]",
      "text/plain": [
       "<Figure size 432x288 with 1 Axes>"
      ]
     },
     "metadata": {
      "needs_background": "light"
     },
     "output_type": "display_data"
    }
   ],
   "source": [
    "sns.lineplot(data = df, x = \"Month\", y = \"#Passengers\")\n"
   ]
  },
  {
   "cell_type": "code",
   "execution_count": 9,
   "metadata": {},
   "outputs": [
    {
     "data": {
      "text/plain": [
       "2.237762237762238"
      ]
     },
     "execution_count": 9,
     "metadata": {},
     "output_type": "execute_result"
    }
   ],
   "source": [
    "(df.iloc[-1,1]-df.iloc[0,1])/(len(df['#Passengers'])-1) #-1 because we shold not calcukate the starting period, so substract it"
   ]
  },
  {
   "cell_type": "code",
   "execution_count": 10,
   "metadata": {},
   "outputs": [
    {
     "data": {
      "text/plain": [
       "Month          object\n",
       "#Passengers     int64\n",
       "dtype: object"
      ]
     },
     "execution_count": 10,
     "metadata": {},
     "output_type": "execute_result"
    }
   ],
   "source": [
    "df.dtypes #checking the column types\n"
   ]
  },
  {
   "cell_type": "code",
   "execution_count": 11,
   "metadata": {},
   "outputs": [],
   "source": [
    "#change month to date \n",
    "df['Month'] = pd.to_datetime(df['Month'], format='%Y-%m')\n",
    "#puting month to index and deleting it as column\n",
    "df.index = df['Month']\n",
    "\n"
   ]
  },
  {
   "cell_type": "code",
   "execution_count": 12,
   "metadata": {},
   "outputs": [],
   "source": [
    "del df['Month']\n",
    "\n"
   ]
  },
  {
   "cell_type": "code",
   "execution_count": 13,
   "metadata": {},
   "outputs": [
    {
     "data": {
      "text/html": [
       "<div>\n",
       "<style scoped>\n",
       "    .dataframe tbody tr th:only-of-type {\n",
       "        vertical-align: middle;\n",
       "    }\n",
       "\n",
       "    .dataframe tbody tr th {\n",
       "        vertical-align: top;\n",
       "    }\n",
       "\n",
       "    .dataframe thead th {\n",
       "        text-align: right;\n",
       "    }\n",
       "</style>\n",
       "<table border=\"1\" class=\"dataframe\">\n",
       "  <thead>\n",
       "    <tr style=\"text-align: right;\">\n",
       "      <th></th>\n",
       "      <th>#Passengers</th>\n",
       "    </tr>\n",
       "    <tr>\n",
       "      <th>Month</th>\n",
       "      <th></th>\n",
       "    </tr>\n",
       "  </thead>\n",
       "  <tbody>\n",
       "    <tr>\n",
       "      <th>1949-01-01</th>\n",
       "      <td>112</td>\n",
       "    </tr>\n",
       "    <tr>\n",
       "      <th>1949-02-01</th>\n",
       "      <td>118</td>\n",
       "    </tr>\n",
       "    <tr>\n",
       "      <th>1949-03-01</th>\n",
       "      <td>132</td>\n",
       "    </tr>\n",
       "    <tr>\n",
       "      <th>1949-04-01</th>\n",
       "      <td>129</td>\n",
       "    </tr>\n",
       "    <tr>\n",
       "      <th>1949-05-01</th>\n",
       "      <td>121</td>\n",
       "    </tr>\n",
       "  </tbody>\n",
       "</table>\n",
       "</div>"
      ],
      "text/plain": [
       "            #Passengers\n",
       "Month                  \n",
       "1949-01-01          112\n",
       "1949-02-01          118\n",
       "1949-03-01          132\n",
       "1949-04-01          129\n",
       "1949-05-01          121"
      ]
     },
     "execution_count": 13,
     "metadata": {},
     "output_type": "execute_result"
    }
   ],
   "source": [
    "df.head()"
   ]
  },
  {
   "cell_type": "code",
   "execution_count": 14,
   "metadata": {},
   "outputs": [],
   "source": [
    "df.rename(columns={\"#Passengers\": \"Passengers\"}, inplace=True) #changing #Passengers to Passengers"
   ]
  },
  {
   "cell_type": "code",
   "execution_count": 15,
   "metadata": {},
   "outputs": [
    {
     "data": {
      "text/plain": [
       "<function matplotlib.pyplot.show(close=None, block=None)>"
      ]
     },
     "execution_count": 15,
     "metadata": {},
     "output_type": "execute_result"
    },
    {
     "data": {
      "image/png": "[encoded data removed]",
      "text/plain": [
       "<Figure size 432x288 with 1 Axes>"
      ]
     },
     "metadata": {
      "needs_background": "light"
     },
     "output_type": "display_data"
    }
   ],
   "source": [
    "plt.plot(df['Passengers'])\n",
    "plt.show"
   ]
  },
  {
   "cell_type": "code",
   "execution_count": 16,
   "metadata": {},
   "outputs": [],
   "source": [
    "#1st step:\n",
    "#Pandas dataframe with index = Month, and two columns:\n",
    "#Passengers\n",
    "#The line based on the calculated slope\n",
    "\n"
   ]
  },
  {
   "cell_type": "code",
   "execution_count": 17,
   "metadata": {},
   "outputs": [],
   "source": [
    "slope = (df.iloc[-1,0]-df.iloc[0,0])/(len(df['Passengers'])-1)  #calculating slope\n",
    "\n",
    "df['slope'] = df['Passengers'] + slope"
   ]
  },
  {
   "cell_type": "code",
   "execution_count": 18,
   "metadata": {},
   "outputs": [
    {
     "data": {
      "text/html": [
       "<div>\n",
       "<style scoped>\n",
       "    .dataframe tbody tr th:only-of-type {\n",
       "        vertical-align: middle;\n",
       "    }\n",
       "\n",
       "    .dataframe tbody tr th {\n",
       "        vertical-align: top;\n",
       "    }\n",
       "\n",
       "    .dataframe thead th {\n",
       "        text-align: right;\n",
       "    }\n",
       "</style>\n",
       "<table border=\"1\" class=\"dataframe\">\n",
       "  <thead>\n",
       "    <tr style=\"text-align: right;\">\n",
       "      <th></th>\n",
       "      <th>Passengers</th>\n",
       "      <th>slope</th>\n",
       "    </tr>\n",
       "    <tr>\n",
       "      <th>Month</th>\n",
       "      <th></th>\n",
       "      <th></th>\n",
       "    </tr>\n",
       "  </thead>\n",
       "  <tbody>\n",
       "    <tr>\n",
       "      <th>1949-01-01</th>\n",
       "      <td>112</td>\n",
       "      <td>114.237762</td>\n",
       "    </tr>\n",
       "    <tr>\n",
       "      <th>1949-02-01</th>\n",
       "      <td>118</td>\n",
       "      <td>120.237762</td>\n",
       "    </tr>\n",
       "    <tr>\n",
       "      <th>1949-03-01</th>\n",
       "      <td>132</td>\n",
       "      <td>134.237762</td>\n",
       "    </tr>\n",
       "    <tr>\n",
       "      <th>1949-04-01</th>\n",
       "      <td>129</td>\n",
       "      <td>131.237762</td>\n",
       "    </tr>\n",
       "    <tr>\n",
       "      <th>1949-05-01</th>\n",
       "      <td>121</td>\n",
       "      <td>123.237762</td>\n",
       "    </tr>\n",
       "    <tr>\n",
       "      <th>...</th>\n",
       "      <td>...</td>\n",
       "      <td>...</td>\n",
       "    </tr>\n",
       "    <tr>\n",
       "      <th>1960-08-01</th>\n",
       "      <td>606</td>\n",
       "      <td>608.237762</td>\n",
       "    </tr>\n",
       "    <tr>\n",
       "      <th>1960-09-01</th>\n",
       "      <td>508</td>\n",
       "      <td>510.237762</td>\n",
       "    </tr>\n",
       "    <tr>\n",
       "      <th>1960-10-01</th>\n",
       "      <td>461</td>\n",
       "      <td>463.237762</td>\n",
       "    </tr>\n",
       "    <tr>\n",
       "      <th>1960-11-01</th>\n",
       "      <td>390</td>\n",
       "      <td>392.237762</td>\n",
       "    </tr>\n",
       "    <tr>\n",
       "      <th>1960-12-01</th>\n",
       "      <td>432</td>\n",
       "      <td>434.237762</td>\n",
       "    </tr>\n",
       "  </tbody>\n",
       "</table>\n",
       "<p>144 rows × 2 columns</p>\n",
       "</div>"
      ],
      "text/plain": [
       "            Passengers       slope\n",
       "Month                             \n",
       "1949-01-01         112  114.237762\n",
       "1949-02-01         118  120.237762\n",
       "1949-03-01         132  134.237762\n",
       "1949-04-01         129  131.237762\n",
       "1949-05-01         121  123.237762\n",
       "...                ...         ...\n",
       "1960-08-01         606  608.237762\n",
       "1960-09-01         508  510.237762\n",
       "1960-10-01         461  463.237762\n",
       "1960-11-01         390  392.237762\n",
       "1960-12-01         432  434.237762\n",
       "\n",
       "[144 rows x 2 columns]"
      ]
     },
     "execution_count": 18,
     "metadata": {},
     "output_type": "execute_result"
    }
   ],
   "source": [
    "df"
   ]
  },
  {
   "cell_type": "code",
   "execution_count": 19,
   "metadata": {},
   "outputs": [
    {
     "name": "stdout",
     "output_type": "stream",
     "text": [
      "2\n",
      "3\n"
     ]
    }
   ],
   "source": [
    "for i in range(2, 4):\n",
    "    print(i)"
   ]
  },
  {
   "cell_type": "code",
   "execution_count": 20,
   "metadata": {},
   "outputs": [
    {
     "data": {
      "text/plain": [
       "array([0. , 0.5, 1. , 1.5])"
      ]
     },
     "execution_count": 20,
     "metadata": {},
     "output_type": "execute_result"
    }
   ],
   "source": [
    "#arange works like range but also for non integer numbers\n",
    "np.arange(0, 2, 0.5)"
   ]
  },
  {
   "cell_type": "code",
   "execution_count": 21,
   "metadata": {},
   "outputs": [
    {
     "data": {
      "text/plain": [
       "array([112.        , 114.23776224, 116.47552448, 118.71328671,\n",
       "       120.95104895, 123.18881119, 125.42657343, 127.66433566,\n",
       "       129.9020979 , 132.13986014, 134.37762238, 136.61538462,\n",
       "       138.85314685, 141.09090909, 143.32867133, 145.56643357,\n",
       "       147.8041958 , 150.04195804, 152.27972028, 154.51748252,\n",
       "       156.75524476, 158.99300699, 161.23076923, 163.46853147,\n",
       "       165.70629371, 167.94405594, 170.18181818, 172.41958042,\n",
       "       174.65734266, 176.8951049 , 179.13286713, 181.37062937,\n",
       "       183.60839161, 185.84615385, 188.08391608, 190.32167832,\n",
       "       192.55944056, 194.7972028 , 197.03496503, 199.27272727,\n",
       "       201.51048951, 203.74825175, 205.98601399, 208.22377622,\n",
       "       210.46153846, 212.6993007 , 214.93706294, 217.17482517,\n",
       "       219.41258741, 221.65034965, 223.88811189, 226.12587413,\n",
       "       228.36363636, 230.6013986 , 232.83916084, 235.07692308,\n",
       "       237.31468531, 239.55244755, 241.79020979, 244.02797203,\n",
       "       246.26573427, 248.5034965 , 250.74125874, 252.97902098,\n",
       "       255.21678322, 257.45454545, 259.69230769, 261.93006993,\n",
       "       264.16783217, 266.40559441, 268.64335664, 270.88111888,\n",
       "       273.11888112, 275.35664336, 277.59440559, 279.83216783,\n",
       "       282.06993007, 284.30769231, 286.54545455, 288.78321678,\n",
       "       291.02097902, 293.25874126, 295.4965035 , 297.73426573,\n",
       "       299.97202797, 302.20979021, 304.44755245, 306.68531469,\n",
       "       308.92307692, 311.16083916, 313.3986014 , 315.63636364,\n",
       "       317.87412587, 320.11188811, 322.34965035, 324.58741259,\n",
       "       326.82517483, 329.06293706, 331.3006993 , 333.53846154,\n",
       "       335.77622378, 338.01398601, 340.25174825, 342.48951049,\n",
       "       344.72727273, 346.96503497, 349.2027972 , 351.44055944,\n",
       "       353.67832168, 355.91608392, 358.15384615, 360.39160839,\n",
       "       362.62937063, 364.86713287, 367.1048951 , 369.34265734,\n",
       "       371.58041958, 373.81818182, 376.05594406, 378.29370629,\n",
       "       380.53146853, 382.76923077, 385.00699301, 387.24475524,\n",
       "       389.48251748, 391.72027972, 393.95804196, 396.1958042 ,\n",
       "       398.43356643, 400.67132867, 402.90909091, 405.14685315,\n",
       "       407.38461538, 409.62237762, 411.86013986, 414.0979021 ,\n",
       "       416.33566434, 418.57342657, 420.81118881, 423.04895105,\n",
       "       425.28671329, 427.52447552, 429.76223776, 432.        ])"
      ]
     },
     "execution_count": 21,
     "metadata": {},
     "output_type": "execute_result"
    }
   ],
   "source": [
    "np.arange(112, 432, slope) # but it's not ending with the last one so \n",
    "\n",
    "np.arange(112, 432+slope, slope)\n",
    "#or use linspace"
   ]
  },
  {
   "cell_type": "code",
   "execution_count": 22,
   "metadata": {},
   "outputs": [
    {
     "data": {
      "text/plain": [
       "array([112.        , 114.23776224, 116.47552448, 118.71328671,\n",
       "       120.95104895, 123.18881119, 125.42657343, 127.66433566,\n",
       "       129.9020979 , 132.13986014, 134.37762238, 136.61538462,\n",
       "       138.85314685, 141.09090909, 143.32867133, 145.56643357,\n",
       "       147.8041958 , 150.04195804, 152.27972028, 154.51748252,\n",
       "       156.75524476, 158.99300699, 161.23076923, 163.46853147,\n",
       "       165.70629371, 167.94405594, 170.18181818, 172.41958042,\n",
       "       174.65734266, 176.8951049 , 179.13286713, 181.37062937,\n",
       "       183.60839161, 185.84615385, 188.08391608, 190.32167832,\n",
       "       192.55944056, 194.7972028 , 197.03496503, 199.27272727,\n",
       "       201.51048951, 203.74825175, 205.98601399, 208.22377622,\n",
       "       210.46153846, 212.6993007 , 214.93706294, 217.17482517,\n",
       "       219.41258741, 221.65034965, 223.88811189, 226.12587413,\n",
       "       228.36363636, 230.6013986 , 232.83916084, 235.07692308,\n",
       "       237.31468531, 239.55244755, 241.79020979, 244.02797203,\n",
       "       246.26573427, 248.5034965 , 250.74125874, 252.97902098,\n",
       "       255.21678322, 257.45454545, 259.69230769, 261.93006993,\n",
       "       264.16783217, 266.40559441, 268.64335664, 270.88111888,\n",
       "       273.11888112, 275.35664336, 277.59440559, 279.83216783,\n",
       "       282.06993007, 284.30769231, 286.54545455, 288.78321678,\n",
       "       291.02097902, 293.25874126, 295.4965035 , 297.73426573,\n",
       "       299.97202797, 302.20979021, 304.44755245, 306.68531469,\n",
       "       308.92307692, 311.16083916, 313.3986014 , 315.63636364,\n",
       "       317.87412587, 320.11188811, 322.34965035, 324.58741259,\n",
       "       326.82517483, 329.06293706, 331.3006993 , 333.53846154,\n",
       "       335.77622378, 338.01398601, 340.25174825, 342.48951049,\n",
       "       344.72727273, 346.96503497, 349.2027972 , 351.44055944,\n",
       "       353.67832168, 355.91608392, 358.15384615, 360.39160839,\n",
       "       362.62937063, 364.86713287, 367.1048951 , 369.34265734,\n",
       "       371.58041958, 373.81818182, 376.05594406, 378.29370629,\n",
       "       380.53146853, 382.76923077, 385.00699301, 387.24475524,\n",
       "       389.48251748, 391.72027972, 393.95804196, 396.1958042 ,\n",
       "       398.43356643, 400.67132867, 402.90909091, 405.14685315,\n",
       "       407.38461538, 409.62237762, 411.86013986, 414.0979021 ,\n",
       "       416.33566434, 418.57342657, 420.81118881, 423.04895105,\n",
       "       425.28671329, 427.52447552, 429.76223776, 432.        ])"
      ]
     },
     "execution_count": 22,
     "metadata": {},
     "output_type": "execute_result"
    }
   ],
   "source": [
    "np.linspace(112, 432, len(df))"
   ]
  },
  {
   "cell_type": "code",
   "execution_count": 23,
   "metadata": {},
   "outputs": [
    {
     "data": {
      "text/plain": [
       "<AxesSubplot:xlabel='Month', ylabel='Passengers'>"
      ]
     },
     "execution_count": 23,
     "metadata": {},
     "output_type": "execute_result"
    },
    {
     "data": {
      "image/png": "[encoded data removed]",
      "text/plain": [
       "<Figure size 432x288 with 1 Axes>"
      ]
     },
     "metadata": {
      "needs_background": "light"
     },
     "output_type": "display_data"
    }
   ],
   "source": [
    "import seaborn as sns\n",
    "\n",
    "sns.lineplot(x=df.index, y='Passengers', data=df)"
   ]
  },
  {
   "cell_type": "code",
   "execution_count": 24,
   "metadata": {},
   "outputs": [],
   "source": [
    "import numpy as np\n",
    "df['SimpleSlope'] = np.linspace(112, 432, len(df))\n",
    "\n"
   ]
  },
  {
   "cell_type": "code",
   "execution_count": 25,
   "metadata": {},
   "outputs": [],
   "source": [
    "df\n",
    "del df['slope']"
   ]
  },
  {
   "cell_type": "code",
   "execution_count": 26,
   "metadata": {},
   "outputs": [
    {
     "data": {
      "text/plain": [
       "<AxesSubplot:xlabel='Month'>"
      ]
     },
     "execution_count": 26,
     "metadata": {},
     "output_type": "execute_result"
    },
    {
     "data": {
      "image/png": "[encoded data removed]",
      "text/plain": [
       "<Figure size 432x288 with 1 Axes>"
      ]
     },
     "metadata": {
      "needs_background": "light"
     },
     "output_type": "display_data"
    }
   ],
   "source": [
    "sns.lineplot(data=df)"
   ]
  },
  {
   "cell_type": "code",
   "execution_count": 27,
   "metadata": {},
   "outputs": [],
   "source": [
    "df['Trend'] = range(1, len(df)+1) #we are doing a simple model with a trend, that trend variable is just a number 1 to number of observations\n",
    "#we need a regressor\n",
    "#we take 1 to len + 1 to get rid of the first period "
   ]
  },
  {
   "cell_type": "code",
   "execution_count": 28,
   "metadata": {},
   "outputs": [
    {
     "data": {
      "text/html": [
       "<div>\n",
       "<style scoped>\n",
       "    .dataframe tbody tr th:only-of-type {\n",
       "        vertical-align: middle;\n",
       "    }\n",
       "\n",
       "    .dataframe tbody tr th {\n",
       "        vertical-align: top;\n",
       "    }\n",
       "\n",
       "    .dataframe thead th {\n",
       "        text-align: right;\n",
       "    }\n",
       "</style>\n",
       "<table border=\"1\" class=\"dataframe\">\n",
       "  <thead>\n",
       "    <tr style=\"text-align: right;\">\n",
       "      <th></th>\n",
       "      <th>Passengers</th>\n",
       "      <th>SimpleSlope</th>\n",
       "      <th>Trend</th>\n",
       "    </tr>\n",
       "    <tr>\n",
       "      <th>Month</th>\n",
       "      <th></th>\n",
       "      <th></th>\n",
       "      <th></th>\n",
       "    </tr>\n",
       "  </thead>\n",
       "  <tbody>\n",
       "    <tr>\n",
       "      <th>1949-01-01</th>\n",
       "      <td>112</td>\n",
       "      <td>112.000000</td>\n",
       "      <td>1</td>\n",
       "    </tr>\n",
       "    <tr>\n",
       "      <th>1949-02-01</th>\n",
       "      <td>118</td>\n",
       "      <td>114.237762</td>\n",
       "      <td>2</td>\n",
       "    </tr>\n",
       "    <tr>\n",
       "      <th>1949-03-01</th>\n",
       "      <td>132</td>\n",
       "      <td>116.475524</td>\n",
       "      <td>3</td>\n",
       "    </tr>\n",
       "    <tr>\n",
       "      <th>1949-04-01</th>\n",
       "      <td>129</td>\n",
       "      <td>118.713287</td>\n",
       "      <td>4</td>\n",
       "    </tr>\n",
       "    <tr>\n",
       "      <th>1949-05-01</th>\n",
       "      <td>121</td>\n",
       "      <td>120.951049</td>\n",
       "      <td>5</td>\n",
       "    </tr>\n",
       "    <tr>\n",
       "      <th>...</th>\n",
       "      <td>...</td>\n",
       "      <td>...</td>\n",
       "      <td>...</td>\n",
       "    </tr>\n",
       "    <tr>\n",
       "      <th>1960-08-01</th>\n",
       "      <td>606</td>\n",
       "      <td>423.048951</td>\n",
       "      <td>140</td>\n",
       "    </tr>\n",
       "    <tr>\n",
       "      <th>1960-09-01</th>\n",
       "      <td>508</td>\n",
       "      <td>425.286713</td>\n",
       "      <td>141</td>\n",
       "    </tr>\n",
       "    <tr>\n",
       "      <th>1960-10-01</th>\n",
       "      <td>461</td>\n",
       "      <td>427.524476</td>\n",
       "      <td>142</td>\n",
       "    </tr>\n",
       "    <tr>\n",
       "      <th>1960-11-01</th>\n",
       "      <td>390</td>\n",
       "      <td>429.762238</td>\n",
       "      <td>143</td>\n",
       "    </tr>\n",
       "    <tr>\n",
       "      <th>1960-12-01</th>\n",
       "      <td>432</td>\n",
       "      <td>432.000000</td>\n",
       "      <td>144</td>\n",
       "    </tr>\n",
       "  </tbody>\n",
       "</table>\n",
       "<p>144 rows × 3 columns</p>\n",
       "</div>"
      ],
      "text/plain": [
       "            Passengers  SimpleSlope  Trend\n",
       "Month                                     \n",
       "1949-01-01         112   112.000000      1\n",
       "1949-02-01         118   114.237762      2\n",
       "1949-03-01         132   116.475524      3\n",
       "1949-04-01         129   118.713287      4\n",
       "1949-05-01         121   120.951049      5\n",
       "...                ...          ...    ...\n",
       "1960-08-01         606   423.048951    140\n",
       "1960-09-01         508   425.286713    141\n",
       "1960-10-01         461   427.524476    142\n",
       "1960-11-01         390   429.762238    143\n",
       "1960-12-01         432   432.000000    144\n",
       "\n",
       "[144 rows x 3 columns]"
      ]
     },
     "execution_count": 28,
     "metadata": {},
     "output_type": "execute_result"
    }
   ],
   "source": [
    "df"
   ]
  },
  {
   "cell_type": "code",
   "execution_count": 29,
   "metadata": {},
   "outputs": [],
   "source": [
    "import statsmodels.formula.api as sm\n",
    "\n",
    "\n",
    "\n",
    "model = sm.ols(formula=\"Passengers ~ Trend\", data=df)\n",
    "\n",
    "results = model.fit()"
   ]
  },
  {
   "cell_type": "code",
   "execution_count": 30,
   "metadata": {},
   "outputs": [
    {
     "data": {
      "text/plain": [
       "['HC0_se',\n",
       " 'HC1_se',\n",
       " 'HC2_se',\n",
       " 'HC3_se',\n",
       " '_HCCM',\n",
       " '__class__',\n",
       " '__delattr__',\n",
       " '__dict__',\n",
       " '__dir__',\n",
       " '__doc__',\n",
       " '__eq__',\n",
       " '__format__',\n",
       " '__ge__',\n",
       " '__getattribute__',\n",
       " '__gt__',\n",
       " '__hash__',\n",
       " '__init__',\n",
       " '__init_subclass__',\n",
       " '__le__',\n",
       " '__lt__',\n",
       " '__module__',\n",
       " '__ne__',\n",
       " '__new__',\n",
       " '__reduce__',\n",
       " '__reduce_ex__',\n",
       " '__repr__',\n",
       " '__setattr__',\n",
       " '__sizeof__',\n",
       " '__str__',\n",
       " '__subclasshook__',\n",
       " '__weakref__',\n",
       " '_abat_diagonal',\n",
       " '_cache',\n",
       " '_data_attr',\n",
       " '_data_in_cache',\n",
       " '_get_robustcov_results',\n",
       " '_is_nested',\n",
       " '_use_t',\n",
       " '_wexog_singular_values',\n",
       " 'aic',\n",
       " 'bic',\n",
       " 'bse',\n",
       " 'centered_tss',\n",
       " 'compare_f_test',\n",
       " 'compare_lm_test',\n",
       " 'compare_lr_test',\n",
       " 'condition_number',\n",
       " 'conf_int',\n",
       " 'conf_int_el',\n",
       " 'cov_HC0',\n",
       " 'cov_HC1',\n",
       " 'cov_HC2',\n",
       " 'cov_HC3',\n",
       " 'cov_kwds',\n",
       " 'cov_params',\n",
       " 'cov_type',\n",
       " 'df_model',\n",
       " 'df_resid',\n",
       " 'eigenvals',\n",
       " 'el_test',\n",
       " 'ess',\n",
       " 'f_pvalue',\n",
       " 'f_test',\n",
       " 'fittedvalues',\n",
       " 'fvalue',\n",
       " 'get_influence',\n",
       " 'get_prediction',\n",
       " 'get_robustcov_results',\n",
       " 'initialize',\n",
       " 'k_constant',\n",
       " 'llf',\n",
       " 'load',\n",
       " 'model',\n",
       " 'mse_model',\n",
       " 'mse_resid',\n",
       " 'mse_total',\n",
       " 'nobs',\n",
       " 'normalized_cov_params',\n",
       " 'outlier_test',\n",
       " 'params',\n",
       " 'predict',\n",
       " 'pvalues',\n",
       " 'remove_data',\n",
       " 'resid',\n",
       " 'resid_pearson',\n",
       " 'rsquared',\n",
       " 'rsquared_adj',\n",
       " 'save',\n",
       " 'scale',\n",
       " 'ssr',\n",
       " 'summary',\n",
       " 'summary2',\n",
       " 't_test',\n",
       " 't_test_pairwise',\n",
       " 'tvalues',\n",
       " 'uncentered_tss',\n",
       " 'use_t',\n",
       " 'wald_test',\n",
       " 'wald_test_terms',\n",
       " 'wresid']"
      ]
     },
     "execution_count": 30,
     "metadata": {},
     "output_type": "execute_result"
    }
   ],
   "source": [
    "dir(results) #shows everything that is to access in that object --> open in a text editor"
   ]
  },
  {
   "cell_type": "code",
   "execution_count": 31,
   "metadata": {},
   "outputs": [
    {
     "data": {
      "text/html": [
       "<table class=\"simpletable\">\n",
       "<caption>OLS Regression Results</caption>\n",
       "<tr>\n",
       "  <th>Dep. Variable:</th>       <td>Passengers</td>    <th>  R-squared:         </th> <td>   0.854</td>\n",
       "</tr>\n",
       "<tr>\n",
       "  <th>Model:</th>                   <td>OLS</td>       <th>  Adj. R-squared:    </th> <td>   0.853</td>\n",
       "</tr>\n",
       "<tr>\n",
       "  <th>Method:</th>             <td>Least Squares</td>  <th>  F-statistic:       </th> <td>   828.2</td>\n",
       "</tr>\n",
       "<tr>\n",
       "  <th>Date:</th>             <td>Thu, 19 May 2022</td> <th>  Prob (F-statistic):</th> <td>4.02e-61</td>\n",
       "</tr>\n",
       "<tr>\n",
       "  <th>Time:</th>                 <td>17:01:42</td>     <th>  Log-Likelihood:    </th> <td> -754.82</td>\n",
       "</tr>\n",
       "<tr>\n",
       "  <th>No. Observations:</th>      <td>   144</td>      <th>  AIC:               </th> <td>   1514.</td>\n",
       "</tr>\n",
       "<tr>\n",
       "  <th>Df Residuals:</th>          <td>   142</td>      <th>  BIC:               </th> <td>   1520.</td>\n",
       "</tr>\n",
       "<tr>\n",
       "  <th>Df Model:</th>              <td>     1</td>      <th>                     </th>     <td> </td>   \n",
       "</tr>\n",
       "<tr>\n",
       "  <th>Covariance Type:</th>      <td>nonrobust</td>    <th>                     </th>     <td> </td>   \n",
       "</tr>\n",
       "</table>\n",
       "<table class=\"simpletable\">\n",
       "<tr>\n",
       "      <td></td>         <th>coef</th>     <th>std err</th>      <th>t</th>      <th>P>|t|</th>  <th>[0.025</th>    <th>0.975]</th>  \n",
       "</tr>\n",
       "<tr>\n",
       "  <th>Intercept</th> <td>   87.6528</td> <td>    7.716</td> <td>   11.359</td> <td> 0.000</td> <td>   72.399</td> <td>  102.907</td>\n",
       "</tr>\n",
       "<tr>\n",
       "  <th>Trend</th>     <td>    2.6572</td> <td>    0.092</td> <td>   28.778</td> <td> 0.000</td> <td>    2.475</td> <td>    2.840</td>\n",
       "</tr>\n",
       "</table>\n",
       "<table class=\"simpletable\">\n",
       "<tr>\n",
       "  <th>Omnibus:</th>       <td>24.637</td> <th>  Durbin-Watson:     </th> <td>   0.537</td>\n",
       "</tr>\n",
       "<tr>\n",
       "  <th>Prob(Omnibus):</th> <td> 0.000</td> <th>  Jarque-Bera (JB):  </th> <td>  33.905</td>\n",
       "</tr>\n",
       "<tr>\n",
       "  <th>Skew:</th>          <td> 0.940</td> <th>  Prob(JB):          </th> <td>4.34e-08</td>\n",
       "</tr>\n",
       "<tr>\n",
       "  <th>Kurtosis:</th>      <td> 4.454</td> <th>  Cond. No.          </th> <td>    168.</td>\n",
       "</tr>\n",
       "</table><br/><br/>Notes:<br/>[1] Standard Errors assume that the covariance matrix of the errors is correctly specified."
      ],
      "text/plain": [
       "<class 'statsmodels.iolib.summary.Summary'>\n",
       "\"\"\"\n",
       "                            OLS Regression Results                            \n",
       "==============================================================================\n",
       "Dep. Variable:             Passengers   R-squared:                       0.854\n",
       "Model:                            OLS   Adj. R-squared:                  0.853\n",
       "Method:                 Least Squares   F-statistic:                     828.2\n",
       "Date:                Thu, 19 May 2022   Prob (F-statistic):           4.02e-61\n",
       "Time:                        17:01:42   Log-Likelihood:                -754.82\n",
       "No. Observations:                 144   AIC:                             1514.\n",
       "Df Residuals:                     142   BIC:                             1520.\n",
       "Df Model:                           1                                         \n",
       "Covariance Type:            nonrobust                                         \n",
       "==============================================================================\n",
       "                 coef    std err          t      P>|t|      [0.025      0.975]\n",
       "------------------------------------------------------------------------------\n",
       "Intercept     87.6528      7.716     11.359      0.000      72.399     102.907\n",
       "Trend          2.6572      0.092     28.778      0.000       2.475       2.840\n",
       "==============================================================================\n",
       "Omnibus:                       24.637   Durbin-Watson:                   0.537\n",
       "Prob(Omnibus):                  0.000   Jarque-Bera (JB):               33.905\n",
       "Skew:                           0.940   Prob(JB):                     4.34e-08\n",
       "Kurtosis:                       4.454   Cond. No.                         168.\n",
       "==============================================================================\n",
       "\n",
       "Notes:\n",
       "[1] Standard Errors assume that the covariance matrix of the errors is correctly specified.\n",
       "\"\"\""
      ]
     },
     "execution_count": 31,
     "metadata": {},
     "output_type": "execute_result"
    }
   ],
   "source": [
    "results.summary()"
   ]
  },
  {
   "cell_type": "code",
   "execution_count": 32,
   "metadata": {},
   "outputs": [
    {
     "data": {
      "text/plain": [
       "pandas.core.series.Series"
      ]
     },
     "execution_count": 32,
     "metadata": {},
     "output_type": "execute_result"
    }
   ],
   "source": [
    "results.params #gives us the coefficients\n",
    "type(results.params)"
   ]
  },
  {
   "cell_type": "code",
   "execution_count": 33,
   "metadata": {},
   "outputs": [
    {
     "data": {
      "text/plain": [
       "2.657183908045976"
      ]
     },
     "execution_count": 33,
     "metadata": {},
     "output_type": "execute_result"
    }
   ],
   "source": [
    "results.params[1]"
   ]
  },
  {
   "cell_type": "code",
   "execution_count": 34,
   "metadata": {},
   "outputs": [],
   "source": [
    "df['regline'] = results.params.Intercept + results.params.Trend * df.Trend #or"
   ]
  },
  {
   "cell_type": "code",
   "execution_count": 35,
   "metadata": {},
   "outputs": [],
   "source": [
    "df['regline'] = np.arange(results.params[0], results.params[0]+len(df)*results.params[1], results.params[1])"
   ]
  },
  {
   "cell_type": "code",
   "execution_count": 36,
   "metadata": {},
   "outputs": [],
   "source": [
    "#removing trend column to plot it nicely\n",
    "del df['Trend']"
   ]
  },
  {
   "cell_type": "code",
   "execution_count": 37,
   "metadata": {},
   "outputs": [
    {
     "data": {
      "text/plain": [
       "<AxesSubplot:xlabel='Month'>"
      ]
     },
     "execution_count": 37,
     "metadata": {},
     "output_type": "execute_result"
    },
    {
     "data": {
      "image/png": "[encoded data removed]",
      "text/plain": [
       "<Figure size 432x288 with 1 Axes>"
      ]
     },
     "metadata": {
      "needs_background": "light"
     },
     "output_type": "display_data"
    }
   ],
   "source": [
    "sns.lineplot(data = df)\n",
    "#regline wn't be touched so much by the starting and ending point, therefore more meaningful \n",
    "#maybe the additional number of passengers is not additive but multiplicitive"
   ]
  },
  {
   "cell_type": "code",
   "execution_count": 38,
   "metadata": {},
   "outputs": [
    {
     "data": {
      "text/plain": [
       "2.857142857142857"
      ]
     },
     "execution_count": 38,
     "metadata": {},
     "output_type": "execute_result"
    }
   ],
   "source": [
    "#whole percentage change \n",
    "432/112-1"
   ]
  },
  {
   "cell_type": "code",
   "execution_count": 39,
   "metadata": {},
   "outputs": [
    {
     "name": "stdout",
     "output_type": "stream",
     "text": [
      "0.09531017980432477\n"
     ]
    }
   ],
   "source": [
    "#monthly change multiplicitive\n",
    "#logarithmic changes --> the great thing is that they are additive\n",
    "\n",
    "# %logchg = log(110) - log(100)\n",
    "\n",
    "logchg = np.log(110) - np.log(100)\n",
    "print(logchg)"
   ]
  },
  {
   "cell_type": "code",
   "execution_count": 40,
   "metadata": {},
   "outputs": [],
   "source": [
    "logchg = np.log(df.iloc[-1,0]) - np.log(df.iloc[0,0])"
   ]
  },
  {
   "cell_type": "code",
   "execution_count": 41,
   "metadata": {},
   "outputs": [
    {
     "name": "stdout",
     "output_type": "stream",
     "text": [
      "1.3499267169490166\n"
     ]
    }
   ],
   "source": [
    "print(logchg)\n"
   ]
  },
  {
   "cell_type": "code",
   "execution_count": 42,
   "metadata": {},
   "outputs": [],
   "source": [
    "# https://stmorse.github.io/journal/tidyverse-style-pandas.html"
   ]
  },
  {
   "cell_type": "code",
   "execution_count": 43,
   "metadata": {},
   "outputs": [
    {
     "data": {
      "text/plain": [
       "0.009418569260659204"
      ]
     },
     "execution_count": 43,
     "metadata": {},
     "output_type": "execute_result"
    }
   ],
   "source": [
    "\n",
    "def nteWurzel(x, n):\n",
    "\treturn x**(1/float(n))\n",
    "#calculating monthly growth rat (compounded)\n",
    "log_slope = (nteWurzel((432/112),len(df['Passengers']))-1)\n",
    "log_slope"
   ]
  },
  {
   "cell_type": "code",
   "execution_count": 44,
   "metadata": {},
   "outputs": [
    {
     "data": {
      "text/html": [
       "<div>\n",
       "<style scoped>\n",
       "    .dataframe tbody tr th:only-of-type {\n",
       "        vertical-align: middle;\n",
       "    }\n",
       "\n",
       "    .dataframe tbody tr th {\n",
       "        vertical-align: top;\n",
       "    }\n",
       "\n",
       "    .dataframe thead th {\n",
       "        text-align: right;\n",
       "    }\n",
       "</style>\n",
       "<table border=\"1\" class=\"dataframe\">\n",
       "  <thead>\n",
       "    <tr style=\"text-align: right;\">\n",
       "      <th></th>\n",
       "      <th>Passengers</th>\n",
       "      <th>SimpleSlope</th>\n",
       "      <th>regline</th>\n",
       "    </tr>\n",
       "    <tr>\n",
       "      <th>Month</th>\n",
       "      <th></th>\n",
       "      <th></th>\n",
       "      <th></th>\n",
       "    </tr>\n",
       "  </thead>\n",
       "  <tbody>\n",
       "    <tr>\n",
       "      <th>1949-01-01</th>\n",
       "      <td>112</td>\n",
       "      <td>112.000000</td>\n",
       "      <td>87.652778</td>\n",
       "    </tr>\n",
       "    <tr>\n",
       "      <th>1949-02-01</th>\n",
       "      <td>118</td>\n",
       "      <td>114.237762</td>\n",
       "      <td>90.309962</td>\n",
       "    </tr>\n",
       "    <tr>\n",
       "      <th>1949-03-01</th>\n",
       "      <td>132</td>\n",
       "      <td>116.475524</td>\n",
       "      <td>92.967146</td>\n",
       "    </tr>\n",
       "    <tr>\n",
       "      <th>1949-04-01</th>\n",
       "      <td>129</td>\n",
       "      <td>118.713287</td>\n",
       "      <td>95.624330</td>\n",
       "    </tr>\n",
       "    <tr>\n",
       "      <th>1949-05-01</th>\n",
       "      <td>121</td>\n",
       "      <td>120.951049</td>\n",
       "      <td>98.281513</td>\n",
       "    </tr>\n",
       "    <tr>\n",
       "      <th>...</th>\n",
       "      <td>...</td>\n",
       "      <td>...</td>\n",
       "      <td>...</td>\n",
       "    </tr>\n",
       "    <tr>\n",
       "      <th>1960-08-01</th>\n",
       "      <td>606</td>\n",
       "      <td>423.048951</td>\n",
       "      <td>457.001341</td>\n",
       "    </tr>\n",
       "    <tr>\n",
       "      <th>1960-09-01</th>\n",
       "      <td>508</td>\n",
       "      <td>425.286713</td>\n",
       "      <td>459.658525</td>\n",
       "    </tr>\n",
       "    <tr>\n",
       "      <th>1960-10-01</th>\n",
       "      <td>461</td>\n",
       "      <td>427.524476</td>\n",
       "      <td>462.315709</td>\n",
       "    </tr>\n",
       "    <tr>\n",
       "      <th>1960-11-01</th>\n",
       "      <td>390</td>\n",
       "      <td>429.762238</td>\n",
       "      <td>464.972893</td>\n",
       "    </tr>\n",
       "    <tr>\n",
       "      <th>1960-12-01</th>\n",
       "      <td>432</td>\n",
       "      <td>432.000000</td>\n",
       "      <td>467.630077</td>\n",
       "    </tr>\n",
       "  </tbody>\n",
       "</table>\n",
       "<p>144 rows × 3 columns</p>\n",
       "</div>"
      ],
      "text/plain": [
       "            Passengers  SimpleSlope     regline\n",
       "Month                                          \n",
       "1949-01-01         112   112.000000   87.652778\n",
       "1949-02-01         118   114.237762   90.309962\n",
       "1949-03-01         132   116.475524   92.967146\n",
       "1949-04-01         129   118.713287   95.624330\n",
       "1949-05-01         121   120.951049   98.281513\n",
       "...                ...          ...         ...\n",
       "1960-08-01         606   423.048951  457.001341\n",
       "1960-09-01         508   425.286713  459.658525\n",
       "1960-10-01         461   427.524476  462.315709\n",
       "1960-11-01         390   429.762238  464.972893\n",
       "1960-12-01         432   432.000000  467.630077\n",
       "\n",
       "[144 rows x 3 columns]"
      ]
     },
     "execution_count": 44,
     "metadata": {},
     "output_type": "execute_result"
    }
   ],
   "source": [
    "df"
   ]
  },
  {
   "cell_type": "code",
   "execution_count": 45,
   "metadata": {},
   "outputs": [
    {
     "name": "stdout",
     "output_type": "stream",
     "text": [
      "[112.0, 113.05487975719383, 114.11969497244245, 115.1945392235457, 116.27950696967241, 117.37469355966155, 118.48019524040188, 119.59610916529004, 120.72253340276868, 121.85956694494489, 123.00730971628981, 124.16586258242002, 125.33532735896205, 126.51580682049983, 127.70740470960689, 128.91022574596334, 130.12437563555892, 131.34996107998248, 132.58708978579918, 133.83587047401596, 135.0964128896361, 136.36882781130376, 137.65322706103942, 138.94972351406705, 140.25843110873376, 141.57946485652275, 142.91294085216097, 144.25897628382157, 145.61768944342253, 146.98919973702257, 148.37362769531458, 149.77109498421817, 151.18172441557178, 152.60563995792575, 154.0429667474367, 155.49383109886486, 156.95836051667476, 158.4366837062406, 159.92893058515696, 161.43523229465643, 162.95572121113423, 164.49053095778197, 166.03979641633043, 167.60365373890343, 169.18224035998284, 170.77569500848682, 172.38415771996148, 174.0077698488873, 175.6466740811019, 177.30101444633922, 178.97093633088718, 180.65658649036467, 182.35811306261846, 184.07566558074183, 185.809394986216, 187.55945364217484, 189.32599534679508, 191.1091753468121, 192.90915035116353, 194.7260785447609, 196.56011960239127, 198.41143470274986, 200.28018654260444, 202.16653935109372, 204.07065890415979, 205.99271253911698, 207.93286916935773, 209.8912992991969, 211.86817503885612, 213.86367011958907, 215.8779599089492, 217.91122142620145, 219.96363335787896, 222.0353760734864, 224.12663164135103, 226.23758384462334, 228.36841819742813, 230.5193219611678, 232.69048416097925, 234.88209560234574, 237.09434888786524, 239.32743843417649, 241.5815604890449, 243.85691314860915, 246.15369637478983, 248.47211201286308, 250.81236380919853, 253.17465742916508, 255.55920047520536, 257.96620250507976, 260.3958750502831, 262.84843163463415, 265.3240877930406, 267.8230610904406, 270.3455711409227, 272.89183962702594, 275.4620903192218, 278.0565490955793, 280.67544396161594, 283.3190050703347, 285.98746474245064, 288.6810574868078, 291.4000200209876, 294.14459129211275, 296.9150124978458, 299.7115271075863, 302.534380883867, 305.38382190395237, 308.26010058163956, 311.1634696892655, 314.0941843799209, 317.0525022098734, 320.0386831612024, 323.0529896646464, 326.0956866226659, 329.16704143272364, 332.267324010784, 335.39680681503353, 338.5557648698249, 341.7444757898467, 344.9632198045211, 348.21227978263, 351.49194125717474, 354.802492450469, 358.14422429946825, 361.51743048133784, 364.92240743926186, 368.359454408495, 371.8288734426601, 375.3309694402927, 378.86605017163646, 382.4344263056904, 386.036411437511, 389.6723221157715, 393.3424778705808, 397.0472012415642, 400.7868178062088, 404.56165620847577, 408.3720481876823, 412.2183286076552, 416.10083548615955, 420.0199100246041, 423.9758966380267, 427.96914298536205]\n"
     ]
    },
    {
     "data": {
      "text/plain": [
       "144"
      ]
     },
     "execution_count": 45,
     "metadata": {},
     "output_type": "execute_result"
    }
   ],
   "source": [
    "lg = np.arange(df.iloc[0,0], df.iloc[-1,0], log_slope)\n",
    "\n",
    "output=[]\n",
    "start = df.iloc[0,0]\n",
    "for i in range(144):\n",
    "    new_value = start*((1+log_slope)**i)\n",
    "    output.append(new_value)\n",
    "\n",
    "print(output)\n",
    "len(output)\n",
    "\n"
   ]
  },
  {
   "cell_type": "code",
   "execution_count": 46,
   "metadata": {},
   "outputs": [],
   "source": [
    "df['lg_slope'] = output"
   ]
  },
  {
   "cell_type": "code",
   "execution_count": 47,
   "metadata": {},
   "outputs": [],
   "source": [
    "df\n",
    "del df['SimpleSlope']"
   ]
  },
  {
   "cell_type": "code",
   "execution_count": 48,
   "metadata": {},
   "outputs": [
    {
     "data": {
      "text/plain": [
       "<AxesSubplot:xlabel='Month'>"
      ]
     },
     "execution_count": 48,
     "metadata": {},
     "output_type": "execute_result"
    },
    {
     "data": {
      "image/png": "[encoded data removed]",
      "text/plain": [
       "<Figure size 432x288 with 1 Axes>"
      ]
     },
     "metadata": {
      "needs_background": "light"
     },
     "output_type": "display_data"
    }
   ],
   "source": [
    "sns.lineplot(data = df)"
   ]
  },
  {
   "cell_type": "code",
   "execution_count": 49,
   "metadata": {},
   "outputs": [
    {
     "data": {
      "text/html": [
       "<div>\n",
       "<style scoped>\n",
       "    .dataframe tbody tr th:only-of-type {\n",
       "        vertical-align: middle;\n",
       "    }\n",
       "\n",
       "    .dataframe tbody tr th {\n",
       "        vertical-align: top;\n",
       "    }\n",
       "\n",
       "    .dataframe thead th {\n",
       "        text-align: right;\n",
       "    }\n",
       "</style>\n",
       "<table border=\"1\" class=\"dataframe\">\n",
       "  <thead>\n",
       "    <tr style=\"text-align: right;\">\n",
       "      <th></th>\n",
       "      <th>Passengers</th>\n",
       "      <th>regline</th>\n",
       "      <th>lg_slope</th>\n",
       "    </tr>\n",
       "    <tr>\n",
       "      <th>Month</th>\n",
       "      <th></th>\n",
       "      <th></th>\n",
       "      <th></th>\n",
       "    </tr>\n",
       "  </thead>\n",
       "  <tbody>\n",
       "    <tr>\n",
       "      <th>1949-01-01</th>\n",
       "      <td>112</td>\n",
       "      <td>87.652778</td>\n",
       "      <td>112.000000</td>\n",
       "    </tr>\n",
       "    <tr>\n",
       "      <th>1949-02-01</th>\n",
       "      <td>118</td>\n",
       "      <td>90.309962</td>\n",
       "      <td>113.054880</td>\n",
       "    </tr>\n",
       "    <tr>\n",
       "      <th>1949-03-01</th>\n",
       "      <td>132</td>\n",
       "      <td>92.967146</td>\n",
       "      <td>114.119695</td>\n",
       "    </tr>\n",
       "    <tr>\n",
       "      <th>1949-04-01</th>\n",
       "      <td>129</td>\n",
       "      <td>95.624330</td>\n",
       "      <td>115.194539</td>\n",
       "    </tr>\n",
       "    <tr>\n",
       "      <th>1949-05-01</th>\n",
       "      <td>121</td>\n",
       "      <td>98.281513</td>\n",
       "      <td>116.279507</td>\n",
       "    </tr>\n",
       "    <tr>\n",
       "      <th>...</th>\n",
       "      <td>...</td>\n",
       "      <td>...</td>\n",
       "      <td>...</td>\n",
       "    </tr>\n",
       "    <tr>\n",
       "      <th>1960-08-01</th>\n",
       "      <td>606</td>\n",
       "      <td>457.001341</td>\n",
       "      <td>412.218329</td>\n",
       "    </tr>\n",
       "    <tr>\n",
       "      <th>1960-09-01</th>\n",
       "      <td>508</td>\n",
       "      <td>459.658525</td>\n",
       "      <td>416.100835</td>\n",
       "    </tr>\n",
       "    <tr>\n",
       "      <th>1960-10-01</th>\n",
       "      <td>461</td>\n",
       "      <td>462.315709</td>\n",
       "      <td>420.019910</td>\n",
       "    </tr>\n",
       "    <tr>\n",
       "      <th>1960-11-01</th>\n",
       "      <td>390</td>\n",
       "      <td>464.972893</td>\n",
       "      <td>423.975897</td>\n",
       "    </tr>\n",
       "    <tr>\n",
       "      <th>1960-12-01</th>\n",
       "      <td>432</td>\n",
       "      <td>467.630077</td>\n",
       "      <td>427.969143</td>\n",
       "    </tr>\n",
       "  </tbody>\n",
       "</table>\n",
       "<p>144 rows × 3 columns</p>\n",
       "</div>"
      ],
      "text/plain": [
       "            Passengers     regline    lg_slope\n",
       "Month                                         \n",
       "1949-01-01         112   87.652778  112.000000\n",
       "1949-02-01         118   90.309962  113.054880\n",
       "1949-03-01         132   92.967146  114.119695\n",
       "1949-04-01         129   95.624330  115.194539\n",
       "1949-05-01         121   98.281513  116.279507\n",
       "...                ...         ...         ...\n",
       "1960-08-01         606  457.001341  412.218329\n",
       "1960-09-01         508  459.658525  416.100835\n",
       "1960-10-01         461  462.315709  420.019910\n",
       "1960-11-01         390  464.972893  423.975897\n",
       "1960-12-01         432  467.630077  427.969143\n",
       "\n",
       "[144 rows x 3 columns]"
      ]
     },
     "execution_count": 49,
     "metadata": {},
     "output_type": "execute_result"
    }
   ],
   "source": [
    "df"
   ]
  },
  {
   "cell_type": "code",
   "execution_count": null,
   "metadata": {},
   "outputs": [],
   "source": []
  },
  {
   "cell_type": "code",
   "execution_count": null,
   "metadata": {},
   "outputs": [],
   "source": []
  },
  {
   "cell_type": "code",
   "execution_count": 50,
   "metadata": {},
   "outputs": [
    {
     "ename": "KeyError",
     "evalue": "'logpas_regline'",
     "output_type": "error",
     "traceback": [
      "\u001b[1;31m---------------------------------------------------------------------------\u001b[0m",
      "\u001b[1;31mKeyError\u001b[0m                                  Traceback (most recent call last)",
      "\u001b[1;32mc:\\Users\\wh\\anaconda3_python\\lib\\site-packages\\pandas\\core\\indexes\\base.py\u001b[0m in \u001b[0;36mget_loc\u001b[1;34m(self, key, method, tolerance)\u001b[0m\n\u001b[0;32m   3360\u001b[0m             \u001b[1;32mtry\u001b[0m\u001b[1;33m:\u001b[0m\u001b[1;33m\u001b[0m\u001b[1;33m\u001b[0m\u001b[0m\n\u001b[1;32m-> 3361\u001b[1;33m                 \u001b[1;32mreturn\u001b[0m \u001b[0mself\u001b[0m\u001b[1;33m.\u001b[0m\u001b[0m_engine\u001b[0m\u001b[1;33m.\u001b[0m\u001b[0mget_loc\u001b[0m\u001b[1;33m(\u001b[0m\u001b[0mcasted_key\u001b[0m\u001b[1;33m)\u001b[0m\u001b[1;33m\u001b[0m\u001b[1;33m\u001b[0m\u001b[0m\n\u001b[0m\u001b[0;32m   3362\u001b[0m             \u001b[1;32mexcept\u001b[0m \u001b[0mKeyError\u001b[0m \u001b[1;32mas\u001b[0m \u001b[0merr\u001b[0m\u001b[1;33m:\u001b[0m\u001b[1;33m\u001b[0m\u001b[1;33m\u001b[0m\u001b[0m\n",
      "\u001b[1;32mc:\\Users\\wh\\anaconda3_python\\lib\\site-packages\\pandas\\_libs\\index.pyx\u001b[0m in \u001b[0;36mpandas._libs.index.IndexEngine.get_loc\u001b[1;34m()\u001b[0m\n",
      "\u001b[1;32mc:\\Users\\wh\\anaconda3_python\\lib\\site-packages\\pandas\\_libs\\index.pyx\u001b[0m in \u001b[0;36mpandas._libs.index.IndexEngine.get_loc\u001b[1;34m()\u001b[0m\n",
      "\u001b[1;32mpandas\\_libs\\hashtable_class_helper.pxi\u001b[0m in \u001b[0;36mpandas._libs.hashtable.PyObjectHashTable.get_item\u001b[1;34m()\u001b[0m\n",
      "\u001b[1;32mpandas\\_libs\\hashtable_class_helper.pxi\u001b[0m in \u001b[0;36mpandas._libs.hashtable.PyObjectHashTable.get_item\u001b[1;34m()\u001b[0m\n",
      "\u001b[1;31mKeyError\u001b[0m: 'logpas_regline'",
      "\nThe above exception was the direct cause of the following exception:\n",
      "\u001b[1;31mKeyError\u001b[0m                                  Traceback (most recent call last)",
      "\u001b[1;32m~\\AppData\\Local\\Temp/ipykernel_11356/1795312704.py\u001b[0m in \u001b[0;36m<module>\u001b[1;34m\u001b[0m\n\u001b[1;32m----> 1\u001b[1;33m \u001b[1;32mdel\u001b[0m \u001b[0mdf\u001b[0m\u001b[1;33m[\u001b[0m\u001b[1;34m'logpas_regline'\u001b[0m\u001b[1;33m]\u001b[0m\u001b[1;33m\u001b[0m\u001b[1;33m\u001b[0m\u001b[0m\n\u001b[0m",
      "\u001b[1;32mc:\\Users\\wh\\anaconda3_python\\lib\\site-packages\\pandas\\core\\generic.py\u001b[0m in \u001b[0;36m__delitem__\u001b[1;34m(self, key)\u001b[0m\n\u001b[0;32m   3961\u001b[0m             \u001b[1;31m# there was no match, this call should raise the appropriate\u001b[0m\u001b[1;33m\u001b[0m\u001b[1;33m\u001b[0m\u001b[0m\n\u001b[0;32m   3962\u001b[0m             \u001b[1;31m# exception:\u001b[0m\u001b[1;33m\u001b[0m\u001b[1;33m\u001b[0m\u001b[0m\n\u001b[1;32m-> 3963\u001b[1;33m             \u001b[0mloc\u001b[0m \u001b[1;33m=\u001b[0m \u001b[0mself\u001b[0m\u001b[1;33m.\u001b[0m\u001b[0maxes\u001b[0m\u001b[1;33m[\u001b[0m\u001b[1;33m-\u001b[0m\u001b[1;36m1\u001b[0m\u001b[1;33m]\u001b[0m\u001b[1;33m.\u001b[0m\u001b[0mget_loc\u001b[0m\u001b[1;33m(\u001b[0m\u001b[0mkey\u001b[0m\u001b[1;33m)\u001b[0m\u001b[1;33m\u001b[0m\u001b[1;33m\u001b[0m\u001b[0m\n\u001b[0m\u001b[0;32m   3964\u001b[0m             \u001b[0mself\u001b[0m\u001b[1;33m.\u001b[0m\u001b[0m_mgr\u001b[0m \u001b[1;33m=\u001b[0m \u001b[0mself\u001b[0m\u001b[1;33m.\u001b[0m\u001b[0m_mgr\u001b[0m\u001b[1;33m.\u001b[0m\u001b[0midelete\u001b[0m\u001b[1;33m(\u001b[0m\u001b[0mloc\u001b[0m\u001b[1;33m)\u001b[0m\u001b[1;33m\u001b[0m\u001b[1;33m\u001b[0m\u001b[0m\n\u001b[0;32m   3965\u001b[0m \u001b[1;33m\u001b[0m\u001b[0m\n",
      "\u001b[1;32mc:\\Users\\wh\\anaconda3_python\\lib\\site-packages\\pandas\\core\\indexes\\base.py\u001b[0m in \u001b[0;36mget_loc\u001b[1;34m(self, key, method, tolerance)\u001b[0m\n\u001b[0;32m   3361\u001b[0m                 \u001b[1;32mreturn\u001b[0m \u001b[0mself\u001b[0m\u001b[1;33m.\u001b[0m\u001b[0m_engine\u001b[0m\u001b[1;33m.\u001b[0m\u001b[0mget_loc\u001b[0m\u001b[1;33m(\u001b[0m\u001b[0mcasted_key\u001b[0m\u001b[1;33m)\u001b[0m\u001b[1;33m\u001b[0m\u001b[1;33m\u001b[0m\u001b[0m\n\u001b[0;32m   3362\u001b[0m             \u001b[1;32mexcept\u001b[0m \u001b[0mKeyError\u001b[0m \u001b[1;32mas\u001b[0m \u001b[0merr\u001b[0m\u001b[1;33m:\u001b[0m\u001b[1;33m\u001b[0m\u001b[1;33m\u001b[0m\u001b[0m\n\u001b[1;32m-> 3363\u001b[1;33m                 \u001b[1;32mraise\u001b[0m \u001b[0mKeyError\u001b[0m\u001b[1;33m(\u001b[0m\u001b[0mkey\u001b[0m\u001b[1;33m)\u001b[0m \u001b[1;32mfrom\u001b[0m \u001b[0merr\u001b[0m\u001b[1;33m\u001b[0m\u001b[1;33m\u001b[0m\u001b[0m\n\u001b[0m\u001b[0;32m   3364\u001b[0m \u001b[1;33m\u001b[0m\u001b[0m\n\u001b[0;32m   3365\u001b[0m         \u001b[1;32mif\u001b[0m \u001b[0mis_scalar\u001b[0m\u001b[1;33m(\u001b[0m\u001b[0mkey\u001b[0m\u001b[1;33m)\u001b[0m \u001b[1;32mand\u001b[0m \u001b[0misna\u001b[0m\u001b[1;33m(\u001b[0m\u001b[0mkey\u001b[0m\u001b[1;33m)\u001b[0m \u001b[1;32mand\u001b[0m \u001b[1;32mnot\u001b[0m \u001b[0mself\u001b[0m\u001b[1;33m.\u001b[0m\u001b[0mhasnans\u001b[0m\u001b[1;33m:\u001b[0m\u001b[1;33m\u001b[0m\u001b[1;33m\u001b[0m\u001b[0m\n",
      "\u001b[1;31mKeyError\u001b[0m: 'logpas_regline'"
     ]
    }
   ],
   "source": [
    "del df['logpas_regline']"
   ]
  },
  {
   "cell_type": "code",
   "execution_count": null,
   "metadata": {},
   "outputs": [],
   "source": [
    "del df['Trend']"
   ]
  },
  {
   "cell_type": "code",
   "execution_count": null,
   "metadata": {},
   "outputs": [
    {
     "data": {
      "text/plain": [
       "<AxesSubplot:xlabel='Month'>"
      ]
     },
     "execution_count": 101,
     "metadata": {},
     "output_type": "execute_result"
    },
    {
     "data": {
      "image/png": "[encoded data removed]",
      "text/plain": [
       "<Figure size 432x288 with 1 Axes>"
      ]
     },
     "metadata": {
      "needs_background": "light"
     },
     "output_type": "display_data"
    }
   ],
   "source": [
    "sns.lineplot(data = df)"
   ]
  },
  {
   "cell_type": "code",
   "execution_count": null,
   "metadata": {},
   "outputs": [
    {
     "data": {
      "text/html": [
       "<div>\n",
       "<style scoped>\n",
       "    .dataframe tbody tr th:only-of-type {\n",
       "        vertical-align: middle;\n",
       "    }\n",
       "\n",
       "    .dataframe tbody tr th {\n",
       "        vertical-align: top;\n",
       "    }\n",
       "\n",
       "    .dataframe thead th {\n",
       "        text-align: right;\n",
       "    }\n",
       "</style>\n",
       "<table border=\"1\" class=\"dataframe\">\n",
       "  <thead>\n",
       "    <tr style=\"text-align: right;\">\n",
       "      <th></th>\n",
       "      <th>Passengers</th>\n",
       "      <th>regline</th>\n",
       "      <th>lg_slope</th>\n",
       "    </tr>\n",
       "    <tr>\n",
       "      <th>Month</th>\n",
       "      <th></th>\n",
       "      <th></th>\n",
       "      <th></th>\n",
       "    </tr>\n",
       "  </thead>\n",
       "  <tbody>\n",
       "    <tr>\n",
       "      <th>1949-01-01</th>\n",
       "      <td>112</td>\n",
       "      <td>87.652778</td>\n",
       "      <td>112.000000</td>\n",
       "    </tr>\n",
       "    <tr>\n",
       "      <th>1949-02-01</th>\n",
       "      <td>118</td>\n",
       "      <td>90.309962</td>\n",
       "      <td>113.054880</td>\n",
       "    </tr>\n",
       "    <tr>\n",
       "      <th>1949-03-01</th>\n",
       "      <td>132</td>\n",
       "      <td>92.967146</td>\n",
       "      <td>114.119695</td>\n",
       "    </tr>\n",
       "    <tr>\n",
       "      <th>1949-04-01</th>\n",
       "      <td>129</td>\n",
       "      <td>95.624330</td>\n",
       "      <td>115.194539</td>\n",
       "    </tr>\n",
       "    <tr>\n",
       "      <th>1949-05-01</th>\n",
       "      <td>121</td>\n",
       "      <td>98.281513</td>\n",
       "      <td>116.279507</td>\n",
       "    </tr>\n",
       "    <tr>\n",
       "      <th>...</th>\n",
       "      <td>...</td>\n",
       "      <td>...</td>\n",
       "      <td>...</td>\n",
       "    </tr>\n",
       "    <tr>\n",
       "      <th>1960-08-01</th>\n",
       "      <td>606</td>\n",
       "      <td>457.001341</td>\n",
       "      <td>412.218329</td>\n",
       "    </tr>\n",
       "    <tr>\n",
       "      <th>1960-09-01</th>\n",
       "      <td>508</td>\n",
       "      <td>459.658525</td>\n",
       "      <td>416.100835</td>\n",
       "    </tr>\n",
       "    <tr>\n",
       "      <th>1960-10-01</th>\n",
       "      <td>461</td>\n",
       "      <td>462.315709</td>\n",
       "      <td>420.019910</td>\n",
       "    </tr>\n",
       "    <tr>\n",
       "      <th>1960-11-01</th>\n",
       "      <td>390</td>\n",
       "      <td>464.972893</td>\n",
       "      <td>423.975897</td>\n",
       "    </tr>\n",
       "    <tr>\n",
       "      <th>1960-12-01</th>\n",
       "      <td>432</td>\n",
       "      <td>467.630077</td>\n",
       "      <td>427.969143</td>\n",
       "    </tr>\n",
       "  </tbody>\n",
       "</table>\n",
       "<p>144 rows × 3 columns</p>\n",
       "</div>"
      ],
      "text/plain": [
       "            Passengers     regline    lg_slope\n",
       "Month                                         \n",
       "1949-01-01         112   87.652778  112.000000\n",
       "1949-02-01         118   90.309962  113.054880\n",
       "1949-03-01         132   92.967146  114.119695\n",
       "1949-04-01         129   95.624330  115.194539\n",
       "1949-05-01         121   98.281513  116.279507\n",
       "...                ...         ...         ...\n",
       "1960-08-01         606  457.001341  412.218329\n",
       "1960-09-01         508  459.658525  416.100835\n",
       "1960-10-01         461  462.315709  420.019910\n",
       "1960-11-01         390  464.972893  423.975897\n",
       "1960-12-01         432  467.630077  427.969143\n",
       "\n",
       "[144 rows x 3 columns]"
      ]
     },
     "execution_count": 74,
     "metadata": {},
     "output_type": "execute_result"
    }
   ],
   "source": [
    "df"
   ]
  },
  {
   "cell_type": "code",
   "execution_count": 58,
   "metadata": {},
   "outputs": [],
   "source": [
    "df['LogChg'] = np.log(df.Passengers / df.Passengers.shift())\n",
    "\n",
    "    "
   ]
  },
  {
   "cell_type": "code",
   "execution_count": null,
   "metadata": {},
   "outputs": [
    {
     "data": {
      "image/png": "[encoded data removed]",
      "text/plain": [
       "<Figure size 432x288 with 1 Axes>"
      ]
     },
     "metadata": {
      "needs_background": "light"
     },
     "output_type": "display_data"
    }
   ],
   "source": [
    "df['month'] = pd.DatetimeIndex(df.index).month\n",
    "ax = sns.boxplot(x=\"month\", y=\"LogChg\", data=df)"
   ]
  },
  {
   "cell_type": "code",
   "execution_count": 59,
   "metadata": {},
   "outputs": [
    {
     "data": {
      "text/html": [
       "<div>\n",
       "<style scoped>\n",
       "    .dataframe tbody tr th:only-of-type {\n",
       "        vertical-align: middle;\n",
       "    }\n",
       "\n",
       "    .dataframe tbody tr th {\n",
       "        vertical-align: top;\n",
       "    }\n",
       "\n",
       "    .dataframe thead th {\n",
       "        text-align: right;\n",
       "    }\n",
       "</style>\n",
       "<table border=\"1\" class=\"dataframe\">\n",
       "  <thead>\n",
       "    <tr style=\"text-align: right;\">\n",
       "      <th></th>\n",
       "      <th>Passengers</th>\n",
       "      <th>regline</th>\n",
       "      <th>lg_slope</th>\n",
       "      <th>month</th>\n",
       "      <th>LogChg</th>\n",
       "    </tr>\n",
       "    <tr>\n",
       "      <th>Month</th>\n",
       "      <th></th>\n",
       "      <th></th>\n",
       "      <th></th>\n",
       "      <th></th>\n",
       "      <th></th>\n",
       "    </tr>\n",
       "  </thead>\n",
       "  <tbody>\n",
       "    <tr>\n",
       "      <th>1949-01-01</th>\n",
       "      <td>112</td>\n",
       "      <td>87.652778</td>\n",
       "      <td>112.000000</td>\n",
       "      <td>1</td>\n",
       "      <td>NaN</td>\n",
       "    </tr>\n",
       "    <tr>\n",
       "      <th>1949-02-01</th>\n",
       "      <td>118</td>\n",
       "      <td>90.309962</td>\n",
       "      <td>113.054880</td>\n",
       "      <td>2</td>\n",
       "      <td>0.052186</td>\n",
       "    </tr>\n",
       "    <tr>\n",
       "      <th>1949-03-01</th>\n",
       "      <td>132</td>\n",
       "      <td>92.967146</td>\n",
       "      <td>114.119695</td>\n",
       "      <td>3</td>\n",
       "      <td>0.112117</td>\n",
       "    </tr>\n",
       "    <tr>\n",
       "      <th>1949-04-01</th>\n",
       "      <td>129</td>\n",
       "      <td>95.624330</td>\n",
       "      <td>115.194539</td>\n",
       "      <td>4</td>\n",
       "      <td>-0.022990</td>\n",
       "    </tr>\n",
       "    <tr>\n",
       "      <th>1949-05-01</th>\n",
       "      <td>121</td>\n",
       "      <td>98.281513</td>\n",
       "      <td>116.279507</td>\n",
       "      <td>5</td>\n",
       "      <td>-0.064022</td>\n",
       "    </tr>\n",
       "    <tr>\n",
       "      <th>...</th>\n",
       "      <td>...</td>\n",
       "      <td>...</td>\n",
       "      <td>...</td>\n",
       "      <td>...</td>\n",
       "      <td>...</td>\n",
       "    </tr>\n",
       "    <tr>\n",
       "      <th>1960-08-01</th>\n",
       "      <td>606</td>\n",
       "      <td>457.001341</td>\n",
       "      <td>412.218329</td>\n",
       "      <td>8</td>\n",
       "      <td>-0.026060</td>\n",
       "    </tr>\n",
       "    <tr>\n",
       "      <th>1960-09-01</th>\n",
       "      <td>508</td>\n",
       "      <td>459.658525</td>\n",
       "      <td>416.100835</td>\n",
       "      <td>9</td>\n",
       "      <td>-0.176399</td>\n",
       "    </tr>\n",
       "    <tr>\n",
       "      <th>1960-10-01</th>\n",
       "      <td>461</td>\n",
       "      <td>462.315709</td>\n",
       "      <td>420.019910</td>\n",
       "      <td>10</td>\n",
       "      <td>-0.097083</td>\n",
       "    </tr>\n",
       "    <tr>\n",
       "      <th>1960-11-01</th>\n",
       "      <td>390</td>\n",
       "      <td>464.972893</td>\n",
       "      <td>423.975897</td>\n",
       "      <td>11</td>\n",
       "      <td>-0.167251</td>\n",
       "    </tr>\n",
       "    <tr>\n",
       "      <th>1960-12-01</th>\n",
       "      <td>432</td>\n",
       "      <td>467.630077</td>\n",
       "      <td>427.969143</td>\n",
       "      <td>12</td>\n",
       "      <td>0.102279</td>\n",
       "    </tr>\n",
       "  </tbody>\n",
       "</table>\n",
       "<p>144 rows × 5 columns</p>\n",
       "</div>"
      ],
      "text/plain": [
       "            Passengers     regline    lg_slope  month    LogChg\n",
       "Month                                                          \n",
       "1949-01-01         112   87.652778  112.000000      1       NaN\n",
       "1949-02-01         118   90.309962  113.054880      2  0.052186\n",
       "1949-03-01         132   92.967146  114.119695      3  0.112117\n",
       "1949-04-01         129   95.624330  115.194539      4 -0.022990\n",
       "1949-05-01         121   98.281513  116.279507      5 -0.064022\n",
       "...                ...         ...         ...    ...       ...\n",
       "1960-08-01         606  457.001341  412.218329      8 -0.026060\n",
       "1960-09-01         508  459.658525  416.100835      9 -0.176399\n",
       "1960-10-01         461  462.315709  420.019910     10 -0.097083\n",
       "1960-11-01         390  464.972893  423.975897     11 -0.167251\n",
       "1960-12-01         432  467.630077  427.969143     12  0.102279\n",
       "\n",
       "[144 rows x 5 columns]"
      ]
     },
     "execution_count": 59,
     "metadata": {},
     "output_type": "execute_result"
    }
   ],
   "source": [
    "df\n",
    "df['month'] = df.index.month\n",
    "df"
   ]
  },
  {
   "cell_type": "code",
   "execution_count": 60,
   "metadata": {},
   "outputs": [
    {
     "name": "stdout",
     "output_type": "stream",
     "text": [
      "month\n",
      "1     0.028988\n",
      "2    -0.031428\n",
      "3     0.135547\n",
      "4    -0.023964\n",
      "5     0.017882\n",
      "6     0.139719\n",
      "7     0.116310\n",
      "8     0.000000\n",
      "9    -0.134756\n",
      "10   -0.128127\n",
      "11   -0.131873\n",
      "12    0.120440\n",
      "Name: LogChg, dtype: float64\n",
      "month\n",
      "1     0.025154\n",
      "2    -0.011986\n",
      "3     0.140296\n",
      "4    -0.021200\n",
      "5     0.007696\n",
      "6     0.132215\n",
      "7     0.114011\n",
      "8     0.000774\n",
      "9    -0.134566\n",
      "10   -0.128089\n",
      "11   -0.133649\n",
      "12    0.123934\n",
      "Name: LogChg, dtype: float64\n"
     ]
    }
   ],
   "source": [
    "med_monthly = df[['month','LogChg']].groupby('month').median().LogChg\n",
    "avg_monthly = df[['month','LogChg']].groupby('month').mean().LogChg\n",
    "print(med_monthly)\n",
    "print(avg_monthly)"
   ]
  },
  {
   "cell_type": "code",
   "execution_count": 62,
   "metadata": {},
   "outputs": [
    {
     "data": {
      "text/html": [
       "<div>\n",
       "<style scoped>\n",
       "    .dataframe tbody tr th:only-of-type {\n",
       "        vertical-align: middle;\n",
       "    }\n",
       "\n",
       "    .dataframe tbody tr th {\n",
       "        vertical-align: top;\n",
       "    }\n",
       "\n",
       "    .dataframe thead th {\n",
       "        text-align: right;\n",
       "    }\n",
       "</style>\n",
       "<table border=\"1\" class=\"dataframe\">\n",
       "  <thead>\n",
       "    <tr style=\"text-align: right;\">\n",
       "      <th></th>\n",
       "      <th>Passengers</th>\n",
       "      <th>regline</th>\n",
       "      <th>lg_slope</th>\n",
       "      <th>month</th>\n",
       "      <th>LogChg</th>\n",
       "    </tr>\n",
       "    <tr>\n",
       "      <th>Month</th>\n",
       "      <th></th>\n",
       "      <th></th>\n",
       "      <th></th>\n",
       "      <th></th>\n",
       "      <th></th>\n",
       "    </tr>\n",
       "  </thead>\n",
       "  <tbody>\n",
       "    <tr>\n",
       "      <th>1949-01-01</th>\n",
       "      <td>112</td>\n",
       "      <td>87.652778</td>\n",
       "      <td>112.000000</td>\n",
       "      <td>1</td>\n",
       "      <td>NaN</td>\n",
       "    </tr>\n",
       "    <tr>\n",
       "      <th>1949-02-01</th>\n",
       "      <td>118</td>\n",
       "      <td>90.309962</td>\n",
       "      <td>113.054880</td>\n",
       "      <td>2</td>\n",
       "      <td>0.052186</td>\n",
       "    </tr>\n",
       "    <tr>\n",
       "      <th>1949-03-01</th>\n",
       "      <td>132</td>\n",
       "      <td>92.967146</td>\n",
       "      <td>114.119695</td>\n",
       "      <td>3</td>\n",
       "      <td>0.112117</td>\n",
       "    </tr>\n",
       "    <tr>\n",
       "      <th>1949-04-01</th>\n",
       "      <td>129</td>\n",
       "      <td>95.624330</td>\n",
       "      <td>115.194539</td>\n",
       "      <td>4</td>\n",
       "      <td>-0.022990</td>\n",
       "    </tr>\n",
       "    <tr>\n",
       "      <th>1949-05-01</th>\n",
       "      <td>121</td>\n",
       "      <td>98.281513</td>\n",
       "      <td>116.279507</td>\n",
       "      <td>5</td>\n",
       "      <td>-0.064022</td>\n",
       "    </tr>\n",
       "    <tr>\n",
       "      <th>...</th>\n",
       "      <td>...</td>\n",
       "      <td>...</td>\n",
       "      <td>...</td>\n",
       "      <td>...</td>\n",
       "      <td>...</td>\n",
       "    </tr>\n",
       "    <tr>\n",
       "      <th>1960-08-01</th>\n",
       "      <td>606</td>\n",
       "      <td>457.001341</td>\n",
       "      <td>412.218329</td>\n",
       "      <td>8</td>\n",
       "      <td>-0.026060</td>\n",
       "    </tr>\n",
       "    <tr>\n",
       "      <th>1960-09-01</th>\n",
       "      <td>508</td>\n",
       "      <td>459.658525</td>\n",
       "      <td>416.100835</td>\n",
       "      <td>9</td>\n",
       "      <td>-0.176399</td>\n",
       "    </tr>\n",
       "    <tr>\n",
       "      <th>1960-10-01</th>\n",
       "      <td>461</td>\n",
       "      <td>462.315709</td>\n",
       "      <td>420.019910</td>\n",
       "      <td>10</td>\n",
       "      <td>-0.097083</td>\n",
       "    </tr>\n",
       "    <tr>\n",
       "      <th>1960-11-01</th>\n",
       "      <td>390</td>\n",
       "      <td>464.972893</td>\n",
       "      <td>423.975897</td>\n",
       "      <td>11</td>\n",
       "      <td>-0.167251</td>\n",
       "    </tr>\n",
       "    <tr>\n",
       "      <th>1960-12-01</th>\n",
       "      <td>432</td>\n",
       "      <td>467.630077</td>\n",
       "      <td>427.969143</td>\n",
       "      <td>12</td>\n",
       "      <td>0.102279</td>\n",
       "    </tr>\n",
       "  </tbody>\n",
       "</table>\n",
       "<p>144 rows × 5 columns</p>\n",
       "</div>"
      ],
      "text/plain": [
       "            Passengers     regline    lg_slope  month    LogChg\n",
       "Month                                                          \n",
       "1949-01-01         112   87.652778  112.000000      1       NaN\n",
       "1949-02-01         118   90.309962  113.054880      2  0.052186\n",
       "1949-03-01         132   92.967146  114.119695      3  0.112117\n",
       "1949-04-01         129   95.624330  115.194539      4 -0.022990\n",
       "1949-05-01         121   98.281513  116.279507      5 -0.064022\n",
       "...                ...         ...         ...    ...       ...\n",
       "1960-08-01         606  457.001341  412.218329      8 -0.026060\n",
       "1960-09-01         508  459.658525  416.100835      9 -0.176399\n",
       "1960-10-01         461  462.315709  420.019910     10 -0.097083\n",
       "1960-11-01         390  464.972893  423.975897     11 -0.167251\n",
       "1960-12-01         432  467.630077  427.969143     12  0.102279\n",
       "\n",
       "[144 rows x 5 columns]"
      ]
     },
     "execution_count": 62,
     "metadata": {},
     "output_type": "execute_result"
    }
   ],
   "source": [
    "df"
   ]
  },
  {
   "cell_type": "code",
   "execution_count": 74,
   "metadata": {},
   "outputs": [],
   "source": [
    "df = df.merge(med_monthly, how = 'left', on = 'month', suffixes=('', '_median'))\n",
    "df = df.merge(avg_monthly, how = 'left', on = 'month', suffixes=('', '_mean'))\n"
   ]
  },
  {
   "cell_type": "code",
   "execution_count": 75,
   "metadata": {},
   "outputs": [
    {
     "data": {
      "text/html": [
       "<div>\n",
       "<style scoped>\n",
       "    .dataframe tbody tr th:only-of-type {\n",
       "        vertical-align: middle;\n",
       "    }\n",
       "\n",
       "    .dataframe tbody tr th {\n",
       "        vertical-align: top;\n",
       "    }\n",
       "\n",
       "    .dataframe thead th {\n",
       "        text-align: right;\n",
       "    }\n",
       "</style>\n",
       "<table border=\"1\" class=\"dataframe\">\n",
       "  <thead>\n",
       "    <tr style=\"text-align: right;\">\n",
       "      <th></th>\n",
       "      <th>Passengers</th>\n",
       "      <th>regline</th>\n",
       "      <th>lg_slope</th>\n",
       "      <th>month</th>\n",
       "      <th>LogChg</th>\n",
       "      <th>LogChg_median</th>\n",
       "      <th>LogChg_mean</th>\n",
       "    </tr>\n",
       "  </thead>\n",
       "  <tbody>\n",
       "    <tr>\n",
       "      <th>0</th>\n",
       "      <td>112</td>\n",
       "      <td>87.652778</td>\n",
       "      <td>112.000000</td>\n",
       "      <td>1</td>\n",
       "      <td>NaN</td>\n",
       "      <td>0.028988</td>\n",
       "      <td>0.025154</td>\n",
       "    </tr>\n",
       "    <tr>\n",
       "      <th>1</th>\n",
       "      <td>118</td>\n",
       "      <td>90.309962</td>\n",
       "      <td>113.054880</td>\n",
       "      <td>2</td>\n",
       "      <td>0.052186</td>\n",
       "      <td>-0.031428</td>\n",
       "      <td>-0.011986</td>\n",
       "    </tr>\n",
       "    <tr>\n",
       "      <th>2</th>\n",
       "      <td>132</td>\n",
       "      <td>92.967146</td>\n",
       "      <td>114.119695</td>\n",
       "      <td>3</td>\n",
       "      <td>0.112117</td>\n",
       "      <td>0.135547</td>\n",
       "      <td>0.140296</td>\n",
       "    </tr>\n",
       "    <tr>\n",
       "      <th>3</th>\n",
       "      <td>129</td>\n",
       "      <td>95.624330</td>\n",
       "      <td>115.194539</td>\n",
       "      <td>4</td>\n",
       "      <td>-0.022990</td>\n",
       "      <td>-0.023964</td>\n",
       "      <td>-0.021200</td>\n",
       "    </tr>\n",
       "    <tr>\n",
       "      <th>4</th>\n",
       "      <td>121</td>\n",
       "      <td>98.281513</td>\n",
       "      <td>116.279507</td>\n",
       "      <td>5</td>\n",
       "      <td>-0.064022</td>\n",
       "      <td>0.017882</td>\n",
       "      <td>0.007696</td>\n",
       "    </tr>\n",
       "    <tr>\n",
       "      <th>...</th>\n",
       "      <td>...</td>\n",
       "      <td>...</td>\n",
       "      <td>...</td>\n",
       "      <td>...</td>\n",
       "      <td>...</td>\n",
       "      <td>...</td>\n",
       "      <td>...</td>\n",
       "    </tr>\n",
       "    <tr>\n",
       "      <th>139</th>\n",
       "      <td>606</td>\n",
       "      <td>457.001341</td>\n",
       "      <td>412.218329</td>\n",
       "      <td>8</td>\n",
       "      <td>-0.026060</td>\n",
       "      <td>0.000000</td>\n",
       "      <td>0.000774</td>\n",
       "    </tr>\n",
       "    <tr>\n",
       "      <th>140</th>\n",
       "      <td>508</td>\n",
       "      <td>459.658525</td>\n",
       "      <td>416.100835</td>\n",
       "      <td>9</td>\n",
       "      <td>-0.176399</td>\n",
       "      <td>-0.134756</td>\n",
       "      <td>-0.134566</td>\n",
       "    </tr>\n",
       "    <tr>\n",
       "      <th>141</th>\n",
       "      <td>461</td>\n",
       "      <td>462.315709</td>\n",
       "      <td>420.019910</td>\n",
       "      <td>10</td>\n",
       "      <td>-0.097083</td>\n",
       "      <td>-0.128127</td>\n",
       "      <td>-0.128089</td>\n",
       "    </tr>\n",
       "    <tr>\n",
       "      <th>142</th>\n",
       "      <td>390</td>\n",
       "      <td>464.972893</td>\n",
       "      <td>423.975897</td>\n",
       "      <td>11</td>\n",
       "      <td>-0.167251</td>\n",
       "      <td>-0.131873</td>\n",
       "      <td>-0.133649</td>\n",
       "    </tr>\n",
       "    <tr>\n",
       "      <th>143</th>\n",
       "      <td>432</td>\n",
       "      <td>467.630077</td>\n",
       "      <td>427.969143</td>\n",
       "      <td>12</td>\n",
       "      <td>0.102279</td>\n",
       "      <td>0.120440</td>\n",
       "      <td>0.123934</td>\n",
       "    </tr>\n",
       "  </tbody>\n",
       "</table>\n",
       "<p>144 rows × 7 columns</p>\n",
       "</div>"
      ],
      "text/plain": [
       "     Passengers     regline    lg_slope  month    LogChg  LogChg_median  \\\n",
       "0           112   87.652778  112.000000      1       NaN       0.028988   \n",
       "1           118   90.309962  113.054880      2  0.052186      -0.031428   \n",
       "2           132   92.967146  114.119695      3  0.112117       0.135547   \n",
       "3           129   95.624330  115.194539      4 -0.022990      -0.023964   \n",
       "4           121   98.281513  116.279507      5 -0.064022       0.017882   \n",
       "..          ...         ...         ...    ...       ...            ...   \n",
       "139         606  457.001341  412.218329      8 -0.026060       0.000000   \n",
       "140         508  459.658525  416.100835      9 -0.176399      -0.134756   \n",
       "141         461  462.315709  420.019910     10 -0.097083      -0.128127   \n",
       "142         390  464.972893  423.975897     11 -0.167251      -0.131873   \n",
       "143         432  467.630077  427.969143     12  0.102279       0.120440   \n",
       "\n",
       "     LogChg_mean  \n",
       "0       0.025154  \n",
       "1      -0.011986  \n",
       "2       0.140296  \n",
       "3      -0.021200  \n",
       "4       0.007696  \n",
       "..           ...  \n",
       "139     0.000774  \n",
       "140    -0.134566  \n",
       "141    -0.128089  \n",
       "142    -0.133649  \n",
       "143     0.123934  \n",
       "\n",
       "[144 rows x 7 columns]"
      ]
     },
     "execution_count": 75,
     "metadata": {},
     "output_type": "execute_result"
    }
   ],
   "source": [
    "df"
   ]
  }
 ],
 "metadata": {
  "interpreter": {
   "hash": "8fb8326e71429570233a3311511fa147ec956938a2ea72d50a4d602b71daaae4"
  },
  "kernelspec": {
   "display_name": "Python 3.9.7",
   "language": "python",
   "name": "python3"
  },
  "language_info": {
   "codemirror_mode": {
    "name": "ipython",
    "version": 3
   },
   "file_extension": ".py",
   "mimetype": "text/x-python",
   "name": "python",
   "nbconvert_exporter": "python",
   "pygments_lexer": "ipython3",
   "version": "3.9.7"
  },
  "orig_nbformat": 4
 },
 "nbformat": 4,
 "nbformat_minor": 2
}
