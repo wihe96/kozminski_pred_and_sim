{
 "cells": [
  {
   "cell_type": "markdown",
   "metadata": {},
   "source": [
    "Source:\n",
    "https://data.melbourne.vic.gov.au/Transport/Pedestrian-Counting-System-Monthly-counts-per-hour/b2ak-trbp"
   ]
  },
  {
   "cell_type": "code",
   "execution_count": 1,
   "metadata": {},
   "outputs": [],
   "source": [
    "import pandas as pd\n",
    "import seaborn as sns\n",
    "import numpy as np"
   ]
  },
  {
   "cell_type": "code",
   "execution_count": 2,
   "metadata": {},
   "outputs": [],
   "source": [
    "df = pd.read_csv(\"Pedestrians.csv\", thousands = \",\")\n",
    "df.index = df.Date_Time.astype('datetime64')\n",
    "df2 = df.drop_duplicates(subset = 'Date_Time', keep = False)"
   ]
  },
  {
   "cell_type": "code",
   "execution_count": 3,
   "metadata": {},
   "outputs": [],
   "source": [
    "del df2['Sensor_ID']\n",
    "del df2['Sensor_Name']\n",
    "del df2['ID']\n",
    "del df2['Date_Time']"
   ]
  },
  {
   "cell_type": "code",
   "execution_count": 4,
   "metadata": {},
   "outputs": [
    {
     "name": "stderr",
     "output_type": "stream",
     "text": [
      "c:\\Users\\wh\\anaconda3_python\\lib\\site-packages\\pandas\\core\\frame.py:6393: SettingWithCopyWarning: \n",
      "A value is trying to be set on a copy of a slice from a DataFrame\n",
      "\n",
      "See the caveats in the documentation: https://pandas.pydata.org/pandas-docs/stable/user_guide/indexing.html#returning-a-view-versus-a-copy\n",
      "  return super().sort_index(\n"
     ]
    }
   ],
   "source": [
    "df2.sort_index(inplace=True)"
   ]
  },
  {
   "cell_type": "code",
   "execution_count": 5,
   "metadata": {},
   "outputs": [
    {
     "data": {
      "text/plain": [
       "<AxesSubplot:xlabel='Date_Time', ylabel='Hourly_Counts'>"
      ]
     },
     "execution_count": 5,
     "metadata": {},
     "output_type": "execute_result"
    },
    {
     "data": {
      "image/png": "[encoded data removed]",
      "text/plain": [
       "<Figure size 432x288 with 1 Axes>"
      ]
     },
     "metadata": {
      "needs_background": "light"
     },
     "output_type": "display_data"
    }
   ],
   "source": [
    "sns.lineplot(x=df2.index, y='Hourly_Counts', data=df2)"
   ]
  },
  {
   "cell_type": "code",
   "execution_count": 6,
   "metadata": {},
   "outputs": [
    {
     "data": {
      "text/html": [
       "<div>\n",
       "<style scoped>\n",
       "    .dataframe tbody tr th:only-of-type {\n",
       "        vertical-align: middle;\n",
       "    }\n",
       "\n",
       "    .dataframe tbody tr th {\n",
       "        vertical-align: top;\n",
       "    }\n",
       "\n",
       "    .dataframe thead th {\n",
       "        text-align: right;\n",
       "    }\n",
       "</style>\n",
       "<table border=\"1\" class=\"dataframe\">\n",
       "  <thead>\n",
       "    <tr style=\"text-align: right;\">\n",
       "      <th></th>\n",
       "      <th>Year</th>\n",
       "      <th>Month</th>\n",
       "      <th>Mdate</th>\n",
       "      <th>Day</th>\n",
       "      <th>Time</th>\n",
       "      <th>Hourly_Counts</th>\n",
       "    </tr>\n",
       "    <tr>\n",
       "      <th>Date_Time</th>\n",
       "      <th></th>\n",
       "      <th></th>\n",
       "      <th></th>\n",
       "      <th></th>\n",
       "      <th></th>\n",
       "      <th></th>\n",
       "    </tr>\n",
       "  </thead>\n",
       "  <tbody>\n",
       "    <tr>\n",
       "      <th>2009-05-01 00:00:00</th>\n",
       "      <td>2009</td>\n",
       "      <td>May</td>\n",
       "      <td>1</td>\n",
       "      <td>Friday</td>\n",
       "      <td>0</td>\n",
       "      <td>52</td>\n",
       "    </tr>\n",
       "    <tr>\n",
       "      <th>2009-05-01 01:00:00</th>\n",
       "      <td>2009</td>\n",
       "      <td>May</td>\n",
       "      <td>1</td>\n",
       "      <td>Friday</td>\n",
       "      <td>1</td>\n",
       "      <td>34</td>\n",
       "    </tr>\n",
       "    <tr>\n",
       "      <th>2009-05-01 02:00:00</th>\n",
       "      <td>2009</td>\n",
       "      <td>May</td>\n",
       "      <td>1</td>\n",
       "      <td>Friday</td>\n",
       "      <td>2</td>\n",
       "      <td>19</td>\n",
       "    </tr>\n",
       "    <tr>\n",
       "      <th>2009-05-01 03:00:00</th>\n",
       "      <td>2009</td>\n",
       "      <td>May</td>\n",
       "      <td>1</td>\n",
       "      <td>Friday</td>\n",
       "      <td>3</td>\n",
       "      <td>14</td>\n",
       "    </tr>\n",
       "    <tr>\n",
       "      <th>2009-05-01 04:00:00</th>\n",
       "      <td>2009</td>\n",
       "      <td>May</td>\n",
       "      <td>1</td>\n",
       "      <td>Friday</td>\n",
       "      <td>4</td>\n",
       "      <td>15</td>\n",
       "    </tr>\n",
       "  </tbody>\n",
       "</table>\n",
       "</div>"
      ],
      "text/plain": [
       "                     Year Month  Mdate     Day  Time  Hourly_Counts\n",
       "Date_Time                                                          \n",
       "2009-05-01 00:00:00  2009   May      1  Friday     0             52\n",
       "2009-05-01 01:00:00  2009   May      1  Friday     1             34\n",
       "2009-05-01 02:00:00  2009   May      1  Friday     2             19\n",
       "2009-05-01 03:00:00  2009   May      1  Friday     3             14\n",
       "2009-05-01 04:00:00  2009   May      1  Friday     4             15"
      ]
     },
     "execution_count": 6,
     "metadata": {},
     "output_type": "execute_result"
    }
   ],
   "source": [
    "df2.head()"
   ]
  },
  {
   "cell_type": "code",
   "execution_count": 7,
   "metadata": {},
   "outputs": [
    {
     "data": {
      "text/html": [
       "<div>\n",
       "<style scoped>\n",
       "    .dataframe tbody tr th:only-of-type {\n",
       "        vertical-align: middle;\n",
       "    }\n",
       "\n",
       "    .dataframe tbody tr th {\n",
       "        vertical-align: top;\n",
       "    }\n",
       "\n",
       "    .dataframe thead th {\n",
       "        text-align: right;\n",
       "    }\n",
       "</style>\n",
       "<table border=\"1\" class=\"dataframe\">\n",
       "  <thead>\n",
       "    <tr style=\"text-align: right;\">\n",
       "      <th></th>\n",
       "      <th>Year</th>\n",
       "      <th>Month</th>\n",
       "      <th>Mdate</th>\n",
       "      <th>Day</th>\n",
       "      <th>Time</th>\n",
       "      <th>Hourly_Counts</th>\n",
       "    </tr>\n",
       "    <tr>\n",
       "      <th>Date_Time</th>\n",
       "      <th></th>\n",
       "      <th></th>\n",
       "      <th></th>\n",
       "      <th></th>\n",
       "      <th></th>\n",
       "      <th></th>\n",
       "    </tr>\n",
       "  </thead>\n",
       "  <tbody>\n",
       "    <tr>\n",
       "      <th>2022-04-30 19:00:00</th>\n",
       "      <td>2022</td>\n",
       "      <td>April</td>\n",
       "      <td>30</td>\n",
       "      <td>Saturday</td>\n",
       "      <td>19</td>\n",
       "      <td>489</td>\n",
       "    </tr>\n",
       "    <tr>\n",
       "      <th>2022-04-30 20:00:00</th>\n",
       "      <td>2022</td>\n",
       "      <td>April</td>\n",
       "      <td>30</td>\n",
       "      <td>Saturday</td>\n",
       "      <td>20</td>\n",
       "      <td>403</td>\n",
       "    </tr>\n",
       "    <tr>\n",
       "      <th>2022-04-30 21:00:00</th>\n",
       "      <td>2022</td>\n",
       "      <td>April</td>\n",
       "      <td>30</td>\n",
       "      <td>Saturday</td>\n",
       "      <td>21</td>\n",
       "      <td>310</td>\n",
       "    </tr>\n",
       "    <tr>\n",
       "      <th>2022-04-30 22:00:00</th>\n",
       "      <td>2022</td>\n",
       "      <td>April</td>\n",
       "      <td>30</td>\n",
       "      <td>Saturday</td>\n",
       "      <td>22</td>\n",
       "      <td>445</td>\n",
       "    </tr>\n",
       "    <tr>\n",
       "      <th>2022-04-30 23:00:00</th>\n",
       "      <td>2022</td>\n",
       "      <td>April</td>\n",
       "      <td>30</td>\n",
       "      <td>Saturday</td>\n",
       "      <td>23</td>\n",
       "      <td>244</td>\n",
       "    </tr>\n",
       "  </tbody>\n",
       "</table>\n",
       "</div>"
      ],
      "text/plain": [
       "                     Year  Month  Mdate       Day  Time  Hourly_Counts\n",
       "Date_Time                                                             \n",
       "2022-04-30 19:00:00  2022  April     30  Saturday    19            489\n",
       "2022-04-30 20:00:00  2022  April     30  Saturday    20            403\n",
       "2022-04-30 21:00:00  2022  April     30  Saturday    21            310\n",
       "2022-04-30 22:00:00  2022  April     30  Saturday    22            445\n",
       "2022-04-30 23:00:00  2022  April     30  Saturday    23            244"
      ]
     },
     "execution_count": 7,
     "metadata": {},
     "output_type": "execute_result"
    }
   ],
   "source": [
    "df2.tail()"
   ]
  },
  {
   "cell_type": "code",
   "execution_count": 8,
   "metadata": {},
   "outputs": [],
   "source": [
    "import statsmodels.formula.api as sm"
   ]
  },
  {
   "cell_type": "code",
   "execution_count": 9,
   "metadata": {},
   "outputs": [
    {
     "name": "stderr",
     "output_type": "stream",
     "text": [
      "C:\\Users\\wh\\AppData\\Local\\Temp/ipykernel_3720/2290489968.py:1: SettingWithCopyWarning: \n",
      "A value is trying to be set on a copy of a slice from a DataFrame.\n",
      "Try using .loc[row_indexer,col_indexer] = value instead\n",
      "\n",
      "See the caveats in the documentation: https://pandas.pydata.org/pandas-docs/stable/user_guide/indexing.html#returning-a-view-versus-a-copy\n",
      "  df2['Trend'] = range(1,len(df2)+1)\n"
     ]
    }
   ],
   "source": [
    "df2['Trend'] = range(1,len(df2)+1)"
   ]
  },
  {
   "cell_type": "code",
   "execution_count": 10,
   "metadata": {},
   "outputs": [
    {
     "name": "stderr",
     "output_type": "stream",
     "text": [
      "C:\\Users\\wh\\AppData\\Local\\Temp/ipykernel_3720/648830483.py:1: SettingWithCopyWarning: \n",
      "A value is trying to be set on a copy of a slice from a DataFrame.\n",
      "Try using .loc[row_indexer,col_indexer] = value instead\n",
      "\n",
      "See the caveats in the documentation: https://pandas.pydata.org/pandas-docs/stable/user_guide/indexing.html#returning-a-view-versus-a-copy\n",
      "  df2['LogPed'] = np.log(df2.Hourly_Counts+1)\n"
     ]
    }
   ],
   "source": [
    "df2['LogPed'] = np.log(df2.Hourly_Counts+1)"
   ]
  },
  {
   "cell_type": "code",
   "execution_count": 46,
   "metadata": {},
   "outputs": [],
   "source": [
    "df2_in = df2[df2.index < \"2020-01-01\"]"
   ]
  },
  {
   "cell_type": "code",
   "execution_count": 12,
   "metadata": {},
   "outputs": [
    {
     "data": {
      "text/html": [
       "<table class=\"simpletable\">\n",
       "<caption>OLS Regression Results</caption>\n",
       "<tr>\n",
       "  <th>Dep. Variable:</th>         <td>LogPed</td>      <th>  R-squared:         </th> <td>   0.902</td> \n",
       "</tr>\n",
       "<tr>\n",
       "  <th>Model:</th>                   <td>OLS</td>       <th>  Adj. R-squared:    </th> <td>   0.902</td> \n",
       "</tr>\n",
       "<tr>\n",
       "  <th>Method:</th>             <td>Least Squares</td>  <th>  F-statistic:       </th> <td>2.088e+04</td>\n",
       "</tr>\n",
       "<tr>\n",
       "  <th>Date:</th>             <td>Thu, 09 Jun 2022</td> <th>  Prob (F-statistic):</th>  <td>  0.00</td>  \n",
       "</tr>\n",
       "<tr>\n",
       "  <th>Time:</th>                 <td>16:26:03</td>     <th>  Log-Likelihood:    </th> <td> -78736.</td> \n",
       "</tr>\n",
       "<tr>\n",
       "  <th>No. Observations:</th>      <td> 92563</td>      <th>  AIC:               </th> <td>1.576e+05</td>\n",
       "</tr>\n",
       "<tr>\n",
       "  <th>Df Residuals:</th>          <td> 92521</td>      <th>  BIC:               </th> <td>1.580e+05</td>\n",
       "</tr>\n",
       "<tr>\n",
       "  <th>Df Model:</th>              <td>    41</td>      <th>                     </th>     <td> </td>    \n",
       "</tr>\n",
       "<tr>\n",
       "  <th>Covariance Type:</th>      <td>nonrobust</td>    <th>                     </th>     <td> </td>    \n",
       "</tr>\n",
       "</table>\n",
       "<table class=\"simpletable\">\n",
       "<tr>\n",
       "            <td></td>               <th>coef</th>     <th>std err</th>      <th>t</th>      <th>P>|t|</th>  <th>[0.025</th>    <th>0.975]</th>  \n",
       "</tr>\n",
       "<tr>\n",
       "  <th>Intercept</th>             <td>    4.7090</td> <td>    0.012</td> <td>  377.070</td> <td> 0.000</td> <td>    4.685</td> <td>    4.734</td>\n",
       "</tr>\n",
       "<tr>\n",
       "  <th>C(Month)[T.August]</th>    <td>   -0.1836</td> <td>    0.009</td> <td>  -20.055</td> <td> 0.000</td> <td>   -0.202</td> <td>   -0.166</td>\n",
       "</tr>\n",
       "<tr>\n",
       "  <th>C(Month)[T.December]</th>  <td>    0.2796</td> <td>    0.009</td> <td>   30.541</td> <td> 0.000</td> <td>    0.262</td> <td>    0.298</td>\n",
       "</tr>\n",
       "<tr>\n",
       "  <th>C(Month)[T.February]</th>  <td>    0.0013</td> <td>    0.010</td> <td>    0.139</td> <td> 0.890</td> <td>   -0.017</td> <td>    0.020</td>\n",
       "</tr>\n",
       "<tr>\n",
       "  <th>C(Month)[T.January]</th>   <td>   -0.0337</td> <td>    0.009</td> <td>   -3.598</td> <td> 0.000</td> <td>   -0.052</td> <td>   -0.015</td>\n",
       "</tr>\n",
       "<tr>\n",
       "  <th>C(Month)[T.July]</th>      <td>   -0.1044</td> <td>    0.009</td> <td>  -11.400</td> <td> 0.000</td> <td>   -0.122</td> <td>   -0.086</td>\n",
       "</tr>\n",
       "<tr>\n",
       "  <th>C(Month)[T.June]</th>      <td>   -0.1383</td> <td>    0.009</td> <td>  -14.981</td> <td> 0.000</td> <td>   -0.156</td> <td>   -0.120</td>\n",
       "</tr>\n",
       "<tr>\n",
       "  <th>C(Month)[T.March]</th>     <td>    0.0082</td> <td>    0.009</td> <td>    0.878</td> <td> 0.380</td> <td>   -0.010</td> <td>    0.027</td>\n",
       "</tr>\n",
       "<tr>\n",
       "  <th>C(Month)[T.May]</th>       <td>   -0.1393</td> <td>    0.009</td> <td>  -15.208</td> <td> 0.000</td> <td>   -0.157</td> <td>   -0.121</td>\n",
       "</tr>\n",
       "<tr>\n",
       "  <th>C(Month)[T.November]</th>  <td>    0.0480</td> <td>    0.009</td> <td>    5.201</td> <td> 0.000</td> <td>    0.030</td> <td>    0.066</td>\n",
       "</tr>\n",
       "<tr>\n",
       "  <th>C(Month)[T.October]</th>   <td>   -0.0879</td> <td>    0.009</td> <td>   -9.534</td> <td> 0.000</td> <td>   -0.106</td> <td>   -0.070</td>\n",
       "</tr>\n",
       "<tr>\n",
       "  <th>C(Month)[T.September]</th> <td>   -0.1385</td> <td>    0.009</td> <td>  -14.658</td> <td> 0.000</td> <td>   -0.157</td> <td>   -0.120</td>\n",
       "</tr>\n",
       "<tr>\n",
       "  <th>C(Day)[T.Monday]</th>      <td>   -0.4196</td> <td>    0.007</td> <td>  -60.272</td> <td> 0.000</td> <td>   -0.433</td> <td>   -0.406</td>\n",
       "</tr>\n",
       "<tr>\n",
       "  <th>C(Day)[T.Saturday]</th>    <td>   -0.0079</td> <td>    0.007</td> <td>   -1.136</td> <td> 0.256</td> <td>   -0.022</td> <td>    0.006</td>\n",
       "</tr>\n",
       "<tr>\n",
       "  <th>C(Day)[T.Sunday]</th>      <td>   -0.2160</td> <td>    0.007</td> <td>  -31.024</td> <td> 0.000</td> <td>   -0.230</td> <td>   -0.202</td>\n",
       "</tr>\n",
       "<tr>\n",
       "  <th>C(Day)[T.Thursday]</th>    <td>   -0.2361</td> <td>    0.007</td> <td>  -33.866</td> <td> 0.000</td> <td>   -0.250</td> <td>   -0.222</td>\n",
       "</tr>\n",
       "<tr>\n",
       "  <th>C(Day)[T.Tuesday]</th>     <td>   -0.4256</td> <td>    0.007</td> <td>  -61.102</td> <td> 0.000</td> <td>   -0.439</td> <td>   -0.412</td>\n",
       "</tr>\n",
       "<tr>\n",
       "  <th>C(Day)[T.Wednesday]</th>   <td>   -0.3539</td> <td>    0.007</td> <td>  -50.762</td> <td> 0.000</td> <td>   -0.368</td> <td>   -0.340</td>\n",
       "</tr>\n",
       "<tr>\n",
       "  <th>C(Time)[T.1]</th>          <td>   -0.4888</td> <td>    0.013</td> <td>  -37.887</td> <td> 0.000</td> <td>   -0.514</td> <td>   -0.464</td>\n",
       "</tr>\n",
       "<tr>\n",
       "  <th>C(Time)[T.2]</th>          <td>   -0.9306</td> <td>    0.013</td> <td>  -72.102</td> <td> 0.000</td> <td>   -0.956</td> <td>   -0.905</td>\n",
       "</tr>\n",
       "<tr>\n",
       "  <th>C(Time)[T.3]</th>          <td>   -1.1426</td> <td>    0.013</td> <td>  -88.558</td> <td> 0.000</td> <td>   -1.168</td> <td>   -1.117</td>\n",
       "</tr>\n",
       "<tr>\n",
       "  <th>C(Time)[T.4]</th>          <td>   -1.3148</td> <td>    0.013</td> <td> -101.902</td> <td> 0.000</td> <td>   -1.340</td> <td>   -1.289</td>\n",
       "</tr>\n",
       "<tr>\n",
       "  <th>C(Time)[T.5]</th>          <td>   -1.0567</td> <td>    0.013</td> <td>  -81.902</td> <td> 0.000</td> <td>   -1.082</td> <td>   -1.031</td>\n",
       "</tr>\n",
       "<tr>\n",
       "  <th>C(Time)[T.6]</th>          <td>   -0.0964</td> <td>    0.013</td> <td>   -7.474</td> <td> 0.000</td> <td>   -0.122</td> <td>   -0.071</td>\n",
       "</tr>\n",
       "<tr>\n",
       "  <th>C(Time)[T.7]</th>          <td>    0.8691</td> <td>    0.013</td> <td>   67.358</td> <td> 0.000</td> <td>    0.844</td> <td>    0.894</td>\n",
       "</tr>\n",
       "<tr>\n",
       "  <th>C(Time)[T.8]</th>          <td>    1.7795</td> <td>    0.013</td> <td>  137.920</td> <td> 0.000</td> <td>    1.754</td> <td>    1.805</td>\n",
       "</tr>\n",
       "<tr>\n",
       "  <th>C(Time)[T.9]</th>          <td>    2.2578</td> <td>    0.013</td> <td>  174.989</td> <td> 0.000</td> <td>    2.232</td> <td>    2.283</td>\n",
       "</tr>\n",
       "<tr>\n",
       "  <th>C(Time)[T.10]</th>         <td>    2.7820</td> <td>    0.013</td> <td>  215.617</td> <td> 0.000</td> <td>    2.757</td> <td>    2.807</td>\n",
       "</tr>\n",
       "<tr>\n",
       "  <th>C(Time)[T.11]</th>         <td>    3.1748</td> <td>    0.013</td> <td>  246.062</td> <td> 0.000</td> <td>    3.149</td> <td>    3.200</td>\n",
       "</tr>\n",
       "<tr>\n",
       "  <th>C(Time)[T.12]</th>         <td>    3.6149</td> <td>    0.013</td> <td>  280.173</td> <td> 0.000</td> <td>    3.590</td> <td>    3.640</td>\n",
       "</tr>\n",
       "<tr>\n",
       "  <th>C(Time)[T.13]</th>         <td>    3.7302</td> <td>    0.013</td> <td>  289.112</td> <td> 0.000</td> <td>    3.705</td> <td>    3.756</td>\n",
       "</tr>\n",
       "<tr>\n",
       "  <th>C(Time)[T.14]</th>         <td>    3.5563</td> <td>    0.013</td> <td>  275.628</td> <td> 0.000</td> <td>    3.531</td> <td>    3.582</td>\n",
       "</tr>\n",
       "<tr>\n",
       "  <th>C(Time)[T.15]</th>         <td>    3.5215</td> <td>    0.013</td> <td>  272.936</td> <td> 0.000</td> <td>    3.496</td> <td>    3.547</td>\n",
       "</tr>\n",
       "<tr>\n",
       "  <th>C(Time)[T.16]</th>         <td>    3.4712</td> <td>    0.013</td> <td>  269.039</td> <td> 0.000</td> <td>    3.446</td> <td>    3.497</td>\n",
       "</tr>\n",
       "<tr>\n",
       "  <th>C(Time)[T.17]</th>         <td>    3.3599</td> <td>    0.013</td> <td>  260.412</td> <td> 0.000</td> <td>    3.335</td> <td>    3.385</td>\n",
       "</tr>\n",
       "<tr>\n",
       "  <th>C(Time)[T.18]</th>         <td>    2.8773</td> <td>    0.013</td> <td>  223.003</td> <td> 0.000</td> <td>    2.852</td> <td>    2.903</td>\n",
       "</tr>\n",
       "<tr>\n",
       "  <th>C(Time)[T.19]</th>         <td>    2.2718</td> <td>    0.013</td> <td>  176.076</td> <td> 0.000</td> <td>    2.247</td> <td>    2.297</td>\n",
       "</tr>\n",
       "<tr>\n",
       "  <th>C(Time)[T.20]</th>         <td>    1.8705</td> <td>    0.013</td> <td>  144.972</td> <td> 0.000</td> <td>    1.845</td> <td>    1.896</td>\n",
       "</tr>\n",
       "<tr>\n",
       "  <th>C(Time)[T.21]</th>         <td>    1.4740</td> <td>    0.013</td> <td>  114.242</td> <td> 0.000</td> <td>    1.449</td> <td>    1.499</td>\n",
       "</tr>\n",
       "<tr>\n",
       "  <th>C(Time)[T.22]</th>         <td>    1.0926</td> <td>    0.013</td> <td>   84.686</td> <td> 0.000</td> <td>    1.067</td> <td>    1.118</td>\n",
       "</tr>\n",
       "<tr>\n",
       "  <th>C(Time)[T.23]</th>         <td>    0.6039</td> <td>    0.013</td> <td>   46.806</td> <td> 0.000</td> <td>    0.579</td> <td>    0.629</td>\n",
       "</tr>\n",
       "<tr>\n",
       "  <th>Trend</th>                 <td>-1.306e-06</td> <td> 6.99e-08</td> <td>  -18.693</td> <td> 0.000</td> <td>-1.44e-06</td> <td>-1.17e-06</td>\n",
       "</tr>\n",
       "</table>\n",
       "<table class=\"simpletable\">\n",
       "<tr>\n",
       "  <th>Omnibus:</th>       <td>15501.917</td> <th>  Durbin-Watson:     </th>  <td>   0.576</td> \n",
       "</tr>\n",
       "<tr>\n",
       "  <th>Prob(Omnibus):</th>  <td> 0.000</td>   <th>  Jarque-Bera (JB):  </th> <td>165405.822</td>\n",
       "</tr>\n",
       "<tr>\n",
       "  <th>Skew:</th>           <td>-0.484</td>   <th>  Prob(JB):          </th>  <td>    0.00</td> \n",
       "</tr>\n",
       "<tr>\n",
       "  <th>Kurtosis:</th>       <td> 9.477</td>   <th>  Cond. No.          </th>  <td>1.31e+06</td> \n",
       "</tr>\n",
       "</table><br/><br/>Notes:<br/>[1] Standard Errors assume that the covariance matrix of the errors is correctly specified.<br/>[2] The condition number is large, 1.31e+06. This might indicate that there are<br/>strong multicollinearity or other numerical problems."
      ],
      "text/plain": [
       "<class 'statsmodels.iolib.summary.Summary'>\n",
       "\"\"\"\n",
       "                            OLS Regression Results                            \n",
       "==============================================================================\n",
       "Dep. Variable:                 LogPed   R-squared:                       0.902\n",
       "Model:                            OLS   Adj. R-squared:                  0.902\n",
       "Method:                 Least Squares   F-statistic:                 2.088e+04\n",
       "Date:                Thu, 09 Jun 2022   Prob (F-statistic):               0.00\n",
       "Time:                        16:26:03   Log-Likelihood:                -78736.\n",
       "No. Observations:               92563   AIC:                         1.576e+05\n",
       "Df Residuals:                   92521   BIC:                         1.580e+05\n",
       "Df Model:                          41                                         \n",
       "Covariance Type:            nonrobust                                         \n",
       "=========================================================================================\n",
       "                            coef    std err          t      P>|t|      [0.025      0.975]\n",
       "-----------------------------------------------------------------------------------------\n",
       "Intercept                 4.7090      0.012    377.070      0.000       4.685       4.734\n",
       "C(Month)[T.August]       -0.1836      0.009    -20.055      0.000      -0.202      -0.166\n",
       "C(Month)[T.December]      0.2796      0.009     30.541      0.000       0.262       0.298\n",
       "C(Month)[T.February]      0.0013      0.010      0.139      0.890      -0.017       0.020\n",
       "C(Month)[T.January]      -0.0337      0.009     -3.598      0.000      -0.052      -0.015\n",
       "C(Month)[T.July]         -0.1044      0.009    -11.400      0.000      -0.122      -0.086\n",
       "C(Month)[T.June]         -0.1383      0.009    -14.981      0.000      -0.156      -0.120\n",
       "C(Month)[T.March]         0.0082      0.009      0.878      0.380      -0.010       0.027\n",
       "C(Month)[T.May]          -0.1393      0.009    -15.208      0.000      -0.157      -0.121\n",
       "C(Month)[T.November]      0.0480      0.009      5.201      0.000       0.030       0.066\n",
       "C(Month)[T.October]      -0.0879      0.009     -9.534      0.000      -0.106      -0.070\n",
       "C(Month)[T.September]    -0.1385      0.009    -14.658      0.000      -0.157      -0.120\n",
       "C(Day)[T.Monday]         -0.4196      0.007    -60.272      0.000      -0.433      -0.406\n",
       "C(Day)[T.Saturday]       -0.0079      0.007     -1.136      0.256      -0.022       0.006\n",
       "C(Day)[T.Sunday]         -0.2160      0.007    -31.024      0.000      -0.230      -0.202\n",
       "C(Day)[T.Thursday]       -0.2361      0.007    -33.866      0.000      -0.250      -0.222\n",
       "C(Day)[T.Tuesday]        -0.4256      0.007    -61.102      0.000      -0.439      -0.412\n",
       "C(Day)[T.Wednesday]      -0.3539      0.007    -50.762      0.000      -0.368      -0.340\n",
       "C(Time)[T.1]             -0.4888      0.013    -37.887      0.000      -0.514      -0.464\n",
       "C(Time)[T.2]             -0.9306      0.013    -72.102      0.000      -0.956      -0.905\n",
       "C(Time)[T.3]             -1.1426      0.013    -88.558      0.000      -1.168      -1.117\n",
       "C(Time)[T.4]             -1.3148      0.013   -101.902      0.000      -1.340      -1.289\n",
       "C(Time)[T.5]             -1.0567      0.013    -81.902      0.000      -1.082      -1.031\n",
       "C(Time)[T.6]             -0.0964      0.013     -7.474      0.000      -0.122      -0.071\n",
       "C(Time)[T.7]              0.8691      0.013     67.358      0.000       0.844       0.894\n",
       "C(Time)[T.8]              1.7795      0.013    137.920      0.000       1.754       1.805\n",
       "C(Time)[T.9]              2.2578      0.013    174.989      0.000       2.232       2.283\n",
       "C(Time)[T.10]             2.7820      0.013    215.617      0.000       2.757       2.807\n",
       "C(Time)[T.11]             3.1748      0.013    246.062      0.000       3.149       3.200\n",
       "C(Time)[T.12]             3.6149      0.013    280.173      0.000       3.590       3.640\n",
       "C(Time)[T.13]             3.7302      0.013    289.112      0.000       3.705       3.756\n",
       "C(Time)[T.14]             3.5563      0.013    275.628      0.000       3.531       3.582\n",
       "C(Time)[T.15]             3.5215      0.013    272.936      0.000       3.496       3.547\n",
       "C(Time)[T.16]             3.4712      0.013    269.039      0.000       3.446       3.497\n",
       "C(Time)[T.17]             3.3599      0.013    260.412      0.000       3.335       3.385\n",
       "C(Time)[T.18]             2.8773      0.013    223.003      0.000       2.852       2.903\n",
       "C(Time)[T.19]             2.2718      0.013    176.076      0.000       2.247       2.297\n",
       "C(Time)[T.20]             1.8705      0.013    144.972      0.000       1.845       1.896\n",
       "C(Time)[T.21]             1.4740      0.013    114.242      0.000       1.449       1.499\n",
       "C(Time)[T.22]             1.0926      0.013     84.686      0.000       1.067       1.118\n",
       "C(Time)[T.23]             0.6039      0.013     46.806      0.000       0.579       0.629\n",
       "Trend                 -1.306e-06   6.99e-08    -18.693      0.000   -1.44e-06   -1.17e-06\n",
       "==============================================================================\n",
       "Omnibus:                    15501.917   Durbin-Watson:                   0.576\n",
       "Prob(Omnibus):                  0.000   Jarque-Bera (JB):           165405.822\n",
       "Skew:                          -0.484   Prob(JB):                         0.00\n",
       "Kurtosis:                       9.477   Cond. No.                     1.31e+06\n",
       "==============================================================================\n",
       "\n",
       "Notes:\n",
       "[1] Standard Errors assume that the covariance matrix of the errors is correctly specified.\n",
       "[2] The condition number is large, 1.31e+06. This might indicate that there are\n",
       "strong multicollinearity or other numerical problems.\n",
       "\"\"\""
      ]
     },
     "execution_count": 12,
     "metadata": {},
     "output_type": "execute_result"
    }
   ],
   "source": [
    "model = sm.ols(formula=\"LogPed ~ Trend + C(Month) + C(Day) + C(Time)\", data=df2_in)\n",
    "results = model.fit()\n",
    "results.summary()"
   ]
  },
  {
   "cell_type": "code",
   "execution_count": 13,
   "metadata": {},
   "outputs": [
    {
     "name": "stderr",
     "output_type": "stream",
     "text": [
      "C:\\Users\\wh\\AppData\\Local\\Temp/ipykernel_3720/455212463.py:1: SettingWithCopyWarning: \n",
      "A value is trying to be set on a copy of a slice from a DataFrame.\n",
      "Try using .loc[row_indexer,col_indexer] = value instead\n",
      "\n",
      "See the caveats in the documentation: https://pandas.pydata.org/pandas-docs/stable/user_guide/indexing.html#returning-a-view-versus-a-copy\n",
      "  df2['LogPedFC'] = results.predict(df2)\n"
     ]
    }
   ],
   "source": [
    "df2['LogPedFC'] = results.predict(df2)"
   ]
  },
  {
   "cell_type": "code",
   "execution_count": 14,
   "metadata": {},
   "outputs": [
    {
     "data": {
      "text/html": [
       "<div>\n",
       "<style scoped>\n",
       "    .dataframe tbody tr th:only-of-type {\n",
       "        vertical-align: middle;\n",
       "    }\n",
       "\n",
       "    .dataframe tbody tr th {\n",
       "        vertical-align: top;\n",
       "    }\n",
       "\n",
       "    .dataframe thead th {\n",
       "        text-align: right;\n",
       "    }\n",
       "</style>\n",
       "<table border=\"1\" class=\"dataframe\">\n",
       "  <thead>\n",
       "    <tr style=\"text-align: right;\">\n",
       "      <th></th>\n",
       "      <th>Year</th>\n",
       "      <th>Month</th>\n",
       "      <th>Mdate</th>\n",
       "      <th>Day</th>\n",
       "      <th>Time</th>\n",
       "      <th>Hourly_Counts</th>\n",
       "      <th>Trend</th>\n",
       "      <th>LogPed</th>\n",
       "      <th>LogPedFC</th>\n",
       "    </tr>\n",
       "    <tr>\n",
       "      <th>Date_Time</th>\n",
       "      <th></th>\n",
       "      <th></th>\n",
       "      <th></th>\n",
       "      <th></th>\n",
       "      <th></th>\n",
       "      <th></th>\n",
       "      <th></th>\n",
       "      <th></th>\n",
       "      <th></th>\n",
       "    </tr>\n",
       "  </thead>\n",
       "  <tbody>\n",
       "    <tr>\n",
       "      <th>2009-05-01 00:00:00</th>\n",
       "      <td>2009</td>\n",
       "      <td>May</td>\n",
       "      <td>1</td>\n",
       "      <td>Friday</td>\n",
       "      <td>0</td>\n",
       "      <td>52</td>\n",
       "      <td>1</td>\n",
       "      <td>3.970292</td>\n",
       "      <td>4.569758</td>\n",
       "    </tr>\n",
       "    <tr>\n",
       "      <th>2009-05-01 01:00:00</th>\n",
       "      <td>2009</td>\n",
       "      <td>May</td>\n",
       "      <td>1</td>\n",
       "      <td>Friday</td>\n",
       "      <td>1</td>\n",
       "      <td>34</td>\n",
       "      <td>2</td>\n",
       "      <td>3.555348</td>\n",
       "      <td>4.080925</td>\n",
       "    </tr>\n",
       "    <tr>\n",
       "      <th>2009-05-01 02:00:00</th>\n",
       "      <td>2009</td>\n",
       "      <td>May</td>\n",
       "      <td>1</td>\n",
       "      <td>Friday</td>\n",
       "      <td>2</td>\n",
       "      <td>19</td>\n",
       "      <td>3</td>\n",
       "      <td>2.995732</td>\n",
       "      <td>3.639173</td>\n",
       "    </tr>\n",
       "    <tr>\n",
       "      <th>2009-05-01 03:00:00</th>\n",
       "      <td>2009</td>\n",
       "      <td>May</td>\n",
       "      <td>1</td>\n",
       "      <td>Friday</td>\n",
       "      <td>3</td>\n",
       "      <td>14</td>\n",
       "      <td>4</td>\n",
       "      <td>2.708050</td>\n",
       "      <td>3.427148</td>\n",
       "    </tr>\n",
       "    <tr>\n",
       "      <th>2009-05-01 04:00:00</th>\n",
       "      <td>2009</td>\n",
       "      <td>May</td>\n",
       "      <td>1</td>\n",
       "      <td>Friday</td>\n",
       "      <td>4</td>\n",
       "      <td>15</td>\n",
       "      <td>5</td>\n",
       "      <td>2.772589</td>\n",
       "      <td>3.254977</td>\n",
       "    </tr>\n",
       "  </tbody>\n",
       "</table>\n",
       "</div>"
      ],
      "text/plain": [
       "                     Year Month  Mdate     Day  Time  Hourly_Counts  Trend  \\\n",
       "Date_Time                                                                    \n",
       "2009-05-01 00:00:00  2009   May      1  Friday     0             52      1   \n",
       "2009-05-01 01:00:00  2009   May      1  Friday     1             34      2   \n",
       "2009-05-01 02:00:00  2009   May      1  Friday     2             19      3   \n",
       "2009-05-01 03:00:00  2009   May      1  Friday     3             14      4   \n",
       "2009-05-01 04:00:00  2009   May      1  Friday     4             15      5   \n",
       "\n",
       "                       LogPed  LogPedFC  \n",
       "Date_Time                                \n",
       "2009-05-01 00:00:00  3.970292  4.569758  \n",
       "2009-05-01 01:00:00  3.555348  4.080925  \n",
       "2009-05-01 02:00:00  2.995732  3.639173  \n",
       "2009-05-01 03:00:00  2.708050  3.427148  \n",
       "2009-05-01 04:00:00  2.772589  3.254977  "
      ]
     },
     "execution_count": 14,
     "metadata": {},
     "output_type": "execute_result"
    }
   ],
   "source": [
    "df2.head()"
   ]
  },
  {
   "cell_type": "code",
   "execution_count": 15,
   "metadata": {},
   "outputs": [
    {
     "data": {
      "text/plain": [
       "<AxesSubplot:xlabel='Date_Time'>"
      ]
     },
     "execution_count": 15,
     "metadata": {},
     "output_type": "execute_result"
    },
    {
     "data": {
      "image/png": "[encoded data removed]",
      "text/plain": [
       "<Figure size 432x288 with 1 Axes>"
      ]
     },
     "metadata": {
      "needs_background": "light"
     },
     "output_type": "display_data"
    }
   ],
   "source": [
    "dfplot = df2.filter(['LogPed', 'LogPedFC'])\n",
    "sns.lineplot(data=dfplot)"
   ]
  },
  {
   "cell_type": "code",
   "execution_count": 16,
   "metadata": {},
   "outputs": [
    {
     "data": {
      "text/plain": [
       "<AxesSubplot:xlabel='Date_Time'>"
      ]
     },
     "execution_count": 16,
     "metadata": {},
     "output_type": "execute_result"
    },
    {
     "data": {
      "image/png": "[encoded data removed]",
      "text/plain": [
       "<Figure size 432x288 with 1 Axes>"
      ]
     },
     "metadata": {
      "needs_background": "light"
     },
     "output_type": "display_data"
    }
   ],
   "source": [
    "dfplot = df2.filter(['LogPed', 'LogPedFC'])[(df2.index >= '2019-12-25') & (df2.index <= '2020-01-01')]\n",
    "sns.lineplot(data=dfplot)"
   ]
  },
  {
   "cell_type": "code",
   "execution_count": 35,
   "metadata": {},
   "outputs": [],
   "source": [
    "df3 = df2[df2.index < '2020-01-01']"
   ]
  },
  {
   "cell_type": "code",
   "execution_count": 18,
   "metadata": {},
   "outputs": [],
   "source": [
    "insample_err = df3.LogPed - df3.LogPedFC"
   ]
  },
  {
   "cell_type": "code",
   "execution_count": 19,
   "metadata": {},
   "outputs": [
    {
     "data": {
      "text/plain": [
       "Date_Time\n",
       "2009-05-01 00:00:00   -0.599466\n",
       "2009-05-01 01:00:00   -0.525577\n",
       "2009-05-01 02:00:00   -0.643441\n",
       "2009-05-01 03:00:00   -0.719098\n",
       "2009-05-01 04:00:00   -0.482388\n",
       "                         ...   \n",
       "2019-12-31 19:00:00    0.501944\n",
       "2019-12-31 20:00:00    0.677537\n",
       "2019-12-31 21:00:00    0.724958\n",
       "2019-12-31 22:00:00    1.313122\n",
       "2019-12-31 23:00:00    1.110838\n",
       "Length: 92563, dtype: float64"
      ]
     },
     "execution_count": 19,
     "metadata": {},
     "output_type": "execute_result"
    }
   ],
   "source": [
    "insample_err"
   ]
  },
  {
   "cell_type": "code",
   "execution_count": 20,
   "metadata": {},
   "outputs": [
    {
     "data": {
      "text/html": [
       "<div>\n",
       "<style scoped>\n",
       "    .dataframe tbody tr th:only-of-type {\n",
       "        vertical-align: middle;\n",
       "    }\n",
       "\n",
       "    .dataframe tbody tr th {\n",
       "        vertical-align: top;\n",
       "    }\n",
       "\n",
       "    .dataframe thead th {\n",
       "        text-align: right;\n",
       "    }\n",
       "</style>\n",
       "<table border=\"1\" class=\"dataframe\">\n",
       "  <thead>\n",
       "    <tr style=\"text-align: right;\">\n",
       "      <th></th>\n",
       "      <th>Year</th>\n",
       "      <th>Month</th>\n",
       "      <th>Mdate</th>\n",
       "      <th>Day</th>\n",
       "      <th>Time</th>\n",
       "      <th>Hourly_Counts</th>\n",
       "      <th>Trend</th>\n",
       "      <th>LogPed</th>\n",
       "      <th>LogPedFC</th>\n",
       "    </tr>\n",
       "    <tr>\n",
       "      <th>Date_Time</th>\n",
       "      <th></th>\n",
       "      <th></th>\n",
       "      <th></th>\n",
       "      <th></th>\n",
       "      <th></th>\n",
       "      <th></th>\n",
       "      <th></th>\n",
       "      <th></th>\n",
       "      <th></th>\n",
       "    </tr>\n",
       "  </thead>\n",
       "  <tbody>\n",
       "    <tr>\n",
       "      <th>2022-01-01</th>\n",
       "      <td>2022</td>\n",
       "      <td>January</td>\n",
       "      <td>1</td>\n",
       "      <td>Saturday</td>\n",
       "      <td>0</td>\n",
       "      <td>286</td>\n",
       "      <td>110108</td>\n",
       "      <td>5.659482</td>\n",
       "      <td>4.523659</td>\n",
       "    </tr>\n",
       "  </tbody>\n",
       "</table>\n",
       "</div>"
      ],
      "text/plain": [
       "            Year    Month  Mdate       Day  Time  Hourly_Counts   Trend  \\\n",
       "Date_Time                                                                 \n",
       "2022-01-01  2022  January      1  Saturday     0            286  110108   \n",
       "\n",
       "              LogPed  LogPedFC  \n",
       "Date_Time                       \n",
       "2022-01-01  5.659482  4.523659  "
      ]
     },
     "execution_count": 20,
     "metadata": {},
     "output_type": "execute_result"
    }
   ],
   "source": [
    "df2[df2.index == '2022-01-01']"
   ]
  },
  {
   "cell_type": "code",
   "execution_count": 21,
   "metadata": {},
   "outputs": [],
   "source": [
    "errsmpl = np.random.choice(insample_err, 10000)"
   ]
  },
  {
   "cell_type": "code",
   "execution_count": 22,
   "metadata": {},
   "outputs": [
    {
     "data": {
      "text/plain": [
       "10000"
      ]
     },
     "execution_count": 22,
     "metadata": {},
     "output_type": "execute_result"
    }
   ],
   "source": [
    "len(errsmpl)"
   ]
  },
  {
   "cell_type": "code",
   "execution_count": 23,
   "metadata": {},
   "outputs": [
    {
     "data": {
      "text/plain": [
       "(array([1.000e+00, 0.000e+00, 0.000e+00, 0.000e+00, 0.000e+00, 1.000e+00,\n",
       "        1.000e+00, 1.000e+00, 1.000e+00, 2.000e+00, 0.000e+00, 4.000e+00,\n",
       "        9.000e+00, 9.000e+00, 9.000e+00, 3.000e+01, 6.800e+01, 2.390e+02,\n",
       "        5.230e+02, 1.276e+03, 3.208e+03, 2.921e+03, 1.052e+03, 3.850e+02,\n",
       "        1.530e+02, 7.600e+01, 2.400e+01, 3.000e+00, 3.000e+00, 1.000e+00]),\n",
       " array([-7.52618875, -7.16500683, -6.80382492, -6.442643  , -6.08146108,\n",
       "        -5.72027916, -5.35909724, -4.99791532, -4.63673341, -4.27555149,\n",
       "        -3.91436957, -3.55318765, -3.19200573, -2.83082381, -2.4696419 ,\n",
       "        -2.10845998, -1.74727806, -1.38609614, -1.02491422, -0.6637323 ,\n",
       "        -0.30255038,  0.05863153,  0.41981345,  0.78099537,  1.14217729,\n",
       "         1.50335921,  1.86454113,  2.22572304,  2.58690496,  2.94808688,\n",
       "         3.3092688 ]),\n",
       " <BarContainer object of 30 artists>)"
      ]
     },
     "execution_count": 23,
     "metadata": {},
     "output_type": "execute_result"
    },
    {
     "data": {
      "image/png": "[encoded data removed]",
      "text/plain": [
       "<Figure size 432x288 with 1 Axes>"
      ]
     },
     "metadata": {
      "needs_background": "light"
     },
     "output_type": "display_data"
    }
   ],
   "source": [
    "import matplotlib.pyplot as plt\n",
    "plt.hist(errsmpl, bins = 30)"
   ]
  },
  {
   "cell_type": "code",
   "execution_count": 24,
   "metadata": {},
   "outputs": [
    {
     "data": {
      "text/plain": [
       "(array([1.0000e+00, 1.0000e+00, 0.0000e+00, 2.0000e+00, 1.0000e+00,\n",
       "        7.0000e+00, 1.1000e+01, 1.0000e+01, 2.3000e+01, 2.4000e+01,\n",
       "        5.3000e+01, 5.7000e+01, 9.3000e+01, 1.5700e+02, 5.3900e+02,\n",
       "        2.0710e+03, 5.9260e+03, 1.4690e+04, 3.6104e+04, 2.2066e+04,\n",
       "        6.8270e+03, 2.4150e+03, 1.0130e+03, 3.3300e+02, 7.9000e+01,\n",
       "        3.1000e+01, 1.4000e+01, 6.0000e+00, 7.0000e+00, 2.0000e+00]),\n",
       " array([-7.52618875, -7.12220239, -6.71821603, -6.31422968, -5.91024332,\n",
       "        -5.50625696, -5.1022706 , -4.69828424, -4.29429788, -3.89031152,\n",
       "        -3.48632516, -3.0823388 , -2.67835245, -2.27436609, -1.87037973,\n",
       "        -1.46639337, -1.06240701, -0.65842065, -0.25443429,  0.14955207,\n",
       "         0.55353843,  0.95752478,  1.36151114,  1.7654975 ,  2.16948386,\n",
       "         2.57347022,  2.97745658,  3.38144294,  3.7854293 ,  4.18941566,\n",
       "         4.59340201]),\n",
       " <BarContainer object of 30 artists>)"
      ]
     },
     "execution_count": 24,
     "metadata": {},
     "output_type": "execute_result"
    },
    {
     "data": {
      "image/png": "[encoded data removed]",
      "text/plain": [
       "<Figure size 432x288 with 1 Axes>"
      ]
     },
     "metadata": {
      "needs_background": "light"
     },
     "output_type": "display_data"
    }
   ],
   "source": [
    "plt.hist(insample_err, bins = 30)"
   ]
  },
  {
   "cell_type": "code",
   "execution_count": 25,
   "metadata": {},
   "outputs": [],
   "source": [
    "fc_distrib = df2[df2.index == '2022-01-01'].LogPedFC.values + errsmpl"
   ]
  },
  {
   "cell_type": "code",
   "execution_count": 26,
   "metadata": {},
   "outputs": [
    {
     "data": {
      "text/plain": [
       "(array([1.000e+00, 0.000e+00, 0.000e+00, 0.000e+00, 0.000e+00, 1.000e+00,\n",
       "        1.000e+00, 1.000e+00, 1.000e+00, 2.000e+00, 0.000e+00, 4.000e+00,\n",
       "        9.000e+00, 9.000e+00, 9.000e+00, 3.000e+01, 6.800e+01, 2.390e+02,\n",
       "        5.230e+02, 1.276e+03, 3.208e+03, 2.921e+03, 1.052e+03, 3.850e+02,\n",
       "        1.530e+02, 7.600e+01, 2.400e+01, 3.000e+00, 3.000e+00, 1.000e+00]),\n",
       " array([-3.00252948, -2.64134756, -2.28016564, -1.91898372, -1.55780181,\n",
       "        -1.19661989, -0.83543797, -0.47425605, -0.11307413,  0.24810779,\n",
       "         0.6092897 ,  0.97047162,  1.33165354,  1.69283546,  2.05401738,\n",
       "         2.4151993 ,  2.77638121,  3.13756313,  3.49874505,  3.85992697,\n",
       "         4.22110889,  4.58229081,  4.94347272,  5.30465464,  5.66583656,\n",
       "         6.02701848,  6.3882004 ,  6.74938232,  7.11056424,  7.47174615,\n",
       "         7.83292807]),\n",
       " <BarContainer object of 30 artists>)"
      ]
     },
     "execution_count": 26,
     "metadata": {},
     "output_type": "execute_result"
    },
    {
     "data": {
      "image/png": "[encoded data removed]",
      "text/plain": [
       "<Figure size 432x288 with 1 Axes>"
      ]
     },
     "metadata": {
      "needs_background": "light"
     },
     "output_type": "display_data"
    }
   ],
   "source": [
    "plt.hist(fc_distrib, bins = 30)"
   ]
  },
  {
   "cell_type": "code",
   "execution_count": 27,
   "metadata": {},
   "outputs": [
    {
     "data": {
      "text/plain": [
       "-3.002529479850436"
      ]
     },
     "execution_count": 27,
     "metadata": {},
     "output_type": "execute_result"
    }
   ],
   "source": [
    "np.min(fc_distrib)"
   ]
  },
  {
   "cell_type": "code",
   "execution_count": 28,
   "metadata": {},
   "outputs": [
    {
     "data": {
      "text/plain": [
       "0.0496612921229163"
      ]
     },
     "execution_count": 28,
     "metadata": {},
     "output_type": "execute_result"
    }
   ],
   "source": [
    "np.exp(np.min(fc_distrib))"
   ]
  },
  {
   "cell_type": "code",
   "execution_count": 29,
   "metadata": {},
   "outputs": [
    {
     "data": {
      "text/plain": [
       "(array([1.070e+02, 5.930e+02, 1.114e+03, 1.936e+03, 2.467e+03, 1.502e+03,\n",
       "        7.880e+02, 4.610e+02, 2.970e+02, 1.660e+02, 1.260e+02, 7.500e+01,\n",
       "        7.200e+01, 4.700e+01, 3.000e+01, 2.800e+01, 2.300e+01, 3.700e+01,\n",
       "        1.200e+01, 1.800e+01, 1.000e+01, 1.200e+01, 9.000e+00, 1.300e+01,\n",
       "        5.000e+00, 9.000e+00, 1.000e+00, 9.000e+00, 5.000e+00, 5.000e+00,\n",
       "        1.000e+00, 3.000e+00, 2.000e+00, 3.000e+00, 3.000e+00, 2.000e+00,\n",
       "        1.000e+00, 0.000e+00, 0.000e+00, 1.000e+00, 0.000e+00, 1.000e+00,\n",
       "        0.000e+00, 1.000e+00, 0.000e+00, 1.000e+00, 0.000e+00, 0.000e+00,\n",
       "        0.000e+00, 0.000e+00, 0.000e+00, 0.000e+00, 0.000e+00, 0.000e+00,\n",
       "        0.000e+00, 0.000e+00, 0.000e+00, 0.000e+00, 0.000e+00, 0.000e+00,\n",
       "        1.000e+00, 0.000e+00, 0.000e+00, 0.000e+00, 0.000e+00, 0.000e+00,\n",
       "        0.000e+00, 0.000e+00, 0.000e+00, 0.000e+00, 0.000e+00, 1.000e+00,\n",
       "        0.000e+00, 0.000e+00, 0.000e+00, 0.000e+00, 0.000e+00, 0.000e+00,\n",
       "        1.000e+00, 0.000e+00, 0.000e+00, 0.000e+00, 0.000e+00, 0.000e+00,\n",
       "        0.000e+00, 0.000e+00, 0.000e+00, 0.000e+00, 0.000e+00, 0.000e+00,\n",
       "        0.000e+00, 0.000e+00, 0.000e+00, 0.000e+00, 0.000e+00, 0.000e+00,\n",
       "        0.000e+00, 0.000e+00, 0.000e+00, 0.000e+00, 0.000e+00, 0.000e+00,\n",
       "        0.000e+00, 0.000e+00, 0.000e+00, 0.000e+00, 0.000e+00, 0.000e+00,\n",
       "        0.000e+00, 0.000e+00, 0.000e+00, 0.000e+00, 0.000e+00, 0.000e+00,\n",
       "        0.000e+00, 0.000e+00, 0.000e+00, 0.000e+00, 0.000e+00, 1.000e+00]),\n",
       " array([4.96612921e-02, 2.10684479e+01, 4.20872346e+01, 6.31060212e+01,\n",
       "        8.41248079e+01, 1.05143595e+02, 1.26162381e+02, 1.47181168e+02,\n",
       "        1.68199954e+02, 1.89218741e+02, 2.10237528e+02, 2.31256314e+02,\n",
       "        2.52275101e+02, 2.73293888e+02, 2.94312674e+02, 3.15331461e+02,\n",
       "        3.36350248e+02, 3.57369034e+02, 3.78387821e+02, 3.99406608e+02,\n",
       "        4.20425394e+02, 4.41444181e+02, 4.62462967e+02, 4.83481754e+02,\n",
       "        5.04500541e+02, 5.25519327e+02, 5.46538114e+02, 5.67556901e+02,\n",
       "        5.88575687e+02, 6.09594474e+02, 6.30613261e+02, 6.51632047e+02,\n",
       "        6.72650834e+02, 6.93669621e+02, 7.14688407e+02, 7.35707194e+02,\n",
       "        7.56725981e+02, 7.77744767e+02, 7.98763554e+02, 8.19782340e+02,\n",
       "        8.40801127e+02, 8.61819914e+02, 8.82838700e+02, 9.03857487e+02,\n",
       "        9.24876274e+02, 9.45895060e+02, 9.66913847e+02, 9.87932634e+02,\n",
       "        1.00895142e+03, 1.02997021e+03, 1.05098899e+03, 1.07200778e+03,\n",
       "        1.09302657e+03, 1.11404535e+03, 1.13506414e+03, 1.15608293e+03,\n",
       "        1.17710171e+03, 1.19812050e+03, 1.21913929e+03, 1.24015807e+03,\n",
       "        1.26117686e+03, 1.28219565e+03, 1.30321443e+03, 1.32423322e+03,\n",
       "        1.34525201e+03, 1.36627079e+03, 1.38728958e+03, 1.40830837e+03,\n",
       "        1.42932715e+03, 1.45034594e+03, 1.47136473e+03, 1.49238351e+03,\n",
       "        1.51340230e+03, 1.53442109e+03, 1.55543987e+03, 1.57645866e+03,\n",
       "        1.59747745e+03, 1.61849623e+03, 1.63951502e+03, 1.66053381e+03,\n",
       "        1.68155259e+03, 1.70257138e+03, 1.72359017e+03, 1.74460895e+03,\n",
       "        1.76562774e+03, 1.78664653e+03, 1.80766531e+03, 1.82868410e+03,\n",
       "        1.84970289e+03, 1.87072167e+03, 1.89174046e+03, 1.91275925e+03,\n",
       "        1.93377803e+03, 1.95479682e+03, 1.97581561e+03, 1.99683439e+03,\n",
       "        2.01785318e+03, 2.03887197e+03, 2.05989075e+03, 2.08090954e+03,\n",
       "        2.10192833e+03, 2.12294711e+03, 2.14396590e+03, 2.16498469e+03,\n",
       "        2.18600347e+03, 2.20702226e+03, 2.22804105e+03, 2.24905983e+03,\n",
       "        2.27007862e+03, 2.29109741e+03, 2.31211619e+03, 2.33313498e+03,\n",
       "        2.35415377e+03, 2.37517255e+03, 2.39619134e+03, 2.41721013e+03,\n",
       "        2.43822891e+03, 2.45924770e+03, 2.48026649e+03, 2.50128527e+03,\n",
       "        2.52230406e+03]),\n",
       " <BarContainer object of 120 artists>)"
      ]
     },
     "execution_count": 29,
     "metadata": {},
     "output_type": "execute_result"
    },
    {
     "data": {
      "image/png": "[encoded data removed]",
      "text/plain": [
       "<Figure size 432x288 with 1 Axes>"
      ]
     },
     "metadata": {
      "needs_background": "light"
     },
     "output_type": "display_data"
    }
   ],
   "source": [
    "plt.hist(np.exp(fc_distrib), bins = 120)"
   ]
  },
  {
   "cell_type": "code",
   "execution_count": 30,
   "metadata": {},
   "outputs": [
    {
     "data": {
      "text/plain": [
       "0.0"
      ]
     },
     "execution_count": 30,
     "metadata": {},
     "output_type": "execute_result"
    }
   ],
   "source": [
    "np.sum(np.abs(errsmpl) >= 532) / len(errsmpl)"
   ]
  },
  {
   "cell_type": "markdown",
   "metadata": {},
   "source": [
    "Add one lag as a explenatory variable "
   ]
  },
  {
   "cell_type": "code",
   "execution_count": 45,
   "metadata": {},
   "outputs": [
    {
     "name": "stderr",
     "output_type": "stream",
     "text": [
      "C:\\Users\\wh\\AppData\\Local\\Temp/ipykernel_3720/698015402.py:1: SettingWithCopyWarning: \n",
      "A value is trying to be set on a copy of a slice from a DataFrame.\n",
      "Try using .loc[row_indexer,col_indexer] = value instead\n",
      "\n",
      "See the caveats in the documentation: https://pandas.pydata.org/pandas-docs/stable/user_guide/indexing.html#returning-a-view-versus-a-copy\n",
      "  df2['Log_laged'] = df2['LogPed'].shift(1)\n"
     ]
    }
   ],
   "source": [
    "df2['Log_laged'] = df2['LogPed'].shift(1)"
   ]
  },
  {
   "cell_type": "code",
   "execution_count": 44,
   "metadata": {},
   "outputs": [
    {
     "data": {
      "text/html": [
       "<div>\n",
       "<style scoped>\n",
       "    .dataframe tbody tr th:only-of-type {\n",
       "        vertical-align: middle;\n",
       "    }\n",
       "\n",
       "    .dataframe tbody tr th {\n",
       "        vertical-align: top;\n",
       "    }\n",
       "\n",
       "    .dataframe thead th {\n",
       "        text-align: right;\n",
       "    }\n",
       "</style>\n",
       "<table border=\"1\" class=\"dataframe\">\n",
       "  <thead>\n",
       "    <tr style=\"text-align: right;\">\n",
       "      <th></th>\n",
       "      <th>Year</th>\n",
       "      <th>Month</th>\n",
       "      <th>Mdate</th>\n",
       "      <th>Day</th>\n",
       "      <th>Time</th>\n",
       "      <th>Hourly_Counts</th>\n",
       "      <th>Trend</th>\n",
       "      <th>LogPed</th>\n",
       "      <th>LogPedFC</th>\n",
       "      <th>laged_LogPed</th>\n",
       "    </tr>\n",
       "    <tr>\n",
       "      <th>Date_Time</th>\n",
       "      <th></th>\n",
       "      <th></th>\n",
       "      <th></th>\n",
       "      <th></th>\n",
       "      <th></th>\n",
       "      <th></th>\n",
       "      <th></th>\n",
       "      <th></th>\n",
       "      <th></th>\n",
       "      <th></th>\n",
       "    </tr>\n",
       "  </thead>\n",
       "  <tbody>\n",
       "    <tr>\n",
       "      <th>2009-05-01 00:00:00</th>\n",
       "      <td>2009</td>\n",
       "      <td>May</td>\n",
       "      <td>1</td>\n",
       "      <td>Friday</td>\n",
       "      <td>0</td>\n",
       "      <td>52</td>\n",
       "      <td>1</td>\n",
       "      <td>3.970292</td>\n",
       "      <td>4.569758</td>\n",
       "      <td>NaN</td>\n",
       "    </tr>\n",
       "    <tr>\n",
       "      <th>2009-05-01 01:00:00</th>\n",
       "      <td>2009</td>\n",
       "      <td>May</td>\n",
       "      <td>1</td>\n",
       "      <td>Friday</td>\n",
       "      <td>1</td>\n",
       "      <td>34</td>\n",
       "      <td>2</td>\n",
       "      <td>3.555348</td>\n",
       "      <td>4.080925</td>\n",
       "      <td>3.970292</td>\n",
       "    </tr>\n",
       "    <tr>\n",
       "      <th>2009-05-01 02:00:00</th>\n",
       "      <td>2009</td>\n",
       "      <td>May</td>\n",
       "      <td>1</td>\n",
       "      <td>Friday</td>\n",
       "      <td>2</td>\n",
       "      <td>19</td>\n",
       "      <td>3</td>\n",
       "      <td>2.995732</td>\n",
       "      <td>3.639173</td>\n",
       "      <td>3.555348</td>\n",
       "    </tr>\n",
       "    <tr>\n",
       "      <th>2009-05-01 03:00:00</th>\n",
       "      <td>2009</td>\n",
       "      <td>May</td>\n",
       "      <td>1</td>\n",
       "      <td>Friday</td>\n",
       "      <td>3</td>\n",
       "      <td>14</td>\n",
       "      <td>4</td>\n",
       "      <td>2.708050</td>\n",
       "      <td>3.427148</td>\n",
       "      <td>2.995732</td>\n",
       "    </tr>\n",
       "    <tr>\n",
       "      <th>2009-05-01 04:00:00</th>\n",
       "      <td>2009</td>\n",
       "      <td>May</td>\n",
       "      <td>1</td>\n",
       "      <td>Friday</td>\n",
       "      <td>4</td>\n",
       "      <td>15</td>\n",
       "      <td>5</td>\n",
       "      <td>2.772589</td>\n",
       "      <td>3.254977</td>\n",
       "      <td>2.708050</td>\n",
       "    </tr>\n",
       "    <tr>\n",
       "      <th>...</th>\n",
       "      <td>...</td>\n",
       "      <td>...</td>\n",
       "      <td>...</td>\n",
       "      <td>...</td>\n",
       "      <td>...</td>\n",
       "      <td>...</td>\n",
       "      <td>...</td>\n",
       "      <td>...</td>\n",
       "      <td>...</td>\n",
       "      <td>...</td>\n",
       "    </tr>\n",
       "    <tr>\n",
       "      <th>2019-12-31 19:00:00</th>\n",
       "      <td>2019</td>\n",
       "      <td>December</td>\n",
       "      <td>31</td>\n",
       "      <td>Tuesday</td>\n",
       "      <td>19</td>\n",
       "      <td>1360</td>\n",
       "      <td>92559</td>\n",
       "      <td>7.215975</td>\n",
       "      <td>6.714031</td>\n",
       "      <td>7.449498</td>\n",
       "    </tr>\n",
       "    <tr>\n",
       "      <th>2019-12-31 20:00:00</th>\n",
       "      <td>2019</td>\n",
       "      <td>December</td>\n",
       "      <td>31</td>\n",
       "      <td>Tuesday</td>\n",
       "      <td>20</td>\n",
       "      <td>1085</td>\n",
       "      <td>92560</td>\n",
       "      <td>6.990257</td>\n",
       "      <td>6.312719</td>\n",
       "      <td>7.215975</td>\n",
       "    </tr>\n",
       "    <tr>\n",
       "      <th>2019-12-31 21:00:00</th>\n",
       "      <td>2019</td>\n",
       "      <td>December</td>\n",
       "      <td>31</td>\n",
       "      <td>Tuesday</td>\n",
       "      <td>21</td>\n",
       "      <td>765</td>\n",
       "      <td>92561</td>\n",
       "      <td>6.641182</td>\n",
       "      <td>5.916224</td>\n",
       "      <td>6.990257</td>\n",
       "    </tr>\n",
       "    <tr>\n",
       "      <th>2019-12-31 22:00:00</th>\n",
       "      <td>2019</td>\n",
       "      <td>December</td>\n",
       "      <td>31</td>\n",
       "      <td>Tuesday</td>\n",
       "      <td>22</td>\n",
       "      <td>941</td>\n",
       "      <td>92562</td>\n",
       "      <td>6.848005</td>\n",
       "      <td>5.534884</td>\n",
       "      <td>6.641182</td>\n",
       "    </tr>\n",
       "    <tr>\n",
       "      <th>2019-12-31 23:00:00</th>\n",
       "      <td>2019</td>\n",
       "      <td>December</td>\n",
       "      <td>31</td>\n",
       "      <td>Tuesday</td>\n",
       "      <td>23</td>\n",
       "      <td>471</td>\n",
       "      <td>92563</td>\n",
       "      <td>6.156979</td>\n",
       "      <td>5.046141</td>\n",
       "      <td>6.848005</td>\n",
       "    </tr>\n",
       "  </tbody>\n",
       "</table>\n",
       "<p>92563 rows × 10 columns</p>\n",
       "</div>"
      ],
      "text/plain": [
       "                     Year     Month  Mdate      Day  Time  Hourly_Counts  \\\n",
       "Date_Time                                                                  \n",
       "2009-05-01 00:00:00  2009       May      1   Friday     0             52   \n",
       "2009-05-01 01:00:00  2009       May      1   Friday     1             34   \n",
       "2009-05-01 02:00:00  2009       May      1   Friday     2             19   \n",
       "2009-05-01 03:00:00  2009       May      1   Friday     3             14   \n",
       "2009-05-01 04:00:00  2009       May      1   Friday     4             15   \n",
       "...                   ...       ...    ...      ...   ...            ...   \n",
       "2019-12-31 19:00:00  2019  December     31  Tuesday    19           1360   \n",
       "2019-12-31 20:00:00  2019  December     31  Tuesday    20           1085   \n",
       "2019-12-31 21:00:00  2019  December     31  Tuesday    21            765   \n",
       "2019-12-31 22:00:00  2019  December     31  Tuesday    22            941   \n",
       "2019-12-31 23:00:00  2019  December     31  Tuesday    23            471   \n",
       "\n",
       "                     Trend    LogPed  LogPedFC  laged_LogPed  \n",
       "Date_Time                                                     \n",
       "2009-05-01 00:00:00      1  3.970292  4.569758           NaN  \n",
       "2009-05-01 01:00:00      2  3.555348  4.080925      3.970292  \n",
       "2009-05-01 02:00:00      3  2.995732  3.639173      3.555348  \n",
       "2009-05-01 03:00:00      4  2.708050  3.427148      2.995732  \n",
       "2009-05-01 04:00:00      5  2.772589  3.254977      2.708050  \n",
       "...                    ...       ...       ...           ...  \n",
       "2019-12-31 19:00:00  92559  7.215975  6.714031      7.449498  \n",
       "2019-12-31 20:00:00  92560  6.990257  6.312719      7.215975  \n",
       "2019-12-31 21:00:00  92561  6.641182  5.916224      6.990257  \n",
       "2019-12-31 22:00:00  92562  6.848005  5.534884      6.641182  \n",
       "2019-12-31 23:00:00  92563  6.156979  5.046141      6.848005  \n",
       "\n",
       "[92563 rows x 10 columns]"
      ]
     },
     "execution_count": 44,
     "metadata": {},
     "output_type": "execute_result"
    }
   ],
   "source": [
    "df2_in = df2[df2.index < \"2020-01-01\"]\n",
    "df2_in"
   ]
  },
  {
   "cell_type": "code",
   "execution_count": 56,
   "metadata": {},
   "outputs": [
    {
     "data": {
      "text/html": [
       "<table class=\"simpletable\">\n",
       "<caption>OLS Regression Results</caption>\n",
       "<tr>\n",
       "  <th>Dep. Variable:</th>         <td>LogPed</td>      <th>  R-squared:         </th> <td>   0.952</td> \n",
       "</tr>\n",
       "<tr>\n",
       "  <th>Model:</th>                   <td>OLS</td>       <th>  Adj. R-squared:    </th> <td>   0.952</td> \n",
       "</tr>\n",
       "<tr>\n",
       "  <th>Method:</th>             <td>Least Squares</td>  <th>  F-statistic:       </th> <td>4.414e+04</td>\n",
       "</tr>\n",
       "<tr>\n",
       "  <th>Date:</th>             <td>Thu, 09 Jun 2022</td> <th>  Prob (F-statistic):</th>  <td>  0.00</td>  \n",
       "</tr>\n",
       "<tr>\n",
       "  <th>Time:</th>                 <td>16:47:10</td>     <th>  Log-Likelihood:    </th> <td> -45475.</td> \n",
       "</tr>\n",
       "<tr>\n",
       "  <th>No. Observations:</th>      <td> 92562</td>      <th>  AIC:               </th> <td>9.104e+04</td>\n",
       "</tr>\n",
       "<tr>\n",
       "  <th>Df Residuals:</th>          <td> 92519</td>      <th>  BIC:               </th> <td>9.144e+04</td>\n",
       "</tr>\n",
       "<tr>\n",
       "  <th>Df Model:</th>              <td>    42</td>      <th>                     </th>     <td> </td>    \n",
       "</tr>\n",
       "<tr>\n",
       "  <th>Covariance Type:</th>      <td>nonrobust</td>    <th>                     </th>     <td> </td>    \n",
       "</tr>\n",
       "</table>\n",
       "<table class=\"simpletable\">\n",
       "<tr>\n",
       "            <td></td>               <th>coef</th>     <th>std err</th>      <th>t</th>      <th>P>|t|</th>  <th>[0.025</th>    <th>0.975]</th>  \n",
       "</tr>\n",
       "<tr>\n",
       "  <th>Intercept</th>             <td>    0.9385</td> <td>    0.015</td> <td>   62.964</td> <td> 0.000</td> <td>    0.909</td> <td>    0.968</td>\n",
       "</tr>\n",
       "<tr>\n",
       "  <th>C(Month)[T.August]</th>    <td>   -0.0523</td> <td>    0.006</td> <td>   -8.171</td> <td> 0.000</td> <td>   -0.065</td> <td>   -0.040</td>\n",
       "</tr>\n",
       "<tr>\n",
       "  <th>C(Month)[T.December]</th>  <td>    0.0814</td> <td>    0.006</td> <td>   12.674</td> <td> 0.000</td> <td>    0.069</td> <td>    0.094</td>\n",
       "</tr>\n",
       "<tr>\n",
       "  <th>C(Month)[T.February]</th>  <td>    0.0007</td> <td>    0.007</td> <td>    0.107</td> <td> 0.914</td> <td>   -0.012</td> <td>    0.014</td>\n",
       "</tr>\n",
       "<tr>\n",
       "  <th>C(Month)[T.January]</th>   <td>   -0.0107</td> <td>    0.007</td> <td>   -1.631</td> <td> 0.103</td> <td>   -0.023</td> <td>    0.002</td>\n",
       "</tr>\n",
       "<tr>\n",
       "  <th>C(Month)[T.July]</th>      <td>   -0.0296</td> <td>    0.006</td> <td>   -4.622</td> <td> 0.000</td> <td>   -0.042</td> <td>   -0.017</td>\n",
       "</tr>\n",
       "<tr>\n",
       "  <th>C(Month)[T.June]</th>      <td>   -0.0391</td> <td>    0.006</td> <td>   -6.058</td> <td> 0.000</td> <td>   -0.052</td> <td>   -0.026</td>\n",
       "</tr>\n",
       "<tr>\n",
       "  <th>C(Month)[T.March]</th>     <td>    0.0026</td> <td>    0.007</td> <td>    0.402</td> <td> 0.688</td> <td>   -0.010</td> <td>    0.015</td>\n",
       "</tr>\n",
       "<tr>\n",
       "  <th>C(Month)[T.May]</th>       <td>   -0.0397</td> <td>    0.006</td> <td>   -6.195</td> <td> 0.000</td> <td>   -0.052</td> <td>   -0.027</td>\n",
       "</tr>\n",
       "<tr>\n",
       "  <th>C(Month)[T.November]</th>  <td>    0.0139</td> <td>    0.006</td> <td>    2.157</td> <td> 0.031</td> <td>    0.001</td> <td>    0.027</td>\n",
       "</tr>\n",
       "<tr>\n",
       "  <th>C(Month)[T.October]</th>   <td>   -0.0245</td> <td>    0.006</td> <td>   -3.796</td> <td> 0.000</td> <td>   -0.037</td> <td>   -0.012</td>\n",
       "</tr>\n",
       "<tr>\n",
       "  <th>C(Month)[T.September]</th> <td>   -0.0391</td> <td>    0.007</td> <td>   -5.925</td> <td> 0.000</td> <td>   -0.052</td> <td>   -0.026</td>\n",
       "</tr>\n",
       "<tr>\n",
       "  <th>C(Day)[T.Monday]</th>      <td>   -0.1482</td> <td>    0.005</td> <td>  -30.011</td> <td> 0.000</td> <td>   -0.158</td> <td>   -0.139</td>\n",
       "</tr>\n",
       "<tr>\n",
       "  <th>C(Day)[T.Saturday]</th>    <td>   -0.0259</td> <td>    0.005</td> <td>   -5.326</td> <td> 0.000</td> <td>   -0.035</td> <td>   -0.016</td>\n",
       "</tr>\n",
       "<tr>\n",
       "  <th>C(Day)[T.Sunday]</th>      <td>   -0.1251</td> <td>    0.005</td> <td>  -25.681</td> <td> 0.000</td> <td>   -0.135</td> <td>   -0.116</td>\n",
       "</tr>\n",
       "<tr>\n",
       "  <th>C(Day)[T.Thursday]</th>    <td>   -0.0867</td> <td>    0.005</td> <td>  -17.723</td> <td> 0.000</td> <td>   -0.096</td> <td>   -0.077</td>\n",
       "</tr>\n",
       "<tr>\n",
       "  <th>C(Day)[T.Tuesday]</th>     <td>   -0.1422</td> <td>    0.005</td> <td>  -28.748</td> <td> 0.000</td> <td>   -0.152</td> <td>   -0.133</td>\n",
       "</tr>\n",
       "<tr>\n",
       "  <th>C(Day)[T.Wednesday]</th>   <td>   -0.1208</td> <td>    0.005</td> <td>  -24.540</td> <td> 0.000</td> <td>   -0.130</td> <td>   -0.111</td>\n",
       "</tr>\n",
       "<tr>\n",
       "  <th>C(Time)[T.1]</th>          <td>   -0.0578</td> <td>    0.009</td> <td>   -6.337</td> <td> 0.000</td> <td>   -0.076</td> <td>   -0.040</td>\n",
       "</tr>\n",
       "<tr>\n",
       "  <th>C(Time)[T.2]</th>          <td>   -0.1493</td> <td>    0.009</td> <td>  -15.961</td> <td> 0.000</td> <td>   -0.168</td> <td>   -0.131</td>\n",
       "</tr>\n",
       "<tr>\n",
       "  <th>C(Time)[T.3]</th>          <td>   -0.0482</td> <td>    0.010</td> <td>   -4.981</td> <td> 0.000</td> <td>   -0.067</td> <td>   -0.029</td>\n",
       "</tr>\n",
       "<tr>\n",
       "  <th>C(Time)[T.4]</th>          <td>   -0.0674</td> <td>    0.010</td> <td>   -6.839</td> <td> 0.000</td> <td>   -0.087</td> <td>   -0.048</td>\n",
       "</tr>\n",
       "<tr>\n",
       "  <th>C(Time)[T.5]</th>          <td>    0.3136</td> <td>    0.010</td> <td>   31.292</td> <td> 0.000</td> <td>    0.294</td> <td>    0.333</td>\n",
       "</tr>\n",
       "<tr>\n",
       "  <th>C(Time)[T.6]</th>          <td>    1.0896</td> <td>    0.010</td> <td>  111.431</td> <td> 0.000</td> <td>    1.070</td> <td>    1.109</td>\n",
       "</tr>\n",
       "<tr>\n",
       "  <th>C(Time)[T.7]</th>          <td>    1.3690</td> <td>    0.009</td> <td>  149.622</td> <td> 0.000</td> <td>    1.351</td> <td>    1.387</td>\n",
       "</tr>\n",
       "<tr>\n",
       "  <th>C(Time)[T.8]</th>          <td>    1.5897</td> <td>    0.009</td> <td>  176.066</td> <td> 0.000</td> <td>    1.572</td> <td>    1.607</td>\n",
       "</tr>\n",
       "<tr>\n",
       "  <th>C(Time)[T.9]</th>          <td>    1.4176</td> <td>    0.009</td> <td>  150.765</td> <td> 0.000</td> <td>    1.399</td> <td>    1.436</td>\n",
       "</tr>\n",
       "<tr>\n",
       "  <th>C(Time)[T.10]</th>         <td>    1.6001</td> <td>    0.010</td> <td>  163.727</td> <td> 0.000</td> <td>    1.581</td> <td>    1.619</td>\n",
       "</tr>\n",
       "<tr>\n",
       "  <th>C(Time)[T.11]</th>         <td>    1.6184</td> <td>    0.010</td> <td>  157.158</td> <td> 0.000</td> <td>    1.598</td> <td>    1.639</td>\n",
       "</tr>\n",
       "<tr>\n",
       "  <th>C(Time)[T.12]</th>         <td>    1.7779</td> <td>    0.011</td> <td>  165.190</td> <td> 0.000</td> <td>    1.757</td> <td>    1.799</td>\n",
       "</tr>\n",
       "<tr>\n",
       "  <th>C(Time)[T.13]</th>         <td>    1.5788</td> <td>    0.011</td> <td>  139.154</td> <td> 0.000</td> <td>    1.557</td> <td>    1.601</td>\n",
       "</tr>\n",
       "<tr>\n",
       "  <th>C(Time)[T.14]</th>         <td>    1.3224</td> <td>    0.012</td> <td>  114.912</td> <td> 0.000</td> <td>    1.300</td> <td>    1.345</td>\n",
       "</tr>\n",
       "<tr>\n",
       "  <th>C(Time)[T.15]</th>         <td>    1.4120</td> <td>    0.011</td> <td>  125.347</td> <td> 0.000</td> <td>    1.390</td> <td>    1.434</td>\n",
       "</tr>\n",
       "<tr>\n",
       "  <th>C(Time)[T.16]</th>         <td>    1.3865</td> <td>    0.011</td> <td>  123.609</td> <td> 0.000</td> <td>    1.365</td> <td>    1.408</td>\n",
       "</tr>\n",
       "<tr>\n",
       "  <th>C(Time)[T.17]</th>         <td>    1.3111</td> <td>    0.011</td> <td>  117.603</td> <td> 0.000</td> <td>    1.289</td> <td>    1.333</td>\n",
       "</tr>\n",
       "<tr>\n",
       "  <th>C(Time)[T.18]</th>         <td>    0.9080</td> <td>    0.011</td> <td>   82.539</td> <td> 0.000</td> <td>    0.886</td> <td>    0.930</td>\n",
       "</tr>\n",
       "<tr>\n",
       "  <th>C(Time)[T.19]</th>         <td>    0.6473</td> <td>    0.010</td> <td>   62.210</td> <td> 0.000</td> <td>    0.627</td> <td>    0.668</td>\n",
       "</tr>\n",
       "<tr>\n",
       "  <th>C(Time)[T.20]</th>         <td>    0.6786</td> <td>    0.010</td> <td>   69.345</td> <td> 0.000</td> <td>    0.659</td> <td>    0.698</td>\n",
       "</tr>\n",
       "<tr>\n",
       "  <th>C(Time)[T.21]</th>         <td>    0.5688</td> <td>    0.009</td> <td>   60.096</td> <td> 0.000</td> <td>    0.550</td> <td>    0.587</td>\n",
       "</tr>\n",
       "<tr>\n",
       "  <th>C(Time)[T.22]</th>         <td>    0.4707</td> <td>    0.009</td> <td>   51.015</td> <td> 0.000</td> <td>    0.453</td> <td>    0.489</td>\n",
       "</tr>\n",
       "<tr>\n",
       "  <th>C(Time)[T.23]</th>         <td>    0.2544</td> <td>    0.009</td> <td>   28.022</td> <td> 0.000</td> <td>    0.237</td> <td>    0.272</td>\n",
       "</tr>\n",
       "<tr>\n",
       "  <th>Trend</th>                 <td>-3.732e-07</td> <td> 4.89e-08</td> <td>   -7.637</td> <td> 0.000</td> <td>-4.69e-07</td> <td>-2.77e-07</td>\n",
       "</tr>\n",
       "<tr>\n",
       "  <th>laged_LogPed</th>          <td>    0.7144</td> <td>    0.002</td> <td>  311.923</td> <td> 0.000</td> <td>    0.710</td> <td>    0.719</td>\n",
       "</tr>\n",
       "</table>\n",
       "<table class=\"simpletable\">\n",
       "<tr>\n",
       "  <th>Omnibus:</th>       <td>24139.565</td> <th>  Durbin-Watson:     </th>  <td>   2.034</td> \n",
       "</tr>\n",
       "<tr>\n",
       "  <th>Prob(Omnibus):</th>  <td> 0.000</td>   <th>  Jarque-Bera (JB):  </th> <td>589583.320</td>\n",
       "</tr>\n",
       "<tr>\n",
       "  <th>Skew:</th>           <td>-0.699</td>   <th>  Prob(JB):          </th>  <td>    0.00</td> \n",
       "</tr>\n",
       "<tr>\n",
       "  <th>Kurtosis:</th>       <td>15.285</td>   <th>  Cond. No.          </th>  <td>1.40e+06</td> \n",
       "</tr>\n",
       "</table><br/><br/>Notes:<br/>[1] Standard Errors assume that the covariance matrix of the errors is correctly specified.<br/>[2] The condition number is large, 1.4e+06. This might indicate that there are<br/>strong multicollinearity or other numerical problems."
      ],
      "text/plain": [
       "<class 'statsmodels.iolib.summary.Summary'>\n",
       "\"\"\"\n",
       "                            OLS Regression Results                            \n",
       "==============================================================================\n",
       "Dep. Variable:                 LogPed   R-squared:                       0.952\n",
       "Model:                            OLS   Adj. R-squared:                  0.952\n",
       "Method:                 Least Squares   F-statistic:                 4.414e+04\n",
       "Date:                Thu, 09 Jun 2022   Prob (F-statistic):               0.00\n",
       "Time:                        16:47:10   Log-Likelihood:                -45475.\n",
       "No. Observations:               92562   AIC:                         9.104e+04\n",
       "Df Residuals:                   92519   BIC:                         9.144e+04\n",
       "Df Model:                          42                                         \n",
       "Covariance Type:            nonrobust                                         \n",
       "=========================================================================================\n",
       "                            coef    std err          t      P>|t|      [0.025      0.975]\n",
       "-----------------------------------------------------------------------------------------\n",
       "Intercept                 0.9385      0.015     62.964      0.000       0.909       0.968\n",
       "C(Month)[T.August]       -0.0523      0.006     -8.171      0.000      -0.065      -0.040\n",
       "C(Month)[T.December]      0.0814      0.006     12.674      0.000       0.069       0.094\n",
       "C(Month)[T.February]      0.0007      0.007      0.107      0.914      -0.012       0.014\n",
       "C(Month)[T.January]      -0.0107      0.007     -1.631      0.103      -0.023       0.002\n",
       "C(Month)[T.July]         -0.0296      0.006     -4.622      0.000      -0.042      -0.017\n",
       "C(Month)[T.June]         -0.0391      0.006     -6.058      0.000      -0.052      -0.026\n",
       "C(Month)[T.March]         0.0026      0.007      0.402      0.688      -0.010       0.015\n",
       "C(Month)[T.May]          -0.0397      0.006     -6.195      0.000      -0.052      -0.027\n",
       "C(Month)[T.November]      0.0139      0.006      2.157      0.031       0.001       0.027\n",
       "C(Month)[T.October]      -0.0245      0.006     -3.796      0.000      -0.037      -0.012\n",
       "C(Month)[T.September]    -0.0391      0.007     -5.925      0.000      -0.052      -0.026\n",
       "C(Day)[T.Monday]         -0.1482      0.005    -30.011      0.000      -0.158      -0.139\n",
       "C(Day)[T.Saturday]       -0.0259      0.005     -5.326      0.000      -0.035      -0.016\n",
       "C(Day)[T.Sunday]         -0.1251      0.005    -25.681      0.000      -0.135      -0.116\n",
       "C(Day)[T.Thursday]       -0.0867      0.005    -17.723      0.000      -0.096      -0.077\n",
       "C(Day)[T.Tuesday]        -0.1422      0.005    -28.748      0.000      -0.152      -0.133\n",
       "C(Day)[T.Wednesday]      -0.1208      0.005    -24.540      0.000      -0.130      -0.111\n",
       "C(Time)[T.1]             -0.0578      0.009     -6.337      0.000      -0.076      -0.040\n",
       "C(Time)[T.2]             -0.1493      0.009    -15.961      0.000      -0.168      -0.131\n",
       "C(Time)[T.3]             -0.0482      0.010     -4.981      0.000      -0.067      -0.029\n",
       "C(Time)[T.4]             -0.0674      0.010     -6.839      0.000      -0.087      -0.048\n",
       "C(Time)[T.5]              0.3136      0.010     31.292      0.000       0.294       0.333\n",
       "C(Time)[T.6]              1.0896      0.010    111.431      0.000       1.070       1.109\n",
       "C(Time)[T.7]              1.3690      0.009    149.622      0.000       1.351       1.387\n",
       "C(Time)[T.8]              1.5897      0.009    176.066      0.000       1.572       1.607\n",
       "C(Time)[T.9]              1.4176      0.009    150.765      0.000       1.399       1.436\n",
       "C(Time)[T.10]             1.6001      0.010    163.727      0.000       1.581       1.619\n",
       "C(Time)[T.11]             1.6184      0.010    157.158      0.000       1.598       1.639\n",
       "C(Time)[T.12]             1.7779      0.011    165.190      0.000       1.757       1.799\n",
       "C(Time)[T.13]             1.5788      0.011    139.154      0.000       1.557       1.601\n",
       "C(Time)[T.14]             1.3224      0.012    114.912      0.000       1.300       1.345\n",
       "C(Time)[T.15]             1.4120      0.011    125.347      0.000       1.390       1.434\n",
       "C(Time)[T.16]             1.3865      0.011    123.609      0.000       1.365       1.408\n",
       "C(Time)[T.17]             1.3111      0.011    117.603      0.000       1.289       1.333\n",
       "C(Time)[T.18]             0.9080      0.011     82.539      0.000       0.886       0.930\n",
       "C(Time)[T.19]             0.6473      0.010     62.210      0.000       0.627       0.668\n",
       "C(Time)[T.20]             0.6786      0.010     69.345      0.000       0.659       0.698\n",
       "C(Time)[T.21]             0.5688      0.009     60.096      0.000       0.550       0.587\n",
       "C(Time)[T.22]             0.4707      0.009     51.015      0.000       0.453       0.489\n",
       "C(Time)[T.23]             0.2544      0.009     28.022      0.000       0.237       0.272\n",
       "Trend                 -3.732e-07   4.89e-08     -7.637      0.000   -4.69e-07   -2.77e-07\n",
       "laged_LogPed              0.7144      0.002    311.923      0.000       0.710       0.719\n",
       "==============================================================================\n",
       "Omnibus:                    24139.565   Durbin-Watson:                   2.034\n",
       "Prob(Omnibus):                  0.000   Jarque-Bera (JB):           589583.320\n",
       "Skew:                          -0.699   Prob(JB):                         0.00\n",
       "Kurtosis:                      15.285   Cond. No.                     1.40e+06\n",
       "==============================================================================\n",
       "\n",
       "Notes:\n",
       "[1] Standard Errors assume that the covariance matrix of the errors is correctly specified.\n",
       "[2] The condition number is large, 1.4e+06. This might indicate that there are\n",
       "strong multicollinearity or other numerical problems.\n",
       "\"\"\""
      ]
     },
     "execution_count": 56,
     "metadata": {},
     "output_type": "execute_result"
    }
   ],
   "source": [
    "model2 = sm.ols(formula=\"LogPed ~ Trend + C(Month) + C(Day) + C(Time)+ laged_LogPed\", data=df2_in)\n",
    "results2 = model2.fit()\n",
    "results2.summary()"
   ]
  },
  {
   "cell_type": "code",
   "execution_count": 57,
   "metadata": {},
   "outputs": [
    {
     "name": "stderr",
     "output_type": "stream",
     "text": [
      "C:\\Users\\wh\\AppData\\Local\\Temp/ipykernel_3720/3427454051.py:1: SettingWithCopyWarning: \n",
      "A value is trying to be set on a copy of a slice from a DataFrame.\n",
      "Try using .loc[row_indexer,col_indexer] = value instead\n",
      "\n",
      "See the caveats in the documentation: https://pandas.pydata.org/pandas-docs/stable/user_guide/indexing.html#returning-a-view-versus-a-copy\n",
      "  df2['laged_LogPedFC'] = results2.predict(df2)\n"
     ]
    }
   ],
   "source": [
    "df2['laged_LogPedFC'] = results2.predict(df2)"
   ]
  },
  {
   "cell_type": "code",
   "execution_count": 59,
   "metadata": {},
   "outputs": [
    {
     "data": {
      "text/plain": [
       "<AxesSubplot:xlabel='Date_Time'>"
      ]
     },
     "execution_count": 59,
     "metadata": {},
     "output_type": "execute_result"
    },
    {
     "data": {
      "image/png": "[encoded data removed]",
      "text/plain": [
       "<Figure size 432x288 with 1 Axes>"
      ]
     },
     "metadata": {
      "needs_background": "light"
     },
     "output_type": "display_data"
    }
   ],
   "source": [
    "dfplot = df2.filter(['LogPed', 'laged_LogPedFC'])\n",
    "sns.lineplot(data=dfplot)"
   ]
  },
  {
   "cell_type": "code",
   "execution_count": null,
   "metadata": {},
   "outputs": [],
   "source": []
  }
 ],
 "metadata": {
  "interpreter": {
   "hash": "8fb8326e71429570233a3311511fa147ec956938a2ea72d50a4d602b71daaae4"
  },
  "kernelspec": {
   "display_name": "Python 3.9.7",
   "language": "python",
   "name": "python3"
  },
  "language_info": {
   "codemirror_mode": {
    "name": "ipython",
    "version": 3
   },
   "file_extension": ".py",
   "mimetype": "text/x-python",
   "name": "python",
   "nbconvert_exporter": "python",
   "pygments_lexer": "ipython3",
   "version": "3.9.7"
  },
  "orig_nbformat": 4
 },
 "nbformat": 4,
 "nbformat_minor": 2
}
