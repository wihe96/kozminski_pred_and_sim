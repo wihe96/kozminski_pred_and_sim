{
 "cells": [
  {
   "cell_type": "markdown",
   "metadata": {},
   "source": [
    "Source:\n",
    "https://data.melbourne.vic.gov.au/Transport/Pedestrian-Counting-System-Monthly-counts-per-hour/b2ak-trbp"
   ]
  },
  {
   "cell_type": "code",
   "execution_count": 2,
   "metadata": {},
   "outputs": [],
   "source": [
    "import pandas as pd\n",
    "import seaborn as sns\n",
    "import numpy as np"
   ]
  },
  {
   "cell_type": "code",
   "execution_count": 3,
   "metadata": {},
   "outputs": [],
   "source": [
    "df = pd.read_csv(\"Pedestrians.csv\", thousands = \",\")\n",
    "df.index = df.Date_Time.astype('datetime64')\n",
    "df2 = df.drop_duplicates(subset = 'Date_Time', keep = False)"
   ]
  },
  {
   "cell_type": "code",
   "execution_count": 4,
   "metadata": {},
   "outputs": [],
   "source": [
    "del df2['Sensor_ID']\n",
    "del df2['Sensor_Name']\n",
    "del df2['ID']\n",
    "del df2['Date_Time']"
   ]
  },
  {
   "cell_type": "code",
   "execution_count": 5,
   "metadata": {},
   "outputs": [
    {
     "name": "stderr",
     "output_type": "stream",
     "text": [
      "c:\\Users\\wh\\anaconda3_python\\lib\\site-packages\\pandas\\core\\frame.py:6393: SettingWithCopyWarning: \n",
      "A value is trying to be set on a copy of a slice from a DataFrame\n",
      "\n",
      "See the caveats in the documentation: https://pandas.pydata.org/pandas-docs/stable/user_guide/indexing.html#returning-a-view-versus-a-copy\n",
      "  return super().sort_index(\n"
     ]
    }
   ],
   "source": [
    "df2.sort_index(inplace=True)"
   ]
  },
  {
   "cell_type": "code",
   "execution_count": 6,
   "metadata": {},
   "outputs": [
    {
     "data": {
      "text/plain": [
       "<AxesSubplot:xlabel='Date_Time', ylabel='Hourly_Counts'>"
      ]
     },
     "execution_count": 6,
     "metadata": {},
     "output_type": "execute_result"
    },
    {
     "data": {
      "image/png": "[encoded data removed]",
      "text/plain": [
       "<Figure size 432x288 with 1 Axes>"
      ]
     },
     "metadata": {
      "needs_background": "light"
     },
     "output_type": "display_data"
    }
   ],
   "source": [
    "sns.lineplot(x=df2.index, y='Hourly_Counts', data=df2)"
   ]
  },
  {
   "cell_type": "code",
   "execution_count": 7,
   "metadata": {},
   "outputs": [
    {
     "data": {
      "text/html": [
       "<div>\n",
       "<style scoped>\n",
       "    .dataframe tbody tr th:only-of-type {\n",
       "        vertical-align: middle;\n",
       "    }\n",
       "\n",
       "    .dataframe tbody tr th {\n",
       "        vertical-align: top;\n",
       "    }\n",
       "\n",
       "    .dataframe thead th {\n",
       "        text-align: right;\n",
       "    }\n",
       "</style>\n",
       "<table border=\"1\" class=\"dataframe\">\n",
       "  <thead>\n",
       "    <tr style=\"text-align: right;\">\n",
       "      <th></th>\n",
       "      <th>Year</th>\n",
       "      <th>Month</th>\n",
       "      <th>Mdate</th>\n",
       "      <th>Day</th>\n",
       "      <th>Time</th>\n",
       "      <th>Hourly_Counts</th>\n",
       "    </tr>\n",
       "    <tr>\n",
       "      <th>Date_Time</th>\n",
       "      <th></th>\n",
       "      <th></th>\n",
       "      <th></th>\n",
       "      <th></th>\n",
       "      <th></th>\n",
       "      <th></th>\n",
       "    </tr>\n",
       "  </thead>\n",
       "  <tbody>\n",
       "    <tr>\n",
       "      <th>2009-05-01 00:00:00</th>\n",
       "      <td>2009</td>\n",
       "      <td>May</td>\n",
       "      <td>1</td>\n",
       "      <td>Friday</td>\n",
       "      <td>0</td>\n",
       "      <td>52</td>\n",
       "    </tr>\n",
       "    <tr>\n",
       "      <th>2009-05-01 01:00:00</th>\n",
       "      <td>2009</td>\n",
       "      <td>May</td>\n",
       "      <td>1</td>\n",
       "      <td>Friday</td>\n",
       "      <td>1</td>\n",
       "      <td>34</td>\n",
       "    </tr>\n",
       "    <tr>\n",
       "      <th>2009-05-01 02:00:00</th>\n",
       "      <td>2009</td>\n",
       "      <td>May</td>\n",
       "      <td>1</td>\n",
       "      <td>Friday</td>\n",
       "      <td>2</td>\n",
       "      <td>19</td>\n",
       "    </tr>\n",
       "    <tr>\n",
       "      <th>2009-05-01 03:00:00</th>\n",
       "      <td>2009</td>\n",
       "      <td>May</td>\n",
       "      <td>1</td>\n",
       "      <td>Friday</td>\n",
       "      <td>3</td>\n",
       "      <td>14</td>\n",
       "    </tr>\n",
       "    <tr>\n",
       "      <th>2009-05-01 04:00:00</th>\n",
       "      <td>2009</td>\n",
       "      <td>May</td>\n",
       "      <td>1</td>\n",
       "      <td>Friday</td>\n",
       "      <td>4</td>\n",
       "      <td>15</td>\n",
       "    </tr>\n",
       "  </tbody>\n",
       "</table>\n",
       "</div>"
      ],
      "text/plain": [
       "                     Year Month  Mdate     Day  Time  Hourly_Counts\n",
       "Date_Time                                                          \n",
       "2009-05-01 00:00:00  2009   May      1  Friday     0             52\n",
       "2009-05-01 01:00:00  2009   May      1  Friday     1             34\n",
       "2009-05-01 02:00:00  2009   May      1  Friday     2             19\n",
       "2009-05-01 03:00:00  2009   May      1  Friday     3             14\n",
       "2009-05-01 04:00:00  2009   May      1  Friday     4             15"
      ]
     },
     "execution_count": 7,
     "metadata": {},
     "output_type": "execute_result"
    }
   ],
   "source": [
    "df2.head()"
   ]
  },
  {
   "cell_type": "code",
   "execution_count": 8,
   "metadata": {},
   "outputs": [
    {
     "data": {
      "text/html": [
       "<div>\n",
       "<style scoped>\n",
       "    .dataframe tbody tr th:only-of-type {\n",
       "        vertical-align: middle;\n",
       "    }\n",
       "\n",
       "    .dataframe tbody tr th {\n",
       "        vertical-align: top;\n",
       "    }\n",
       "\n",
       "    .dataframe thead th {\n",
       "        text-align: right;\n",
       "    }\n",
       "</style>\n",
       "<table border=\"1\" class=\"dataframe\">\n",
       "  <thead>\n",
       "    <tr style=\"text-align: right;\">\n",
       "      <th></th>\n",
       "      <th>Year</th>\n",
       "      <th>Month</th>\n",
       "      <th>Mdate</th>\n",
       "      <th>Day</th>\n",
       "      <th>Time</th>\n",
       "      <th>Hourly_Counts</th>\n",
       "    </tr>\n",
       "    <tr>\n",
       "      <th>Date_Time</th>\n",
       "      <th></th>\n",
       "      <th></th>\n",
       "      <th></th>\n",
       "      <th></th>\n",
       "      <th></th>\n",
       "      <th></th>\n",
       "    </tr>\n",
       "  </thead>\n",
       "  <tbody>\n",
       "    <tr>\n",
       "      <th>2022-04-30 19:00:00</th>\n",
       "      <td>2022</td>\n",
       "      <td>April</td>\n",
       "      <td>30</td>\n",
       "      <td>Saturday</td>\n",
       "      <td>19</td>\n",
       "      <td>489</td>\n",
       "    </tr>\n",
       "    <tr>\n",
       "      <th>2022-04-30 20:00:00</th>\n",
       "      <td>2022</td>\n",
       "      <td>April</td>\n",
       "      <td>30</td>\n",
       "      <td>Saturday</td>\n",
       "      <td>20</td>\n",
       "      <td>403</td>\n",
       "    </tr>\n",
       "    <tr>\n",
       "      <th>2022-04-30 21:00:00</th>\n",
       "      <td>2022</td>\n",
       "      <td>April</td>\n",
       "      <td>30</td>\n",
       "      <td>Saturday</td>\n",
       "      <td>21</td>\n",
       "      <td>310</td>\n",
       "    </tr>\n",
       "    <tr>\n",
       "      <th>2022-04-30 22:00:00</th>\n",
       "      <td>2022</td>\n",
       "      <td>April</td>\n",
       "      <td>30</td>\n",
       "      <td>Saturday</td>\n",
       "      <td>22</td>\n",
       "      <td>445</td>\n",
       "    </tr>\n",
       "    <tr>\n",
       "      <th>2022-04-30 23:00:00</th>\n",
       "      <td>2022</td>\n",
       "      <td>April</td>\n",
       "      <td>30</td>\n",
       "      <td>Saturday</td>\n",
       "      <td>23</td>\n",
       "      <td>244</td>\n",
       "    </tr>\n",
       "  </tbody>\n",
       "</table>\n",
       "</div>"
      ],
      "text/plain": [
       "                     Year  Month  Mdate       Day  Time  Hourly_Counts\n",
       "Date_Time                                                             \n",
       "2022-04-30 19:00:00  2022  April     30  Saturday    19            489\n",
       "2022-04-30 20:00:00  2022  April     30  Saturday    20            403\n",
       "2022-04-30 21:00:00  2022  April     30  Saturday    21            310\n",
       "2022-04-30 22:00:00  2022  April     30  Saturday    22            445\n",
       "2022-04-30 23:00:00  2022  April     30  Saturday    23            244"
      ]
     },
     "execution_count": 8,
     "metadata": {},
     "output_type": "execute_result"
    }
   ],
   "source": [
    "df2.tail()"
   ]
  },
  {
   "cell_type": "code",
   "execution_count": 9,
   "metadata": {},
   "outputs": [],
   "source": [
    "import statsmodels.formula.api as sm"
   ]
  },
  {
   "cell_type": "code",
   "execution_count": 10,
   "metadata": {},
   "outputs": [
    {
     "name": "stderr",
     "output_type": "stream",
     "text": [
      "C:\\Users\\wh\\AppData\\Local\\Temp/ipykernel_27632/2290489968.py:1: SettingWithCopyWarning: \n",
      "A value is trying to be set on a copy of a slice from a DataFrame.\n",
      "Try using .loc[row_indexer,col_indexer] = value instead\n",
      "\n",
      "See the caveats in the documentation: https://pandas.pydata.org/pandas-docs/stable/user_guide/indexing.html#returning-a-view-versus-a-copy\n",
      "  df2['Trend'] = range(1,len(df2)+1)\n"
     ]
    }
   ],
   "source": [
    "df2['Trend'] = range(1,len(df2)+1)"
   ]
  },
  {
   "cell_type": "code",
   "execution_count": 11,
   "metadata": {},
   "outputs": [],
   "source": [
    "df2_in = df2[df2.index < \"2020-01-01\"]"
   ]
  },
  {
   "cell_type": "code",
   "execution_count": 12,
   "metadata": {},
   "outputs": [
    {
     "data": {
      "text/html": [
       "<table class=\"simpletable\">\n",
       "<caption>OLS Regression Results</caption>\n",
       "<tr>\n",
       "  <th>Dep. Variable:</th>      <td>Hourly_Counts</td>  <th>  R-squared:         </th>  <td>   0.904</td>  \n",
       "</tr>\n",
       "<tr>\n",
       "  <th>Model:</th>                   <td>OLS</td>       <th>  Adj. R-squared:    </th>  <td>   0.904</td>  \n",
       "</tr>\n",
       "<tr>\n",
       "  <th>Method:</th>             <td>Least Squares</td>  <th>  F-statistic:       </th>  <td>2.121e+04</td> \n",
       "</tr>\n",
       "<tr>\n",
       "  <th>Date:</th>             <td>Thu, 02 Jun 2022</td> <th>  Prob (F-statistic):</th>   <td>  0.00</td>   \n",
       "</tr>\n",
       "<tr>\n",
       "  <th>Time:</th>                 <td>17:54:47</td>     <th>  Log-Likelihood:    </th> <td>-6.7932e+05</td>\n",
       "</tr>\n",
       "<tr>\n",
       "  <th>No. Observations:</th>      <td> 92563</td>      <th>  AIC:               </th>  <td>1.359e+06</td> \n",
       "</tr>\n",
       "<tr>\n",
       "  <th>Df Residuals:</th>          <td> 92521</td>      <th>  BIC:               </th>  <td>1.359e+06</td> \n",
       "</tr>\n",
       "<tr>\n",
       "  <th>Df Model:</th>              <td>    41</td>      <th>                     </th>      <td> </td>     \n",
       "</tr>\n",
       "<tr>\n",
       "  <th>Covariance Type:</th>      <td>nonrobust</td>    <th>                     </th>      <td> </td>     \n",
       "</tr>\n",
       "</table>\n",
       "<table class=\"simpletable\">\n",
       "<tr>\n",
       "            <td></td>               <th>coef</th>     <th>std err</th>      <th>t</th>      <th>P>|t|</th>  <th>[0.025</th>    <th>0.975]</th>  \n",
       "</tr>\n",
       "<tr>\n",
       "  <th>Intercept</th>             <td>  456.3148</td> <td>    8.211</td> <td>   55.576</td> <td> 0.000</td> <td>  440.222</td> <td>  472.407</td>\n",
       "</tr>\n",
       "<tr>\n",
       "  <th>C(Month)[T.August]</th>    <td> -108.2670</td> <td>    6.019</td> <td>  -17.986</td> <td> 0.000</td> <td> -120.065</td> <td>  -96.469</td>\n",
       "</tr>\n",
       "<tr>\n",
       "  <th>C(Month)[T.December]</th>  <td>  382.0090</td> <td>    6.019</td> <td>   63.462</td> <td> 0.000</td> <td>  370.211</td> <td>  393.807</td>\n",
       "</tr>\n",
       "<tr>\n",
       "  <th>C(Month)[T.February]</th>  <td>  -57.0073</td> <td>    6.307</td> <td>   -9.038</td> <td> 0.000</td> <td>  -69.369</td> <td>  -44.645</td>\n",
       "</tr>\n",
       "<tr>\n",
       "  <th>C(Month)[T.January]</th>   <td>  -43.5037</td> <td>    6.159</td> <td>   -7.063</td> <td> 0.000</td> <td>  -55.576</td> <td>  -31.432</td>\n",
       "</tr>\n",
       "<tr>\n",
       "  <th>C(Month)[T.July]</th>      <td>  -41.7004</td> <td>    6.020</td> <td>   -6.927</td> <td> 0.000</td> <td>  -53.499</td> <td>  -29.901</td>\n",
       "</tr>\n",
       "<tr>\n",
       "  <th>C(Month)[T.June]</th>      <td>  -98.7706</td> <td>    6.067</td> <td>  -16.279</td> <td> 0.000</td> <td> -110.662</td> <td>  -86.879</td>\n",
       "</tr>\n",
       "<tr>\n",
       "  <th>C(Month)[T.March]</th>     <td>  -36.2469</td> <td>    6.158</td> <td>   -5.886</td> <td> 0.000</td> <td>  -48.317</td> <td>  -24.176</td>\n",
       "</tr>\n",
       "<tr>\n",
       "  <th>C(Month)[T.May]</th>       <td> -122.4008</td> <td>    6.021</td> <td>  -20.328</td> <td> 0.000</td> <td> -134.203</td> <td> -110.599</td>\n",
       "</tr>\n",
       "<tr>\n",
       "  <th>C(Month)[T.November]</th>  <td>   52.7870</td> <td>    6.066</td> <td>    8.702</td> <td> 0.000</td> <td>   40.898</td> <td>   64.676</td>\n",
       "</tr>\n",
       "<tr>\n",
       "  <th>C(Month)[T.October]</th>   <td>  -37.7371</td> <td>    6.063</td> <td>   -6.224</td> <td> 0.000</td> <td>  -49.620</td> <td>  -25.854</td>\n",
       "</tr>\n",
       "<tr>\n",
       "  <th>C(Month)[T.September]</th> <td>  -66.5422</td> <td>    6.210</td> <td>  -10.715</td> <td> 0.000</td> <td>  -78.714</td> <td>  -54.371</td>\n",
       "</tr>\n",
       "<tr>\n",
       "  <th>C(Day)[T.Monday]</th>      <td> -289.6182</td> <td>    4.577</td> <td>  -63.276</td> <td> 0.000</td> <td> -298.589</td> <td> -280.647</td>\n",
       "</tr>\n",
       "<tr>\n",
       "  <th>C(Day)[T.Saturday]</th>    <td> -148.1080</td> <td>    4.577</td> <td>  -32.359</td> <td> 0.000</td> <td> -157.079</td> <td> -139.137</td>\n",
       "</tr>\n",
       "<tr>\n",
       "  <th>C(Day)[T.Sunday]</th>      <td> -394.6548</td> <td>    4.577</td> <td>  -86.216</td> <td> 0.000</td> <td> -403.627</td> <td> -385.683</td>\n",
       "</tr>\n",
       "<tr>\n",
       "  <th>C(Day)[T.Thursday]</th>    <td> -175.7566</td> <td>    4.583</td> <td>  -38.347</td> <td> 0.000</td> <td> -184.740</td> <td> -166.773</td>\n",
       "</tr>\n",
       "<tr>\n",
       "  <th>C(Day)[T.Tuesday]</th>     <td> -309.6232</td> <td>    4.579</td> <td>  -67.616</td> <td> 0.000</td> <td> -318.598</td> <td> -300.648</td>\n",
       "</tr>\n",
       "<tr>\n",
       "  <th>C(Day)[T.Wednesday]</th>   <td> -243.6581</td> <td>    4.583</td> <td>  -53.162</td> <td> 0.000</td> <td> -252.641</td> <td> -234.675</td>\n",
       "</tr>\n",
       "<tr>\n",
       "  <th>C(Time)[T.1]</th>          <td>  -35.4016</td> <td>    8.483</td> <td>   -4.173</td> <td> 0.000</td> <td>  -52.028</td> <td>  -18.776</td>\n",
       "</tr>\n",
       "<tr>\n",
       "  <th>C(Time)[T.2]</th>          <td>  -58.6945</td> <td>    8.485</td> <td>   -6.917</td> <td> 0.000</td> <td>  -75.326</td> <td>  -42.063</td>\n",
       "</tr>\n",
       "<tr>\n",
       "  <th>C(Time)[T.3]</th>          <td>  -68.2935</td> <td>    8.483</td> <td>   -8.051</td> <td> 0.000</td> <td>  -84.920</td> <td>  -51.668</td>\n",
       "</tr>\n",
       "<tr>\n",
       "  <th>C(Time)[T.4]</th>          <td>  -83.0732</td> <td>    8.483</td> <td>   -9.793</td> <td> 0.000</td> <td>  -99.699</td> <td>  -66.447</td>\n",
       "</tr>\n",
       "<tr>\n",
       "  <th>C(Time)[T.5]</th>          <td>  -82.8570</td> <td>    8.483</td> <td>   -9.768</td> <td> 0.000</td> <td>  -99.483</td> <td>  -66.231</td>\n",
       "</tr>\n",
       "<tr>\n",
       "  <th>C(Time)[T.6]</th>          <td>  -34.5448</td> <td>    8.483</td> <td>   -4.072</td> <td> 0.000</td> <td>  -51.171</td> <td>  -17.919</td>\n",
       "</tr>\n",
       "<tr>\n",
       "  <th>C(Time)[T.7]</th>          <td>  110.2656</td> <td>    8.483</td> <td>   12.999</td> <td> 0.000</td> <td>   93.640</td> <td>  126.892</td>\n",
       "</tr>\n",
       "<tr>\n",
       "  <th>C(Time)[T.8]</th>          <td>  433.0188</td> <td>    8.483</td> <td>   51.047</td> <td> 0.000</td> <td>  416.393</td> <td>  449.645</td>\n",
       "</tr>\n",
       "<tr>\n",
       "  <th>C(Time)[T.9]</th>          <td>  676.9221</td> <td>    8.483</td> <td>   79.800</td> <td> 0.000</td> <td>  660.296</td> <td>  693.548</td>\n",
       "</tr>\n",
       "<tr>\n",
       "  <th>C(Time)[T.10]</th>         <td> 1200.2065</td> <td>    8.483</td> <td>  141.489</td> <td> 0.000</td> <td> 1183.581</td> <td> 1216.832</td>\n",
       "</tr>\n",
       "<tr>\n",
       "  <th>C(Time)[T.11]</th>         <td> 1833.1696</td> <td>    8.483</td> <td>  216.107</td> <td> 0.000</td> <td> 1816.544</td> <td> 1849.796</td>\n",
       "</tr>\n",
       "<tr>\n",
       "  <th>C(Time)[T.12]</th>         <td> 2899.4087</td> <td>    8.483</td> <td>  341.803</td> <td> 0.000</td> <td> 2882.783</td> <td> 2916.035</td>\n",
       "</tr>\n",
       "<tr>\n",
       "  <th>C(Time)[T.13]</th>         <td> 3273.6443</td> <td>    8.483</td> <td>  385.921</td> <td> 0.000</td> <td> 3257.018</td> <td> 3290.270</td>\n",
       "</tr>\n",
       "<tr>\n",
       "  <th>C(Time)[T.14]</th>         <td> 2727.5059</td> <td>    8.483</td> <td>  321.538</td> <td> 0.000</td> <td> 2710.880</td> <td> 2744.132</td>\n",
       "</tr>\n",
       "<tr>\n",
       "  <th>C(Time)[T.15]</th>         <td> 2638.1831</td> <td>    8.483</td> <td>  311.008</td> <td> 0.000</td> <td> 2621.557</td> <td> 2654.809</td>\n",
       "</tr>\n",
       "<tr>\n",
       "  <th>C(Time)[T.16]</th>         <td> 2502.3531</td> <td>    8.483</td> <td>  294.996</td> <td> 0.000</td> <td> 2485.727</td> <td> 2518.979</td>\n",
       "</tr>\n",
       "<tr>\n",
       "  <th>C(Time)[T.17]</th>         <td> 2249.6899</td> <td>    8.483</td> <td>  265.210</td> <td> 0.000</td> <td> 2233.064</td> <td> 2266.316</td>\n",
       "</tr>\n",
       "<tr>\n",
       "  <th>C(Time)[T.18]</th>         <td> 1419.4954</td> <td>    8.483</td> <td>  167.340</td> <td> 0.000</td> <td> 1402.869</td> <td> 1436.121</td>\n",
       "</tr>\n",
       "<tr>\n",
       "  <th>C(Time)[T.19]</th>         <td>  768.8465</td> <td>    8.483</td> <td>   90.637</td> <td> 0.000</td> <td>  752.221</td> <td>  785.472</td>\n",
       "</tr>\n",
       "<tr>\n",
       "  <th>C(Time)[T.20]</th>         <td>  503.4928</td> <td>    8.483</td> <td>   59.355</td> <td> 0.000</td> <td>  486.867</td> <td>  520.119</td>\n",
       "</tr>\n",
       "<tr>\n",
       "  <th>C(Time)[T.21]</th>         <td>  296.7044</td> <td>    8.483</td> <td>   34.978</td> <td> 0.000</td> <td>  280.078</td> <td>  313.330</td>\n",
       "</tr>\n",
       "<tr>\n",
       "  <th>C(Time)[T.22]</th>         <td>  175.8685</td> <td>    8.483</td> <td>   20.733</td> <td> 0.000</td> <td>  159.243</td> <td>  192.494</td>\n",
       "</tr>\n",
       "<tr>\n",
       "  <th>C(Time)[T.23]</th>         <td>   76.2389</td> <td>    8.483</td> <td>    8.988</td> <td> 0.000</td> <td>   59.613</td> <td>   92.865</td>\n",
       "</tr>\n",
       "<tr>\n",
       "  <th>Trend</th>                 <td>   -0.0023</td> <td> 4.59e-05</td> <td>  -50.476</td> <td> 0.000</td> <td>   -0.002</td> <td>   -0.002</td>\n",
       "</tr>\n",
       "</table>\n",
       "<table class=\"simpletable\">\n",
       "<tr>\n",
       "  <th>Omnibus:</th>       <td>27388.130</td> <th>  Durbin-Watson:     </th>  <td>   0.432</td> \n",
       "</tr>\n",
       "<tr>\n",
       "  <th>Prob(Omnibus):</th>  <td> 0.000</td>   <th>  Jarque-Bera (JB):  </th> <td>484903.164</td>\n",
       "</tr>\n",
       "<tr>\n",
       "  <th>Skew:</th>           <td> 0.968</td>   <th>  Prob(JB):          </th>  <td>    0.00</td> \n",
       "</tr>\n",
       "<tr>\n",
       "  <th>Kurtosis:</th>       <td>14.045</td>   <th>  Cond. No.          </th>  <td>1.31e+06</td> \n",
       "</tr>\n",
       "</table><br/><br/>Notes:<br/>[1] Standard Errors assume that the covariance matrix of the errors is correctly specified.<br/>[2] The condition number is large, 1.31e+06. This might indicate that there are<br/>strong multicollinearity or other numerical problems."
      ],
      "text/plain": [
       "<class 'statsmodels.iolib.summary.Summary'>\n",
       "\"\"\"\n",
       "                            OLS Regression Results                            \n",
       "==============================================================================\n",
       "Dep. Variable:          Hourly_Counts   R-squared:                       0.904\n",
       "Model:                            OLS   Adj. R-squared:                  0.904\n",
       "Method:                 Least Squares   F-statistic:                 2.121e+04\n",
       "Date:                Thu, 02 Jun 2022   Prob (F-statistic):               0.00\n",
       "Time:                        17:54:47   Log-Likelihood:            -6.7932e+05\n",
       "No. Observations:               92563   AIC:                         1.359e+06\n",
       "Df Residuals:                   92521   BIC:                         1.359e+06\n",
       "Df Model:                          41                                         \n",
       "Covariance Type:            nonrobust                                         \n",
       "=========================================================================================\n",
       "                            coef    std err          t      P>|t|      [0.025      0.975]\n",
       "-----------------------------------------------------------------------------------------\n",
       "Intercept               456.3148      8.211     55.576      0.000     440.222     472.407\n",
       "C(Month)[T.August]     -108.2670      6.019    -17.986      0.000    -120.065     -96.469\n",
       "C(Month)[T.December]    382.0090      6.019     63.462      0.000     370.211     393.807\n",
       "C(Month)[T.February]    -57.0073      6.307     -9.038      0.000     -69.369     -44.645\n",
       "C(Month)[T.January]     -43.5037      6.159     -7.063      0.000     -55.576     -31.432\n",
       "C(Month)[T.July]        -41.7004      6.020     -6.927      0.000     -53.499     -29.901\n",
       "C(Month)[T.June]        -98.7706      6.067    -16.279      0.000    -110.662     -86.879\n",
       "C(Month)[T.March]       -36.2469      6.158     -5.886      0.000     -48.317     -24.176\n",
       "C(Month)[T.May]        -122.4008      6.021    -20.328      0.000    -134.203    -110.599\n",
       "C(Month)[T.November]     52.7870      6.066      8.702      0.000      40.898      64.676\n",
       "C(Month)[T.October]     -37.7371      6.063     -6.224      0.000     -49.620     -25.854\n",
       "C(Month)[T.September]   -66.5422      6.210    -10.715      0.000     -78.714     -54.371\n",
       "C(Day)[T.Monday]       -289.6182      4.577    -63.276      0.000    -298.589    -280.647\n",
       "C(Day)[T.Saturday]     -148.1080      4.577    -32.359      0.000    -157.079    -139.137\n",
       "C(Day)[T.Sunday]       -394.6548      4.577    -86.216      0.000    -403.627    -385.683\n",
       "C(Day)[T.Thursday]     -175.7566      4.583    -38.347      0.000    -184.740    -166.773\n",
       "C(Day)[T.Tuesday]      -309.6232      4.579    -67.616      0.000    -318.598    -300.648\n",
       "C(Day)[T.Wednesday]    -243.6581      4.583    -53.162      0.000    -252.641    -234.675\n",
       "C(Time)[T.1]            -35.4016      8.483     -4.173      0.000     -52.028     -18.776\n",
       "C(Time)[T.2]            -58.6945      8.485     -6.917      0.000     -75.326     -42.063\n",
       "C(Time)[T.3]            -68.2935      8.483     -8.051      0.000     -84.920     -51.668\n",
       "C(Time)[T.4]            -83.0732      8.483     -9.793      0.000     -99.699     -66.447\n",
       "C(Time)[T.5]            -82.8570      8.483     -9.768      0.000     -99.483     -66.231\n",
       "C(Time)[T.6]            -34.5448      8.483     -4.072      0.000     -51.171     -17.919\n",
       "C(Time)[T.7]            110.2656      8.483     12.999      0.000      93.640     126.892\n",
       "C(Time)[T.8]            433.0188      8.483     51.047      0.000     416.393     449.645\n",
       "C(Time)[T.9]            676.9221      8.483     79.800      0.000     660.296     693.548\n",
       "C(Time)[T.10]          1200.2065      8.483    141.489      0.000    1183.581    1216.832\n",
       "C(Time)[T.11]          1833.1696      8.483    216.107      0.000    1816.544    1849.796\n",
       "C(Time)[T.12]          2899.4087      8.483    341.803      0.000    2882.783    2916.035\n",
       "C(Time)[T.13]          3273.6443      8.483    385.921      0.000    3257.018    3290.270\n",
       "C(Time)[T.14]          2727.5059      8.483    321.538      0.000    2710.880    2744.132\n",
       "C(Time)[T.15]          2638.1831      8.483    311.008      0.000    2621.557    2654.809\n",
       "C(Time)[T.16]          2502.3531      8.483    294.996      0.000    2485.727    2518.979\n",
       "C(Time)[T.17]          2249.6899      8.483    265.210      0.000    2233.064    2266.316\n",
       "C(Time)[T.18]          1419.4954      8.483    167.340      0.000    1402.869    1436.121\n",
       "C(Time)[T.19]           768.8465      8.483     90.637      0.000     752.221     785.472\n",
       "C(Time)[T.20]           503.4928      8.483     59.355      0.000     486.867     520.119\n",
       "C(Time)[T.21]           296.7044      8.483     34.978      0.000     280.078     313.330\n",
       "C(Time)[T.22]           175.8685      8.483     20.733      0.000     159.243     192.494\n",
       "C(Time)[T.23]            76.2389      8.483      8.988      0.000      59.613      92.865\n",
       "Trend                    -0.0023   4.59e-05    -50.476      0.000      -0.002      -0.002\n",
       "==============================================================================\n",
       "Omnibus:                    27388.130   Durbin-Watson:                   0.432\n",
       "Prob(Omnibus):                  0.000   Jarque-Bera (JB):           484903.164\n",
       "Skew:                           0.968   Prob(JB):                         0.00\n",
       "Kurtosis:                      14.045   Cond. No.                     1.31e+06\n",
       "==============================================================================\n",
       "\n",
       "Notes:\n",
       "[1] Standard Errors assume that the covariance matrix of the errors is correctly specified.\n",
       "[2] The condition number is large, 1.31e+06. This might indicate that there are\n",
       "strong multicollinearity or other numerical problems.\n",
       "\"\"\""
      ]
     },
     "execution_count": 12,
     "metadata": {},
     "output_type": "execute_result"
    }
   ],
   "source": [
    "model = sm.ols(formula=\"Hourly_Counts ~ Trend + C(Month) + C(Day) + C(Time)\", data=df2_in)\n",
    "results = model.fit()\n",
    "results.summary()"
   ]
  },
  {
   "cell_type": "code",
   "execution_count": 13,
   "metadata": {},
   "outputs": [
    {
     "name": "stderr",
     "output_type": "stream",
     "text": [
      "C:\\Users\\wh\\AppData\\Local\\Temp/ipykernel_27632/2955477120.py:1: SettingWithCopyWarning: \n",
      "A value is trying to be set on a copy of a slice from a DataFrame.\n",
      "Try using .loc[row_indexer,col_indexer] = value instead\n",
      "\n",
      "See the caveats in the documentation: https://pandas.pydata.org/pandas-docs/stable/user_guide/indexing.html#returning-a-view-versus-a-copy\n",
      "  df2['PedestriansFC'] = results.predict(df2)\n"
     ]
    }
   ],
   "source": [
    "df2['PedestriansFC'] = results.predict(df2)"
   ]
  },
  {
   "cell_type": "code",
   "execution_count": 14,
   "metadata": {},
   "outputs": [
    {
     "data": {
      "text/html": [
       "<div>\n",
       "<style scoped>\n",
       "    .dataframe tbody tr th:only-of-type {\n",
       "        vertical-align: middle;\n",
       "    }\n",
       "\n",
       "    .dataframe tbody tr th {\n",
       "        vertical-align: top;\n",
       "    }\n",
       "\n",
       "    .dataframe thead th {\n",
       "        text-align: right;\n",
       "    }\n",
       "</style>\n",
       "<table border=\"1\" class=\"dataframe\">\n",
       "  <thead>\n",
       "    <tr style=\"text-align: right;\">\n",
       "      <th></th>\n",
       "      <th>Year</th>\n",
       "      <th>Month</th>\n",
       "      <th>Mdate</th>\n",
       "      <th>Day</th>\n",
       "      <th>Time</th>\n",
       "      <th>Hourly_Counts</th>\n",
       "      <th>Trend</th>\n",
       "      <th>PedestriansFC</th>\n",
       "    </tr>\n",
       "    <tr>\n",
       "      <th>Date_Time</th>\n",
       "      <th></th>\n",
       "      <th></th>\n",
       "      <th></th>\n",
       "      <th></th>\n",
       "      <th></th>\n",
       "      <th></th>\n",
       "      <th></th>\n",
       "      <th></th>\n",
       "    </tr>\n",
       "  </thead>\n",
       "  <tbody>\n",
       "    <tr>\n",
       "      <th>2009-05-01 00:00:00</th>\n",
       "      <td>2009</td>\n",
       "      <td>May</td>\n",
       "      <td>1</td>\n",
       "      <td>Friday</td>\n",
       "      <td>0</td>\n",
       "      <td>52</td>\n",
       "      <td>1</td>\n",
       "      <td>333.911760</td>\n",
       "    </tr>\n",
       "    <tr>\n",
       "      <th>2009-05-01 01:00:00</th>\n",
       "      <td>2009</td>\n",
       "      <td>May</td>\n",
       "      <td>1</td>\n",
       "      <td>Friday</td>\n",
       "      <td>1</td>\n",
       "      <td>34</td>\n",
       "      <td>2</td>\n",
       "      <td>298.507819</td>\n",
       "    </tr>\n",
       "    <tr>\n",
       "      <th>2009-05-01 02:00:00</th>\n",
       "      <td>2009</td>\n",
       "      <td>May</td>\n",
       "      <td>1</td>\n",
       "      <td>Friday</td>\n",
       "      <td>2</td>\n",
       "      <td>19</td>\n",
       "      <td>3</td>\n",
       "      <td>275.212673</td>\n",
       "    </tr>\n",
       "    <tr>\n",
       "      <th>2009-05-01 03:00:00</th>\n",
       "      <td>2009</td>\n",
       "      <td>May</td>\n",
       "      <td>1</td>\n",
       "      <td>Friday</td>\n",
       "      <td>3</td>\n",
       "      <td>14</td>\n",
       "      <td>4</td>\n",
       "      <td>265.611264</td>\n",
       "    </tr>\n",
       "    <tr>\n",
       "      <th>2009-05-01 04:00:00</th>\n",
       "      <td>2009</td>\n",
       "      <td>May</td>\n",
       "      <td>1</td>\n",
       "      <td>Friday</td>\n",
       "      <td>4</td>\n",
       "      <td>15</td>\n",
       "      <td>5</td>\n",
       "      <td>250.829309</td>\n",
       "    </tr>\n",
       "  </tbody>\n",
       "</table>\n",
       "</div>"
      ],
      "text/plain": [
       "                     Year Month  Mdate     Day  Time  Hourly_Counts  Trend  \\\n",
       "Date_Time                                                                    \n",
       "2009-05-01 00:00:00  2009   May      1  Friday     0             52      1   \n",
       "2009-05-01 01:00:00  2009   May      1  Friday     1             34      2   \n",
       "2009-05-01 02:00:00  2009   May      1  Friday     2             19      3   \n",
       "2009-05-01 03:00:00  2009   May      1  Friday     3             14      4   \n",
       "2009-05-01 04:00:00  2009   May      1  Friday     4             15      5   \n",
       "\n",
       "                     PedestriansFC  \n",
       "Date_Time                           \n",
       "2009-05-01 00:00:00     333.911760  \n",
       "2009-05-01 01:00:00     298.507819  \n",
       "2009-05-01 02:00:00     275.212673  \n",
       "2009-05-01 03:00:00     265.611264  \n",
       "2009-05-01 04:00:00     250.829309  "
      ]
     },
     "execution_count": 14,
     "metadata": {},
     "output_type": "execute_result"
    }
   ],
   "source": [
    "df2.head()"
   ]
  },
  {
   "cell_type": "code",
   "execution_count": 15,
   "metadata": {},
   "outputs": [
    {
     "data": {
      "text/plain": [
       "<AxesSubplot:xlabel='Date_Time'>"
      ]
     },
     "execution_count": 15,
     "metadata": {},
     "output_type": "execute_result"
    },
    {
     "data": {
      "image/png": "[encoded data removed]",
      "text/plain": [
       "<Figure size 432x288 with 1 Axes>"
      ]
     },
     "metadata": {
      "needs_background": "light"
     },
     "output_type": "display_data"
    }
   ],
   "source": [
    "dfplot = df2.filter(['Hourly_Counts', 'PedestriansFC'])\n",
    "sns.lineplot(data=dfplot)"
   ]
  },
  {
   "cell_type": "code",
   "execution_count": 16,
   "metadata": {},
   "outputs": [
    {
     "data": {
      "text/plain": [
       "<AxesSubplot:xlabel='Date_Time'>"
      ]
     },
     "execution_count": 16,
     "metadata": {},
     "output_type": "execute_result"
    },
    {
     "data": {
      "image/png": "[encoded data removed]",
      "text/plain": [
       "<Figure size 432x288 with 1 Axes>"
      ]
     },
     "metadata": {
      "needs_background": "light"
     },
     "output_type": "display_data"
    }
   ],
   "source": [
    "dfplot = df2.filter(['Hourly_Counts', 'PedestriansFC'])[(df2.index >= '2019-12-25') & (df2.index <= '2020-01-01')]\n",
    "sns.lineplot(data=dfplot)"
   ]
  },
  {
   "cell_type": "code",
   "execution_count": 17,
   "metadata": {},
   "outputs": [],
   "source": [
    "df3 = df2[df2.index < '2020-01-01']"
   ]
  },
  {
   "cell_type": "code",
   "execution_count": 18,
   "metadata": {},
   "outputs": [],
   "source": [
    "insample_err = df3.Hourly_Counts - df3.PedestriansFC"
   ]
  },
  {
   "cell_type": "code",
   "execution_count": 19,
   "metadata": {},
   "outputs": [
    {
     "data": {
      "text/plain": [
       "Date_Time\n",
       "2009-05-01 00:00:00   -281.911760\n",
       "2009-05-01 01:00:00   -264.507819\n",
       "2009-05-01 02:00:00   -256.212673\n",
       "2009-05-01 03:00:00   -251.611264\n",
       "2009-05-01 04:00:00   -235.829309\n",
       "                          ...    \n",
       "2019-12-31 19:00:00    277.008497\n",
       "2019-12-31 20:00:00    267.364473\n",
       "2019-12-31 21:00:00    154.155243\n",
       "2019-12-31 22:00:00    450.993459\n",
       "2019-12-31 23:00:00     80.625297\n",
       "Length: 92563, dtype: float64"
      ]
     },
     "execution_count": 19,
     "metadata": {},
     "output_type": "execute_result"
    }
   ],
   "source": [
    "insample_err"
   ]
  },
  {
   "cell_type": "code",
   "execution_count": 20,
   "metadata": {},
   "outputs": [
    {
     "data": {
      "text/html": [
       "<div>\n",
       "<style scoped>\n",
       "    .dataframe tbody tr th:only-of-type {\n",
       "        vertical-align: middle;\n",
       "    }\n",
       "\n",
       "    .dataframe tbody tr th {\n",
       "        vertical-align: top;\n",
       "    }\n",
       "\n",
       "    .dataframe thead th {\n",
       "        text-align: right;\n",
       "    }\n",
       "</style>\n",
       "<table border=\"1\" class=\"dataframe\">\n",
       "  <thead>\n",
       "    <tr style=\"text-align: right;\">\n",
       "      <th></th>\n",
       "      <th>Year</th>\n",
       "      <th>Month</th>\n",
       "      <th>Mdate</th>\n",
       "      <th>Day</th>\n",
       "      <th>Time</th>\n",
       "      <th>Hourly_Counts</th>\n",
       "      <th>Trend</th>\n",
       "      <th>PedestriansFC</th>\n",
       "    </tr>\n",
       "    <tr>\n",
       "      <th>Date_Time</th>\n",
       "      <th></th>\n",
       "      <th></th>\n",
       "      <th></th>\n",
       "      <th></th>\n",
       "      <th></th>\n",
       "      <th></th>\n",
       "      <th></th>\n",
       "      <th></th>\n",
       "    </tr>\n",
       "  </thead>\n",
       "  <tbody>\n",
       "    <tr>\n",
       "      <th>2022-01-01</th>\n",
       "      <td>2022</td>\n",
       "      <td>January</td>\n",
       "      <td>1</td>\n",
       "      <td>Saturday</td>\n",
       "      <td>0</td>\n",
       "      <td>286</td>\n",
       "      <td>110108</td>\n",
       "      <td>9.46827</td>\n",
       "    </tr>\n",
       "  </tbody>\n",
       "</table>\n",
       "</div>"
      ],
      "text/plain": [
       "            Year    Month  Mdate       Day  Time  Hourly_Counts   Trend  \\\n",
       "Date_Time                                                                 \n",
       "2022-01-01  2022  January      1  Saturday     0            286  110108   \n",
       "\n",
       "            PedestriansFC  \n",
       "Date_Time                  \n",
       "2022-01-01        9.46827  "
      ]
     },
     "execution_count": 20,
     "metadata": {},
     "output_type": "execute_result"
    }
   ],
   "source": [
    "df2[df2.index == '2022-01-01']"
   ]
  },
  {
   "cell_type": "code",
   "execution_count": 34,
   "metadata": {},
   "outputs": [],
   "source": [
    "errsample = np.random.choice(insample_err, 10000)"
   ]
  },
  {
   "cell_type": "code",
   "execution_count": 35,
   "metadata": {},
   "outputs": [
    {
     "data": {
      "text/plain": [
       "10000"
      ]
     },
     "execution_count": 35,
     "metadata": {},
     "output_type": "execute_result"
    }
   ],
   "source": [
    "len(errsample)\n",
    "\n",
    "\n"
   ]
  },
  {
   "cell_type": "code",
   "execution_count": 37,
   "metadata": {},
   "outputs": [
    {
     "data": {
      "text/plain": [
       "(array([1.000e+00, 3.000e+00, 0.000e+00, 2.000e+00, 0.000e+00, 0.000e+00,\n",
       "        0.000e+00, 1.000e+00, 0.000e+00, 0.000e+00, 3.000e+00, 1.000e+00,\n",
       "        1.000e+00, 1.000e+00, 1.000e+00, 2.000e+00, 1.000e+00, 2.000e+00,\n",
       "        2.000e+00, 6.000e+00, 6.000e+00, 3.000e+00, 5.000e+00, 1.000e+01,\n",
       "        1.300e+01, 1.800e+01, 2.000e+01, 2.600e+01, 5.500e+01, 8.700e+01,\n",
       "        1.110e+02, 2.180e+02, 2.930e+02, 4.150e+02, 5.630e+02, 7.690e+02,\n",
       "        1.047e+03, 1.408e+03, 1.404e+03, 1.089e+03, 6.860e+02, 4.800e+02,\n",
       "        3.350e+02, 2.050e+02, 1.240e+02, 9.300e+01, 8.000e+01, 9.500e+01,\n",
       "        6.400e+01, 6.300e+01, 4.000e+01, 2.300e+01, 1.900e+01, 1.000e+01,\n",
       "        1.500e+01, 1.800e+01, 1.100e+01, 6.000e+00, 3.000e+00, 4.000e+00,\n",
       "        7.000e+00, 4.000e+00, 3.000e+00, 8.000e+00, 0.000e+00, 2.000e+00,\n",
       "        2.000e+00, 2.000e+00, 1.000e+00, 1.000e+00, 1.000e+00, 0.000e+00,\n",
       "        0.000e+00, 0.000e+00, 1.000e+00, 0.000e+00, 2.000e+00, 1.000e+00,\n",
       "        0.000e+00, 0.000e+00, 1.000e+00, 0.000e+00, 0.000e+00, 0.000e+00,\n",
       "        1.000e+00, 1.000e+00, 0.000e+00, 0.000e+00, 0.000e+00, 0.000e+00,\n",
       "        0.000e+00, 0.000e+00, 0.000e+00, 0.000e+00, 0.000e+00, 0.000e+00,\n",
       "        0.000e+00, 0.000e+00, 0.000e+00, 1.000e+00]),\n",
       " array([-3.00209718e+03, -2.92317879e+03, -2.84426041e+03, -2.76534203e+03,\n",
       "        -2.68642365e+03, -2.60750527e+03, -2.52858689e+03, -2.44966850e+03,\n",
       "        -2.37075012e+03, -2.29183174e+03, -2.21291336e+03, -2.13399498e+03,\n",
       "        -2.05507660e+03, -1.97615821e+03, -1.89723983e+03, -1.81832145e+03,\n",
       "        -1.73940307e+03, -1.66048469e+03, -1.58156631e+03, -1.50264792e+03,\n",
       "        -1.42372954e+03, -1.34481116e+03, -1.26589278e+03, -1.18697440e+03,\n",
       "        -1.10805602e+03, -1.02913763e+03, -9.50219253e+02, -8.71300871e+02,\n",
       "        -7.92382490e+02, -7.13464108e+02, -6.34545726e+02, -5.55627345e+02,\n",
       "        -4.76708963e+02, -3.97790582e+02, -3.18872200e+02, -2.39953818e+02,\n",
       "        -1.61035437e+02, -8.21170551e+01, -3.19867352e+00,  7.57197081e+01,\n",
       "         1.54638090e+02,  2.33556471e+02,  3.12474853e+02,  3.91393235e+02,\n",
       "         4.70311616e+02,  5.49229998e+02,  6.28148379e+02,  7.07066761e+02,\n",
       "         7.85985143e+02,  8.64903524e+02,  9.43821906e+02,  1.02274029e+03,\n",
       "         1.10165867e+03,  1.18057705e+03,  1.25949543e+03,  1.33841381e+03,\n",
       "         1.41733220e+03,  1.49625058e+03,  1.57516896e+03,  1.65408734e+03,\n",
       "         1.73300572e+03,  1.81192410e+03,  1.89084249e+03,  1.96976087e+03,\n",
       "         2.04867925e+03,  2.12759763e+03,  2.20651601e+03,  2.28543439e+03,\n",
       "         2.36435278e+03,  2.44327116e+03,  2.52218954e+03,  2.60110792e+03,\n",
       "         2.68002630e+03,  2.75894468e+03,  2.83786306e+03,  2.91678145e+03,\n",
       "         2.99569983e+03,  3.07461821e+03,  3.15353659e+03,  3.23245497e+03,\n",
       "         3.31137335e+03,  3.39029174e+03,  3.46921012e+03,  3.54812850e+03,\n",
       "         3.62704688e+03,  3.70596526e+03,  3.78488364e+03,  3.86380203e+03,\n",
       "         3.94272041e+03,  4.02163879e+03,  4.10055717e+03,  4.17947555e+03,\n",
       "         4.25839393e+03,  4.33731232e+03,  4.41623070e+03,  4.49514908e+03,\n",
       "         4.57406746e+03,  4.65298584e+03,  4.73190422e+03,  4.81082261e+03,\n",
       "         4.88974099e+03]),\n",
       " <BarContainer object of 100 artists>)"
      ]
     },
     "execution_count": 37,
     "metadata": {},
     "output_type": "execute_result"
    },
    {
     "data": {
      "image/png": "[encoded data removed]",
      "text/plain": [
       "<Figure size 432x288 with 1 Axes>"
      ]
     },
     "metadata": {
      "needs_background": "light"
     },
     "output_type": "display_data"
    }
   ],
   "source": [
    "import matplotlib.pyplot as plt\n",
    "plt.hist(errsample, bins=100)"
   ]
  },
  {
   "cell_type": "code",
   "execution_count": 46,
   "metadata": {},
   "outputs": [],
   "source": [
    "#now let's do a histogram of the forecast\n",
    "forecast_distribution = df2[df2.index == '2020-01-01'].PedestriansFC.values + errsample"
   ]
  },
  {
   "cell_type": "code",
   "execution_count": 48,
   "metadata": {},
   "outputs": [
    {
     "data": {
      "text/plain": [
       "(array([1.000e+00, 3.000e+00, 0.000e+00, 2.000e+00, 0.000e+00, 0.000e+00,\n",
       "        0.000e+00, 1.000e+00, 0.000e+00, 0.000e+00, 3.000e+00, 1.000e+00,\n",
       "        1.000e+00, 1.000e+00, 1.000e+00, 2.000e+00, 1.000e+00, 2.000e+00,\n",
       "        2.000e+00, 6.000e+00, 6.000e+00, 3.000e+00, 5.000e+00, 1.000e+01,\n",
       "        1.300e+01, 1.800e+01, 2.000e+01, 2.600e+01, 5.500e+01, 8.700e+01,\n",
       "        1.110e+02, 2.180e+02, 2.930e+02, 4.150e+02, 5.630e+02, 7.690e+02,\n",
       "        1.047e+03, 1.408e+03, 1.404e+03, 1.089e+03, 6.860e+02, 4.800e+02,\n",
       "        3.350e+02, 2.050e+02, 1.240e+02, 9.300e+01, 8.000e+01, 9.500e+01,\n",
       "        6.400e+01, 6.300e+01, 4.000e+01, 2.300e+01, 1.900e+01, 1.000e+01,\n",
       "        1.500e+01, 1.800e+01, 1.100e+01, 6.000e+00, 3.000e+00, 4.000e+00,\n",
       "        7.000e+00, 4.000e+00, 3.000e+00, 8.000e+00, 0.000e+00, 2.000e+00,\n",
       "        2.000e+00, 2.000e+00, 1.000e+00, 1.000e+00, 1.000e+00, 0.000e+00,\n",
       "        0.000e+00, 0.000e+00, 1.000e+00, 0.000e+00, 2.000e+00, 1.000e+00,\n",
       "        0.000e+00, 0.000e+00, 1.000e+00, 0.000e+00, 0.000e+00, 0.000e+00,\n",
       "        1.000e+00, 1.000e+00, 0.000e+00, 0.000e+00, 0.000e+00, 0.000e+00,\n",
       "        0.000e+00, 0.000e+00, 0.000e+00, 0.000e+00, 0.000e+00, 0.000e+00,\n",
       "        0.000e+00, 0.000e+00, 0.000e+00, 1.000e+00]),\n",
       " array([-3047.51133627, -2968.59295465, -2889.67457302, -2810.7561914 ,\n",
       "        -2731.83780978, -2652.91942816, -2574.00104654, -2495.08266491,\n",
       "        -2416.16428329, -2337.24590167, -2258.32752005, -2179.40913842,\n",
       "        -2100.4907568 , -2021.57237518, -1942.65399356, -1863.73561194,\n",
       "        -1784.81723031, -1705.89884869, -1626.98046707, -1548.06208545,\n",
       "        -1469.14370383, -1390.2253222 , -1311.30694058, -1232.38855896,\n",
       "        -1153.47017734, -1074.55179572,  -995.63341409,  -916.71503247,\n",
       "         -837.79665085,  -758.87826923,  -679.9598876 ,  -601.04150598,\n",
       "         -522.12312436,  -443.20474274,  -364.28636112,  -285.36797949,\n",
       "         -206.44959787,  -127.53121625,   -48.61283463,    30.30554699,\n",
       "          109.22392862,   188.14231024,   267.06069186,   345.97907348,\n",
       "          424.8974551 ,   503.81583673,   582.73421835,   661.65259997,\n",
       "          740.57098159,   819.48936322,   898.40774484,   977.32612646,\n",
       "         1056.24450808,  1135.1628897 ,  1214.08127133,  1292.99965295,\n",
       "         1371.91803457,  1450.83641619,  1529.75479781,  1608.67317944,\n",
       "         1687.59156106,  1766.50994268,  1845.4283243 ,  1924.34670592,\n",
       "         2003.26508755,  2082.18346917,  2161.10185079,  2240.02023241,\n",
       "         2318.93861404,  2397.85699566,  2476.77537728,  2555.6937589 ,\n",
       "         2634.61214052,  2713.53052215,  2792.44890377,  2871.36728539,\n",
       "         2950.28566701,  3029.20404863,  3108.12243026,  3187.04081188,\n",
       "         3265.9591935 ,  3344.87757512,  3423.79595674,  3502.71433837,\n",
       "         3581.63271999,  3660.55110161,  3739.46948323,  3818.38786486,\n",
       "         3897.30624648,  3976.2246281 ,  4055.14300972,  4134.06139134,\n",
       "         4212.97977297,  4291.89815459,  4370.81653621,  4449.73491783,\n",
       "         4528.65329945,  4607.57168108,  4686.4900627 ,  4765.40844432,\n",
       "         4844.32682594]),\n",
       " <BarContainer object of 100 artists>)"
      ]
     },
     "execution_count": 48,
     "metadata": {},
     "output_type": "execute_result"
    },
    {
     "data": {
      "image/png": "[encoded data removed]",
      "text/plain": [
       "<Figure size 432x288 with 1 Axes>"
      ]
     },
     "metadata": {
      "needs_background": "light"
     },
     "output_type": "display_data"
    }
   ],
   "source": [
    "plt.hist(forecast_distribution, bins=100)\n",
    "#this shows s how wrong we can be"
   ]
  },
  {
   "cell_type": "code",
   "execution_count": 52,
   "metadata": {},
   "outputs": [
    {
     "data": {
      "text/plain": [
       "0.6515"
      ]
     },
     "execution_count": 52,
     "metadata": {},
     "output_type": "execute_result"
    }
   ],
   "source": [
    "np.sum(np.abs(errsample) >= 100 ) / len(errsample)\n",
    "# i can be wrong by at 100 or more by 65.15%"
   ]
  },
  {
   "cell_type": "code",
   "execution_count": 54,
   "metadata": {},
   "outputs": [
    {
     "data": {
      "text/plain": [
       "0.0229"
      ]
     },
     "execution_count": 54,
     "metadata": {},
     "output_type": "execute_result"
    }
   ],
   "source": [
    "np.sum(np.abs(errsample) >= 1000) / len(errsample)\n",
    "# i can be wrong by at 1000 or more by 2.29%"
   ]
  },
  {
   "cell_type": "code",
   "execution_count": 65,
   "metadata": {},
   "outputs": [
    {
     "data": {
      "text/plain": [
       "0.0999"
      ]
     },
     "execution_count": 65,
     "metadata": {},
     "output_type": "execute_result"
    }
   ],
   "source": [
    "np.sum(np.abs(errsample) >= 545) / len(errsample)\n",
    "# i can be wrong by at 545 or more by 10% (10% alpha)\n",
    "# 90% is under 545 "
   ]
  }
 ],
 "metadata": {
  "interpreter": {
   "hash": "8fb8326e71429570233a3311511fa147ec956938a2ea72d50a4d602b71daaae4"
  },
  "kernelspec": {
   "display_name": "Python 3.9.7",
   "language": "python",
   "name": "python3"
  },
  "language_info": {
   "codemirror_mode": {
    "name": "ipython",
    "version": 3
   },
   "file_extension": ".py",
   "mimetype": "text/x-python",
   "name": "python",
   "nbconvert_exporter": "python",
   "pygments_lexer": "ipython3",
   "version": "3.9.7"
  },
  "orig_nbformat": 4
 },
 "nbformat": 4,
 "nbformat_minor": 2
}
