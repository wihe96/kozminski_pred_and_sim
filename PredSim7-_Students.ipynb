{
 "cells": [
  {
   "cell_type": "markdown",
   "metadata": {},
   "source": [
    "Source:\n",
    "https://data.melbourne.vic.gov.au/Transport/Pedestrian-Counting-System-Monthly-counts-per-hour/b2ak-trbp"
   ]
  },
  {
   "cell_type": "code",
   "execution_count": 1,
   "metadata": {},
   "outputs": [],
   "source": [
    "import pandas as pd\n",
    "import seaborn as sns\n",
    "import numpy as np"
   ]
  },
  {
   "cell_type": "code",
   "execution_count": 2,
   "metadata": {},
   "outputs": [],
   "source": [
    "df = pd.read_csv(\"Pedestrians.csv\", thousands = \",\")\n",
    "df.index = df.Date_Time.astype('datetime64')\n",
    "df2 = df.drop_duplicates(subset = 'Date_Time', keep = False)"
   ]
  },
  {
   "cell_type": "code",
   "execution_count": 3,
   "metadata": {},
   "outputs": [],
   "source": [
    "del df2['Sensor_ID']\n",
    "del df2['Sensor_Name']\n",
    "del df2['ID']\n",
    "del df2['Date_Time']"
   ]
  },
  {
   "cell_type": "code",
   "execution_count": 4,
   "metadata": {},
   "outputs": [
    {
     "name": "stderr",
     "output_type": "stream",
     "text": [
      "c:\\Users\\wh\\anaconda3_python\\lib\\site-packages\\pandas\\core\\frame.py:6393: SettingWithCopyWarning: \n",
      "A value is trying to be set on a copy of a slice from a DataFrame\n",
      "\n",
      "See the caveats in the documentation: https://pandas.pydata.org/pandas-docs/stable/user_guide/indexing.html#returning-a-view-versus-a-copy\n",
      "  return super().sort_index(\n"
     ]
    }
   ],
   "source": [
    "df2.sort_index(inplace=True)"
   ]
  },
  {
   "cell_type": "code",
   "execution_count": 5,
   "metadata": {},
   "outputs": [
    {
     "data": {
      "text/plain": [
       "<AxesSubplot:xlabel='Date_Time', ylabel='Hourly_Counts'>"
      ]
     },
     "execution_count": 5,
     "metadata": {},
     "output_type": "execute_result"
    },
    {
     "data": {
      "image/png": "[encoded data removed]",
      "text/plain": [
       "<Figure size 432x288 with 1 Axes>"
      ]
     },
     "metadata": {
      "needs_background": "light"
     },
     "output_type": "display_data"
    }
   ],
   "source": [
    "sns.lineplot(x=df2.index, y='Hourly_Counts', data=df2)"
   ]
  },
  {
   "cell_type": "code",
   "execution_count": 6,
   "metadata": {},
   "outputs": [
    {
     "data": {
      "text/html": [
       "<div>\n",
       "<style scoped>\n",
       "    .dataframe tbody tr th:only-of-type {\n",
       "        vertical-align: middle;\n",
       "    }\n",
       "\n",
       "    .dataframe tbody tr th {\n",
       "        vertical-align: top;\n",
       "    }\n",
       "\n",
       "    .dataframe thead th {\n",
       "        text-align: right;\n",
       "    }\n",
       "</style>\n",
       "<table border=\"1\" class=\"dataframe\">\n",
       "  <thead>\n",
       "    <tr style=\"text-align: right;\">\n",
       "      <th></th>\n",
       "      <th>Year</th>\n",
       "      <th>Month</th>\n",
       "      <th>Mdate</th>\n",
       "      <th>Day</th>\n",
       "      <th>Time</th>\n",
       "      <th>Hourly_Counts</th>\n",
       "    </tr>\n",
       "    <tr>\n",
       "      <th>Date_Time</th>\n",
       "      <th></th>\n",
       "      <th></th>\n",
       "      <th></th>\n",
       "      <th></th>\n",
       "      <th></th>\n",
       "      <th></th>\n",
       "    </tr>\n",
       "  </thead>\n",
       "  <tbody>\n",
       "    <tr>\n",
       "      <th>2009-05-01 00:00:00</th>\n",
       "      <td>2009</td>\n",
       "      <td>May</td>\n",
       "      <td>1</td>\n",
       "      <td>Friday</td>\n",
       "      <td>0</td>\n",
       "      <td>52</td>\n",
       "    </tr>\n",
       "    <tr>\n",
       "      <th>2009-05-01 01:00:00</th>\n",
       "      <td>2009</td>\n",
       "      <td>May</td>\n",
       "      <td>1</td>\n",
       "      <td>Friday</td>\n",
       "      <td>1</td>\n",
       "      <td>34</td>\n",
       "    </tr>\n",
       "    <tr>\n",
       "      <th>2009-05-01 02:00:00</th>\n",
       "      <td>2009</td>\n",
       "      <td>May</td>\n",
       "      <td>1</td>\n",
       "      <td>Friday</td>\n",
       "      <td>2</td>\n",
       "      <td>19</td>\n",
       "    </tr>\n",
       "    <tr>\n",
       "      <th>2009-05-01 03:00:00</th>\n",
       "      <td>2009</td>\n",
       "      <td>May</td>\n",
       "      <td>1</td>\n",
       "      <td>Friday</td>\n",
       "      <td>3</td>\n",
       "      <td>14</td>\n",
       "    </tr>\n",
       "    <tr>\n",
       "      <th>2009-05-01 04:00:00</th>\n",
       "      <td>2009</td>\n",
       "      <td>May</td>\n",
       "      <td>1</td>\n",
       "      <td>Friday</td>\n",
       "      <td>4</td>\n",
       "      <td>15</td>\n",
       "    </tr>\n",
       "  </tbody>\n",
       "</table>\n",
       "</div>"
      ],
      "text/plain": [
       "                     Year Month  Mdate     Day  Time  Hourly_Counts\n",
       "Date_Time                                                          \n",
       "2009-05-01 00:00:00  2009   May      1  Friday     0             52\n",
       "2009-05-01 01:00:00  2009   May      1  Friday     1             34\n",
       "2009-05-01 02:00:00  2009   May      1  Friday     2             19\n",
       "2009-05-01 03:00:00  2009   May      1  Friday     3             14\n",
       "2009-05-01 04:00:00  2009   May      1  Friday     4             15"
      ]
     },
     "execution_count": 6,
     "metadata": {},
     "output_type": "execute_result"
    }
   ],
   "source": [
    "df2.head()"
   ]
  },
  {
   "cell_type": "code",
   "execution_count": 7,
   "metadata": {},
   "outputs": [
    {
     "data": {
      "text/html": [
       "<div>\n",
       "<style scoped>\n",
       "    .dataframe tbody tr th:only-of-type {\n",
       "        vertical-align: middle;\n",
       "    }\n",
       "\n",
       "    .dataframe tbody tr th {\n",
       "        vertical-align: top;\n",
       "    }\n",
       "\n",
       "    .dataframe thead th {\n",
       "        text-align: right;\n",
       "    }\n",
       "</style>\n",
       "<table border=\"1\" class=\"dataframe\">\n",
       "  <thead>\n",
       "    <tr style=\"text-align: right;\">\n",
       "      <th></th>\n",
       "      <th>Year</th>\n",
       "      <th>Month</th>\n",
       "      <th>Mdate</th>\n",
       "      <th>Day</th>\n",
       "      <th>Time</th>\n",
       "      <th>Hourly_Counts</th>\n",
       "    </tr>\n",
       "    <tr>\n",
       "      <th>Date_Time</th>\n",
       "      <th></th>\n",
       "      <th></th>\n",
       "      <th></th>\n",
       "      <th></th>\n",
       "      <th></th>\n",
       "      <th></th>\n",
       "    </tr>\n",
       "  </thead>\n",
       "  <tbody>\n",
       "    <tr>\n",
       "      <th>2022-04-30 19:00:00</th>\n",
       "      <td>2022</td>\n",
       "      <td>April</td>\n",
       "      <td>30</td>\n",
       "      <td>Saturday</td>\n",
       "      <td>19</td>\n",
       "      <td>489</td>\n",
       "    </tr>\n",
       "    <tr>\n",
       "      <th>2022-04-30 20:00:00</th>\n",
       "      <td>2022</td>\n",
       "      <td>April</td>\n",
       "      <td>30</td>\n",
       "      <td>Saturday</td>\n",
       "      <td>20</td>\n",
       "      <td>403</td>\n",
       "    </tr>\n",
       "    <tr>\n",
       "      <th>2022-04-30 21:00:00</th>\n",
       "      <td>2022</td>\n",
       "      <td>April</td>\n",
       "      <td>30</td>\n",
       "      <td>Saturday</td>\n",
       "      <td>21</td>\n",
       "      <td>310</td>\n",
       "    </tr>\n",
       "    <tr>\n",
       "      <th>2022-04-30 22:00:00</th>\n",
       "      <td>2022</td>\n",
       "      <td>April</td>\n",
       "      <td>30</td>\n",
       "      <td>Saturday</td>\n",
       "      <td>22</td>\n",
       "      <td>445</td>\n",
       "    </tr>\n",
       "    <tr>\n",
       "      <th>2022-04-30 23:00:00</th>\n",
       "      <td>2022</td>\n",
       "      <td>April</td>\n",
       "      <td>30</td>\n",
       "      <td>Saturday</td>\n",
       "      <td>23</td>\n",
       "      <td>244</td>\n",
       "    </tr>\n",
       "  </tbody>\n",
       "</table>\n",
       "</div>"
      ],
      "text/plain": [
       "                     Year  Month  Mdate       Day  Time  Hourly_Counts\n",
       "Date_Time                                                             \n",
       "2022-04-30 19:00:00  2022  April     30  Saturday    19            489\n",
       "2022-04-30 20:00:00  2022  April     30  Saturday    20            403\n",
       "2022-04-30 21:00:00  2022  April     30  Saturday    21            310\n",
       "2022-04-30 22:00:00  2022  April     30  Saturday    22            445\n",
       "2022-04-30 23:00:00  2022  April     30  Saturday    23            244"
      ]
     },
     "execution_count": 7,
     "metadata": {},
     "output_type": "execute_result"
    }
   ],
   "source": [
    "df2.tail()"
   ]
  },
  {
   "cell_type": "code",
   "execution_count": 8,
   "metadata": {},
   "outputs": [],
   "source": [
    "import statsmodels.formula.api as sm"
   ]
  },
  {
   "cell_type": "code",
   "execution_count": 9,
   "metadata": {},
   "outputs": [
    {
     "name": "stderr",
     "output_type": "stream",
     "text": [
      "C:\\Users\\wh\\AppData\\Local\\Temp/ipykernel_27972/2290489968.py:1: SettingWithCopyWarning: \n",
      "A value is trying to be set on a copy of a slice from a DataFrame.\n",
      "Try using .loc[row_indexer,col_indexer] = value instead\n",
      "\n",
      "See the caveats in the documentation: https://pandas.pydata.org/pandas-docs/stable/user_guide/indexing.html#returning-a-view-versus-a-copy\n",
      "  df2['Trend'] = range(1,len(df2)+1)\n"
     ]
    }
   ],
   "source": [
    "df2['Trend'] = range(1,len(df2)+1)"
   ]
  },
  {
   "cell_type": "code",
   "execution_count": 10,
   "metadata": {},
   "outputs": [
    {
     "name": "stderr",
     "output_type": "stream",
     "text": [
      "C:\\Users\\wh\\AppData\\Local\\Temp/ipykernel_27972/648830483.py:1: SettingWithCopyWarning: \n",
      "A value is trying to be set on a copy of a slice from a DataFrame.\n",
      "Try using .loc[row_indexer,col_indexer] = value instead\n",
      "\n",
      "See the caveats in the documentation: https://pandas.pydata.org/pandas-docs/stable/user_guide/indexing.html#returning-a-view-versus-a-copy\n",
      "  df2['LogPed'] = np.log(df2.Hourly_Counts+1)\n"
     ]
    }
   ],
   "source": [
    "df2['LogPed'] = np.log(df2.Hourly_Counts+1)"
   ]
  },
  {
   "cell_type": "code",
   "execution_count": 11,
   "metadata": {},
   "outputs": [],
   "source": [
    "df2_in = df2[df2.index <= \"2019-12-31\"]"
   ]
  },
  {
   "cell_type": "code",
   "execution_count": 12,
   "metadata": {},
   "outputs": [
    {
     "data": {
      "text/html": [
       "<table class=\"simpletable\">\n",
       "<caption>OLS Regression Results</caption>\n",
       "<tr>\n",
       "  <th>Dep. Variable:</th>         <td>LogPed</td>      <th>  R-squared:         </th> <td>   0.902</td> \n",
       "</tr>\n",
       "<tr>\n",
       "  <th>Model:</th>                   <td>OLS</td>       <th>  Adj. R-squared:    </th> <td>   0.902</td> \n",
       "</tr>\n",
       "<tr>\n",
       "  <th>Method:</th>             <td>Least Squares</td>  <th>  F-statistic:       </th> <td>2.088e+04</td>\n",
       "</tr>\n",
       "<tr>\n",
       "  <th>Date:</th>             <td>Thu, 02 Jun 2022</td> <th>  Prob (F-statistic):</th>  <td>  0.00</td>  \n",
       "</tr>\n",
       "<tr>\n",
       "  <th>Time:</th>                 <td>17:30:38</td>     <th>  Log-Likelihood:    </th> <td> -78716.</td> \n",
       "</tr>\n",
       "<tr>\n",
       "  <th>No. Observations:</th>      <td> 92540</td>      <th>  AIC:               </th> <td>1.575e+05</td>\n",
       "</tr>\n",
       "<tr>\n",
       "  <th>Df Residuals:</th>          <td> 92498</td>      <th>  BIC:               </th> <td>1.579e+05</td>\n",
       "</tr>\n",
       "<tr>\n",
       "  <th>Df Model:</th>              <td>    41</td>      <th>                     </th>     <td> </td>    \n",
       "</tr>\n",
       "<tr>\n",
       "  <th>Covariance Type:</th>      <td>nonrobust</td>    <th>                     </th>     <td> </td>    \n",
       "</tr>\n",
       "</table>\n",
       "<table class=\"simpletable\">\n",
       "<tr>\n",
       "            <td></td>               <th>coef</th>     <th>std err</th>      <th>t</th>      <th>P>|t|</th>  <th>[0.025</th>    <th>0.975]</th>  \n",
       "</tr>\n",
       "<tr>\n",
       "  <th>Intercept</th>             <td>    4.7090</td> <td>    0.012</td> <td>  377.045</td> <td> 0.000</td> <td>    4.685</td> <td>    4.734</td>\n",
       "</tr>\n",
       "<tr>\n",
       "  <th>C(Month)[T.August]</th>    <td>   -0.1836</td> <td>    0.009</td> <td>  -20.055</td> <td> 0.000</td> <td>   -0.202</td> <td>   -0.166</td>\n",
       "</tr>\n",
       "<tr>\n",
       "  <th>C(Month)[T.December]</th>  <td>    0.2797</td> <td>    0.009</td> <td>   30.526</td> <td> 0.000</td> <td>    0.262</td> <td>    0.298</td>\n",
       "</tr>\n",
       "<tr>\n",
       "  <th>C(Month)[T.February]</th>  <td>    0.0013</td> <td>    0.010</td> <td>    0.139</td> <td> 0.890</td> <td>   -0.017</td> <td>    0.020</td>\n",
       "</tr>\n",
       "<tr>\n",
       "  <th>C(Month)[T.January]</th>   <td>   -0.0337</td> <td>    0.009</td> <td>   -3.598</td> <td> 0.000</td> <td>   -0.052</td> <td>   -0.015</td>\n",
       "</tr>\n",
       "<tr>\n",
       "  <th>C(Month)[T.July]</th>      <td>   -0.1044</td> <td>    0.009</td> <td>  -11.400</td> <td> 0.000</td> <td>   -0.122</td> <td>   -0.086</td>\n",
       "</tr>\n",
       "<tr>\n",
       "  <th>C(Month)[T.June]</th>      <td>   -0.1382</td> <td>    0.009</td> <td>  -14.981</td> <td> 0.000</td> <td>   -0.156</td> <td>   -0.120</td>\n",
       "</tr>\n",
       "<tr>\n",
       "  <th>C(Month)[T.March]</th>     <td>    0.0082</td> <td>    0.009</td> <td>    0.878</td> <td> 0.380</td> <td>   -0.010</td> <td>    0.027</td>\n",
       "</tr>\n",
       "<tr>\n",
       "  <th>C(Month)[T.May]</th>       <td>   -0.1393</td> <td>    0.009</td> <td>  -15.208</td> <td> 0.000</td> <td>   -0.157</td> <td>   -0.121</td>\n",
       "</tr>\n",
       "<tr>\n",
       "  <th>C(Month)[T.November]</th>  <td>    0.0480</td> <td>    0.009</td> <td>    5.201</td> <td> 0.000</td> <td>    0.030</td> <td>    0.066</td>\n",
       "</tr>\n",
       "<tr>\n",
       "  <th>C(Month)[T.October]</th>   <td>   -0.0879</td> <td>    0.009</td> <td>   -9.534</td> <td> 0.000</td> <td>   -0.106</td> <td>   -0.070</td>\n",
       "</tr>\n",
       "<tr>\n",
       "  <th>C(Month)[T.September]</th> <td>   -0.1385</td> <td>    0.009</td> <td>  -14.658</td> <td> 0.000</td> <td>   -0.157</td> <td>   -0.120</td>\n",
       "</tr>\n",
       "<tr>\n",
       "  <th>C(Day)[T.Monday]</th>      <td>   -0.4196</td> <td>    0.007</td> <td>  -60.273</td> <td> 0.000</td> <td>   -0.433</td> <td>   -0.406</td>\n",
       "</tr>\n",
       "<tr>\n",
       "  <th>C(Day)[T.Saturday]</th>    <td>   -0.0079</td> <td>    0.007</td> <td>   -1.136</td> <td> 0.256</td> <td>   -0.022</td> <td>    0.006</td>\n",
       "</tr>\n",
       "<tr>\n",
       "  <th>C(Day)[T.Sunday]</th>      <td>   -0.2160</td> <td>    0.007</td> <td>  -31.024</td> <td> 0.000</td> <td>   -0.230</td> <td>   -0.202</td>\n",
       "</tr>\n",
       "<tr>\n",
       "  <th>C(Day)[T.Thursday]</th>    <td>   -0.2361</td> <td>    0.007</td> <td>  -33.866</td> <td> 0.000</td> <td>   -0.250</td> <td>   -0.222</td>\n",
       "</tr>\n",
       "<tr>\n",
       "  <th>C(Day)[T.Tuesday]</th>     <td>   -0.4255</td> <td>    0.007</td> <td>  -61.072</td> <td> 0.000</td> <td>   -0.439</td> <td>   -0.412</td>\n",
       "</tr>\n",
       "<tr>\n",
       "  <th>C(Day)[T.Wednesday]</th>   <td>   -0.3539</td> <td>    0.007</td> <td>  -50.762</td> <td> 0.000</td> <td>   -0.368</td> <td>   -0.340</td>\n",
       "</tr>\n",
       "<tr>\n",
       "  <th>C(Time)[T.1]</th>          <td>   -0.4888</td> <td>    0.013</td> <td>  -37.882</td> <td> 0.000</td> <td>   -0.514</td> <td>   -0.464</td>\n",
       "</tr>\n",
       "<tr>\n",
       "  <th>C(Time)[T.2]</th>          <td>   -0.9305</td> <td>    0.013</td> <td>  -72.093</td> <td> 0.000</td> <td>   -0.956</td> <td>   -0.905</td>\n",
       "</tr>\n",
       "<tr>\n",
       "  <th>C(Time)[T.3]</th>          <td>   -1.1425</td> <td>    0.013</td> <td>  -88.543</td> <td> 0.000</td> <td>   -1.168</td> <td>   -1.117</td>\n",
       "</tr>\n",
       "<tr>\n",
       "  <th>C(Time)[T.4]</th>          <td>   -1.3145</td> <td>    0.013</td> <td> -101.875</td> <td> 0.000</td> <td>   -1.340</td> <td>   -1.289</td>\n",
       "</tr>\n",
       "<tr>\n",
       "  <th>C(Time)[T.5]</th>          <td>   -1.0565</td> <td>    0.013</td> <td>  -81.882</td> <td> 0.000</td> <td>   -1.082</td> <td>   -1.031</td>\n",
       "</tr>\n",
       "<tr>\n",
       "  <th>C(Time)[T.6]</th>          <td>   -0.0963</td> <td>    0.013</td> <td>   -7.461</td> <td> 0.000</td> <td>   -0.122</td> <td>   -0.071</td>\n",
       "</tr>\n",
       "<tr>\n",
       "  <th>C(Time)[T.7]</th>          <td>    0.8692</td> <td>    0.013</td> <td>   67.364</td> <td> 0.000</td> <td>    0.844</td> <td>    0.894</td>\n",
       "</tr>\n",
       "<tr>\n",
       "  <th>C(Time)[T.8]</th>          <td>    1.7797</td> <td>    0.013</td> <td>  137.928</td> <td> 0.000</td> <td>    1.754</td> <td>    1.805</td>\n",
       "</tr>\n",
       "<tr>\n",
       "  <th>C(Time)[T.9]</th>          <td>    2.2579</td> <td>    0.013</td> <td>  174.985</td> <td> 0.000</td> <td>    2.233</td> <td>    2.283</td>\n",
       "</tr>\n",
       "<tr>\n",
       "  <th>C(Time)[T.10]</th>         <td>    2.7820</td> <td>    0.013</td> <td>  215.605</td> <td> 0.000</td> <td>    2.757</td> <td>    2.807</td>\n",
       "</tr>\n",
       "<tr>\n",
       "  <th>C(Time)[T.11]</th>         <td>    3.1748</td> <td>    0.013</td> <td>  246.047</td> <td> 0.000</td> <td>    3.149</td> <td>    3.200</td>\n",
       "</tr>\n",
       "<tr>\n",
       "  <th>C(Time)[T.12]</th>         <td>    3.6149</td> <td>    0.013</td> <td>  280.158</td> <td> 0.000</td> <td>    3.590</td> <td>    3.640</td>\n",
       "</tr>\n",
       "<tr>\n",
       "  <th>C(Time)[T.13]</th>         <td>    3.7303</td> <td>    0.013</td> <td>  289.096</td> <td> 0.000</td> <td>    3.705</td> <td>    3.756</td>\n",
       "</tr>\n",
       "<tr>\n",
       "  <th>C(Time)[T.14]</th>         <td>    3.5562</td> <td>    0.013</td> <td>  275.610</td> <td> 0.000</td> <td>    3.531</td> <td>    3.582</td>\n",
       "</tr>\n",
       "<tr>\n",
       "  <th>C(Time)[T.15]</th>         <td>    3.5215</td> <td>    0.013</td> <td>  272.918</td> <td> 0.000</td> <td>    3.496</td> <td>    3.547</td>\n",
       "</tr>\n",
       "<tr>\n",
       "  <th>C(Time)[T.16]</th>         <td>    3.4712</td> <td>    0.013</td> <td>  269.021</td> <td> 0.000</td> <td>    3.446</td> <td>    3.497</td>\n",
       "</tr>\n",
       "<tr>\n",
       "  <th>C(Time)[T.17]</th>         <td>    3.3599</td> <td>    0.013</td> <td>  260.396</td> <td> 0.000</td> <td>    3.335</td> <td>    3.385</td>\n",
       "</tr>\n",
       "<tr>\n",
       "  <th>C(Time)[T.18]</th>         <td>    2.8772</td> <td>    0.013</td> <td>  222.986</td> <td> 0.000</td> <td>    2.852</td> <td>    2.903</td>\n",
       "</tr>\n",
       "<tr>\n",
       "  <th>C(Time)[T.19]</th>         <td>    2.2717</td> <td>    0.013</td> <td>  176.055</td> <td> 0.000</td> <td>    2.246</td> <td>    2.297</td>\n",
       "</tr>\n",
       "<tr>\n",
       "  <th>C(Time)[T.20]</th>         <td>    1.8703</td> <td>    0.013</td> <td>  144.949</td> <td> 0.000</td> <td>    1.845</td> <td>    1.896</td>\n",
       "</tr>\n",
       "<tr>\n",
       "  <th>C(Time)[T.21]</th>         <td>    1.4738</td> <td>    0.013</td> <td>  114.220</td> <td> 0.000</td> <td>    1.449</td> <td>    1.499</td>\n",
       "</tr>\n",
       "<tr>\n",
       "  <th>C(Time)[T.22]</th>         <td>    1.0923</td> <td>    0.013</td> <td>   84.654</td> <td> 0.000</td> <td>    1.067</td> <td>    1.118</td>\n",
       "</tr>\n",
       "<tr>\n",
       "  <th>C(Time)[T.23]</th>         <td>    0.6036</td> <td>    0.013</td> <td>   46.781</td> <td> 0.000</td> <td>    0.578</td> <td>    0.629</td>\n",
       "</tr>\n",
       "<tr>\n",
       "  <th>Trend</th>                 <td>-1.305e-06</td> <td> 6.99e-08</td> <td>  -18.683</td> <td> 0.000</td> <td>-1.44e-06</td> <td>-1.17e-06</td>\n",
       "</tr>\n",
       "</table>\n",
       "<table class=\"simpletable\">\n",
       "<tr>\n",
       "  <th>Omnibus:</th>       <td>15504.853</td> <th>  Durbin-Watson:     </th>  <td>   0.577</td> \n",
       "</tr>\n",
       "<tr>\n",
       "  <th>Prob(Omnibus):</th>  <td> 0.000</td>   <th>  Jarque-Bera (JB):  </th> <td>165431.070</td>\n",
       "</tr>\n",
       "<tr>\n",
       "  <th>Skew:</th>           <td>-0.485</td>   <th>  Prob(JB):          </th>  <td>    0.00</td> \n",
       "</tr>\n",
       "<tr>\n",
       "  <th>Kurtosis:</th>       <td> 9.478</td>   <th>  Cond. No.          </th>  <td>1.31e+06</td> \n",
       "</tr>\n",
       "</table><br/><br/>Notes:<br/>[1] Standard Errors assume that the covariance matrix of the errors is correctly specified.<br/>[2] The condition number is large, 1.31e+06. This might indicate that there are<br/>strong multicollinearity or other numerical problems."
      ],
      "text/plain": [
       "<class 'statsmodels.iolib.summary.Summary'>\n",
       "\"\"\"\n",
       "                            OLS Regression Results                            \n",
       "==============================================================================\n",
       "Dep. Variable:                 LogPed   R-squared:                       0.902\n",
       "Model:                            OLS   Adj. R-squared:                  0.902\n",
       "Method:                 Least Squares   F-statistic:                 2.088e+04\n",
       "Date:                Thu, 02 Jun 2022   Prob (F-statistic):               0.00\n",
       "Time:                        17:30:38   Log-Likelihood:                -78716.\n",
       "No. Observations:               92540   AIC:                         1.575e+05\n",
       "Df Residuals:                   92498   BIC:                         1.579e+05\n",
       "Df Model:                          41                                         \n",
       "Covariance Type:            nonrobust                                         \n",
       "=========================================================================================\n",
       "                            coef    std err          t      P>|t|      [0.025      0.975]\n",
       "-----------------------------------------------------------------------------------------\n",
       "Intercept                 4.7090      0.012    377.045      0.000       4.685       4.734\n",
       "C(Month)[T.August]       -0.1836      0.009    -20.055      0.000      -0.202      -0.166\n",
       "C(Month)[T.December]      0.2797      0.009     30.526      0.000       0.262       0.298\n",
       "C(Month)[T.February]      0.0013      0.010      0.139      0.890      -0.017       0.020\n",
       "C(Month)[T.January]      -0.0337      0.009     -3.598      0.000      -0.052      -0.015\n",
       "C(Month)[T.July]         -0.1044      0.009    -11.400      0.000      -0.122      -0.086\n",
       "C(Month)[T.June]         -0.1382      0.009    -14.981      0.000      -0.156      -0.120\n",
       "C(Month)[T.March]         0.0082      0.009      0.878      0.380      -0.010       0.027\n",
       "C(Month)[T.May]          -0.1393      0.009    -15.208      0.000      -0.157      -0.121\n",
       "C(Month)[T.November]      0.0480      0.009      5.201      0.000       0.030       0.066\n",
       "C(Month)[T.October]      -0.0879      0.009     -9.534      0.000      -0.106      -0.070\n",
       "C(Month)[T.September]    -0.1385      0.009    -14.658      0.000      -0.157      -0.120\n",
       "C(Day)[T.Monday]         -0.4196      0.007    -60.273      0.000      -0.433      -0.406\n",
       "C(Day)[T.Saturday]       -0.0079      0.007     -1.136      0.256      -0.022       0.006\n",
       "C(Day)[T.Sunday]         -0.2160      0.007    -31.024      0.000      -0.230      -0.202\n",
       "C(Day)[T.Thursday]       -0.2361      0.007    -33.866      0.000      -0.250      -0.222\n",
       "C(Day)[T.Tuesday]        -0.4255      0.007    -61.072      0.000      -0.439      -0.412\n",
       "C(Day)[T.Wednesday]      -0.3539      0.007    -50.762      0.000      -0.368      -0.340\n",
       "C(Time)[T.1]             -0.4888      0.013    -37.882      0.000      -0.514      -0.464\n",
       "C(Time)[T.2]             -0.9305      0.013    -72.093      0.000      -0.956      -0.905\n",
       "C(Time)[T.3]             -1.1425      0.013    -88.543      0.000      -1.168      -1.117\n",
       "C(Time)[T.4]             -1.3145      0.013   -101.875      0.000      -1.340      -1.289\n",
       "C(Time)[T.5]             -1.0565      0.013    -81.882      0.000      -1.082      -1.031\n",
       "C(Time)[T.6]             -0.0963      0.013     -7.461      0.000      -0.122      -0.071\n",
       "C(Time)[T.7]              0.8692      0.013     67.364      0.000       0.844       0.894\n",
       "C(Time)[T.8]              1.7797      0.013    137.928      0.000       1.754       1.805\n",
       "C(Time)[T.9]              2.2579      0.013    174.985      0.000       2.233       2.283\n",
       "C(Time)[T.10]             2.7820      0.013    215.605      0.000       2.757       2.807\n",
       "C(Time)[T.11]             3.1748      0.013    246.047      0.000       3.149       3.200\n",
       "C(Time)[T.12]             3.6149      0.013    280.158      0.000       3.590       3.640\n",
       "C(Time)[T.13]             3.7303      0.013    289.096      0.000       3.705       3.756\n",
       "C(Time)[T.14]             3.5562      0.013    275.610      0.000       3.531       3.582\n",
       "C(Time)[T.15]             3.5215      0.013    272.918      0.000       3.496       3.547\n",
       "C(Time)[T.16]             3.4712      0.013    269.021      0.000       3.446       3.497\n",
       "C(Time)[T.17]             3.3599      0.013    260.396      0.000       3.335       3.385\n",
       "C(Time)[T.18]             2.8772      0.013    222.986      0.000       2.852       2.903\n",
       "C(Time)[T.19]             2.2717      0.013    176.055      0.000       2.246       2.297\n",
       "C(Time)[T.20]             1.8703      0.013    144.949      0.000       1.845       1.896\n",
       "C(Time)[T.21]             1.4738      0.013    114.220      0.000       1.449       1.499\n",
       "C(Time)[T.22]             1.0923      0.013     84.654      0.000       1.067       1.118\n",
       "C(Time)[T.23]             0.6036      0.013     46.781      0.000       0.578       0.629\n",
       "Trend                 -1.305e-06   6.99e-08    -18.683      0.000   -1.44e-06   -1.17e-06\n",
       "==============================================================================\n",
       "Omnibus:                    15504.853   Durbin-Watson:                   0.577\n",
       "Prob(Omnibus):                  0.000   Jarque-Bera (JB):           165431.070\n",
       "Skew:                          -0.485   Prob(JB):                         0.00\n",
       "Kurtosis:                       9.478   Cond. No.                     1.31e+06\n",
       "==============================================================================\n",
       "\n",
       "Notes:\n",
       "[1] Standard Errors assume that the covariance matrix of the errors is correctly specified.\n",
       "[2] The condition number is large, 1.31e+06. This might indicate that there are\n",
       "strong multicollinearity or other numerical problems.\n",
       "\"\"\""
      ]
     },
     "execution_count": 12,
     "metadata": {},
     "output_type": "execute_result"
    }
   ],
   "source": [
    "model = sm.ols(formula=\"LogPed ~ Trend + C(Month) + C(Day) + C(Time)\", data=df2_in)\n",
    "results = model.fit()\n",
    "results.summary()"
   ]
  },
  {
   "cell_type": "code",
   "execution_count": 13,
   "metadata": {},
   "outputs": [
    {
     "name": "stderr",
     "output_type": "stream",
     "text": [
      "C:\\Users\\wh\\AppData\\Local\\Temp/ipykernel_27972/1561756521.py:1: SettingWithCopyWarning: \n",
      "A value is trying to be set on a copy of a slice from a DataFrame.\n",
      "Try using .loc[row_indexer,col_indexer] = value instead\n",
      "\n",
      "See the caveats in the documentation: https://pandas.pydata.org/pandas-docs/stable/user_guide/indexing.html#returning-a-view-versus-a-copy\n",
      "  df2['LogPasFC'] = results.predict(df2)\n"
     ]
    }
   ],
   "source": [
    "df2['LogPasFC'] = results.predict(df2)"
   ]
  },
  {
   "cell_type": "code",
   "execution_count": 14,
   "metadata": {},
   "outputs": [
    {
     "name": "stderr",
     "output_type": "stream",
     "text": [
      "C:\\Users\\wh\\AppData\\Local\\Temp/ipykernel_27972/1925649351.py:1: SettingWithCopyWarning: \n",
      "A value is trying to be set on a copy of a slice from a DataFrame.\n",
      "Try using .loc[row_indexer,col_indexer] = value instead\n",
      "\n",
      "See the caveats in the documentation: https://pandas.pydata.org/pandas-docs/stable/user_guide/indexing.html#returning-a-view-versus-a-copy\n",
      "  df2['PedestriansFC'] = np.exp(df2.LogPasFC)-1\n"
     ]
    }
   ],
   "source": [
    "df2['PedestriansFC'] = np.exp(df2.LogPasFC)-1"
   ]
  },
  {
   "cell_type": "code",
   "execution_count": 15,
   "metadata": {},
   "outputs": [
    {
     "data": {
      "text/html": [
       "<div>\n",
       "<style scoped>\n",
       "    .dataframe tbody tr th:only-of-type {\n",
       "        vertical-align: middle;\n",
       "    }\n",
       "\n",
       "    .dataframe tbody tr th {\n",
       "        vertical-align: top;\n",
       "    }\n",
       "\n",
       "    .dataframe thead th {\n",
       "        text-align: right;\n",
       "    }\n",
       "</style>\n",
       "<table border=\"1\" class=\"dataframe\">\n",
       "  <thead>\n",
       "    <tr style=\"text-align: right;\">\n",
       "      <th></th>\n",
       "      <th>Year</th>\n",
       "      <th>Month</th>\n",
       "      <th>Mdate</th>\n",
       "      <th>Day</th>\n",
       "      <th>Time</th>\n",
       "      <th>Hourly_Counts</th>\n",
       "      <th>Trend</th>\n",
       "      <th>LogPed</th>\n",
       "      <th>LogPasFC</th>\n",
       "      <th>PedestriansFC</th>\n",
       "    </tr>\n",
       "    <tr>\n",
       "      <th>Date_Time</th>\n",
       "      <th></th>\n",
       "      <th></th>\n",
       "      <th></th>\n",
       "      <th></th>\n",
       "      <th></th>\n",
       "      <th></th>\n",
       "      <th></th>\n",
       "      <th></th>\n",
       "      <th></th>\n",
       "      <th></th>\n",
       "    </tr>\n",
       "  </thead>\n",
       "  <tbody>\n",
       "    <tr>\n",
       "      <th>2009-05-01 00:00:00</th>\n",
       "      <td>2009</td>\n",
       "      <td>May</td>\n",
       "      <td>1</td>\n",
       "      <td>Friday</td>\n",
       "      <td>0</td>\n",
       "      <td>52</td>\n",
       "      <td>1</td>\n",
       "      <td>3.970292</td>\n",
       "      <td>4.569740</td>\n",
       "      <td>95.519017</td>\n",
       "    </tr>\n",
       "    <tr>\n",
       "      <th>2009-05-01 01:00:00</th>\n",
       "      <td>2009</td>\n",
       "      <td>May</td>\n",
       "      <td>1</td>\n",
       "      <td>Friday</td>\n",
       "      <td>1</td>\n",
       "      <td>34</td>\n",
       "      <td>2</td>\n",
       "      <td>3.555348</td>\n",
       "      <td>4.080939</td>\n",
       "      <td>58.201060</td>\n",
       "    </tr>\n",
       "    <tr>\n",
       "      <th>2009-05-01 02:00:00</th>\n",
       "      <td>2009</td>\n",
       "      <td>May</td>\n",
       "      <td>1</td>\n",
       "      <td>Friday</td>\n",
       "      <td>2</td>\n",
       "      <td>19</td>\n",
       "      <td>3</td>\n",
       "      <td>2.995732</td>\n",
       "      <td>3.639201</td>\n",
       "      <td>37.061420</td>\n",
       "    </tr>\n",
       "    <tr>\n",
       "      <th>2009-05-01 03:00:00</th>\n",
       "      <td>2009</td>\n",
       "      <td>May</td>\n",
       "      <td>1</td>\n",
       "      <td>Friday</td>\n",
       "      <td>3</td>\n",
       "      <td>14</td>\n",
       "      <td>4</td>\n",
       "      <td>2.708050</td>\n",
       "      <td>3.427251</td>\n",
       "      <td>29.791868</td>\n",
       "    </tr>\n",
       "    <tr>\n",
       "      <th>2009-05-01 04:00:00</th>\n",
       "      <td>2009</td>\n",
       "      <td>May</td>\n",
       "      <td>1</td>\n",
       "      <td>Friday</td>\n",
       "      <td>4</td>\n",
       "      <td>15</td>\n",
       "      <td>5</td>\n",
       "      <td>2.772589</td>\n",
       "      <td>3.255231</td>\n",
       "      <td>24.925594</td>\n",
       "    </tr>\n",
       "  </tbody>\n",
       "</table>\n",
       "</div>"
      ],
      "text/plain": [
       "                     Year Month  Mdate     Day  Time  Hourly_Counts  Trend  \\\n",
       "Date_Time                                                                    \n",
       "2009-05-01 00:00:00  2009   May      1  Friday     0             52      1   \n",
       "2009-05-01 01:00:00  2009   May      1  Friday     1             34      2   \n",
       "2009-05-01 02:00:00  2009   May      1  Friday     2             19      3   \n",
       "2009-05-01 03:00:00  2009   May      1  Friday     3             14      4   \n",
       "2009-05-01 04:00:00  2009   May      1  Friday     4             15      5   \n",
       "\n",
       "                       LogPed  LogPasFC  PedestriansFC  \n",
       "Date_Time                                               \n",
       "2009-05-01 00:00:00  3.970292  4.569740      95.519017  \n",
       "2009-05-01 01:00:00  3.555348  4.080939      58.201060  \n",
       "2009-05-01 02:00:00  2.995732  3.639201      37.061420  \n",
       "2009-05-01 03:00:00  2.708050  3.427251      29.791868  \n",
       "2009-05-01 04:00:00  2.772589  3.255231      24.925594  "
      ]
     },
     "execution_count": 15,
     "metadata": {},
     "output_type": "execute_result"
    }
   ],
   "source": [
    "df2.head()"
   ]
  },
  {
   "cell_type": "code",
   "execution_count": 16,
   "metadata": {},
   "outputs": [
    {
     "data": {
      "text/plain": [
       "<AxesSubplot:xlabel='Date_Time'>"
      ]
     },
     "execution_count": 16,
     "metadata": {},
     "output_type": "execute_result"
    },
    {
     "data": {
      "image/png": "[encoded data removed]",
      "text/plain": [
       "<Figure size 432x288 with 1 Axes>"
      ]
     },
     "metadata": {
      "needs_background": "light"
     },
     "output_type": "display_data"
    }
   ],
   "source": [
    "dfplot = df2.filter(['Hourly_Counts', 'PedestriansFC'])\n",
    "sns.lineplot(data=dfplot)"
   ]
  },
  {
   "cell_type": "code",
   "execution_count": null,
   "metadata": {},
   "outputs": [],
   "source": []
  }
 ],
 "metadata": {
  "interpreter": {
   "hash": "8fb8326e71429570233a3311511fa147ec956938a2ea72d50a4d602b71daaae4"
  },
  "kernelspec": {
   "display_name": "Python 3.9.7",
   "language": "python",
   "name": "python3"
  },
  "language_info": {
   "codemirror_mode": {
    "name": "ipython",
    "version": 3
   },
   "file_extension": ".py",
   "mimetype": "text/x-python",
   "name": "python",
   "nbconvert_exporter": "python",
   "pygments_lexer": "ipython3",
   "version": "3.9.7"
  },
  "orig_nbformat": 4
 },
 "nbformat": 4,
 "nbformat_minor": 2
}
